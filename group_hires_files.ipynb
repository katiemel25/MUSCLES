{
 "cells": [
  {
   "cell_type": "code",
   "execution_count": 3,
   "metadata": {
    "collapsed": true
   },
   "outputs": [],
   "source": [
    "import os\n",
    "import re\n",
    "import shutil"
   ]
  },
  {
   "cell_type": "markdown",
   "metadata": {},
   "source": [
    "# DOUBLE CHECK NAME BEFORE RUNNING THIS!!\n",
    "\n",
    "## Always create backup of original files in \"HIRES_UNSORTED\" folder before sorting\n",
    "\n",
    "## Sort immediately after downloading the HIRES data and creating a backup"
   ]
  },
  {
   "cell_type": "code",
   "execution_count": 5,
   "metadata": {
    "collapsed": false
   },
   "outputs": [],
   "source": [
    "for root, dirs, files in os.walk(\"Spectra/GJ832/\"):\n",
    "    for fname in files:\n",
    "        if \"HI\" in fname: \n",
    "            # Match a string starting with 7 digits followed by everything else.\n",
    "            # Capture each part in a group so we can access them later.\n",
    "            match_object = re.match('(.*)_[0-9]{2}_flux.fits', fname)\n",
    "            if match_object is None:\n",
    "                # The regular expression did not match, ignore the file.\n",
    "                continue\n",
    "\n",
    "            # Form the new directory path using the number from the regular expression and the current root.\n",
    "            new_dir = os.path.join(root, match_object.group(1) + \".fits\")\n",
    "            if not os.path.isdir(new_dir):\n",
    "                os.mkdir(new_dir)\n",
    "\n",
    "            #new_file_path = os.path.join(new_dir, match_object.group(1))\n",
    "\n",
    "            # Or, if you don't want to change the filename, use:\n",
    "            new_file_path = os.path.join(new_dir, fname)\n",
    "\n",
    "            old_file_path = os.path.join(root, fname)\n",
    "            shutil.move(old_file_path, new_file_path)"
   ]
  },
  {
   "cell_type": "markdown",
   "metadata": {},
   "source": [
    "## EVERYTHING BELOW IS TEST CODE"
   ]
  },
  {
   "cell_type": "code",
   "execution_count": null,
   "metadata": {
    "collapsed": false
   },
   "outputs": [],
   "source": [
    "for root, dirs, files in os.walk(\"Spectra/HD173739/\"):\n",
    "    for fname in files:\n",
    "        # Match a string starting with 7 digits followed by everything else.\n",
    "        # Capture each part in a group so we can access them later.\n",
    "        match_object = re.match('[0-9]{8}[.][0-9]{5}', fname)\n",
    "        #print match_object"
   ]
  },
  {
   "cell_type": "code",
   "execution_count": null,
   "metadata": {
    "collapsed": false
   },
   "outputs": [],
   "source": [
    "root, dirs, files = os.walk(\"Spectra/HD173739/\")"
   ]
  },
  {
   "cell_type": "code",
   "execution_count": null,
   "metadata": {
    "collapsed": false
   },
   "outputs": [],
   "source": [
    "test = [\"HI.20050628.32558_1_01_flux.fits\", \"HI.20050628.32558_1_01_flux.fits.gz\", \"HI.20050628.32558_1_03_flux.fits\",\n",
    "       \"HI.20060715.41435_1_04_flux.fits\", \"HI.20060715.41435_1_06_flux.fits.gz\"]\n",
    "\n",
    "for fname in test:\n",
    "    # Match a string starting with 7 digits followed by everything else.\n",
    "    # Capture each part in a group so we can access them later.\n",
    "    match_object = re.match('HI\\.[0-9]{8}\\.[0-9]{5}(.*).fits', fname)\n",
    "    print(match_object.group(1))\n",
    "    \n",
    "\n",
    "for fname in test:\n",
    "    # Match a string starting with 7 digits followed by everything else.\n",
    "    # Capture each part in a group so we can access them later.\n",
    "    match_object = re.match('(.*)_1_[0-9]{2}_flux.fits', fname)\n",
    "    print(match_object.group(1))\n",
    "    \n",
    "    \n",
    "files = [f for f in test if re.match('HI\\.[0-9]{8}\\.[0-9]{5}(.*).fits', f)]\n",
    "print(files)"
   ]
  },
  {
   "cell_type": "code",
   "execution_count": null,
   "metadata": {
    "collapsed": true
   },
   "outputs": [],
   "source": [
    "#os.listdir(\"Spectra/HD173739/\") \n",
    "\n",
    "files = glob.glob(r'C:\\Wam\\*.txt')\n",
    "\n",
    "for file in files: \n",
    "    # this will remove the .txt extension and keep the \"aN\"  \n",
    "    first_part = file[7:-4]\n",
    "    # find the matching directory \n",
    "    dir = glob.glob(r'C:\\Wam\\%s_*/' % first_part)[0]\n",
    "    shutil.move(file, dir)"
   ]
  }
 ],
 "metadata": {
  "kernelspec": {
   "display_name": "Python 2",
   "language": "python",
   "name": "python2"
  },
  "language_info": {
   "codemirror_mode": {
    "name": "ipython",
    "version": 2
   },
   "file_extension": ".py",
   "mimetype": "text/x-python",
   "name": "python",
   "nbconvert_exporter": "python",
   "pygments_lexer": "ipython2",
   "version": "2.7.12"
  }
 },
 "nbformat": 4,
 "nbformat_minor": 0
}
