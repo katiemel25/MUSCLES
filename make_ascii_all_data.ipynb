{
 "cells": [
  {
   "cell_type": "code",
   "execution_count": 1,
   "metadata": {
    "collapsed": false
   },
   "outputs": [
    {
     "name": "stderr",
     "output_type": "stream",
     "text": [
      "/Users/katiemel/anaconda/lib/python2.7/site-packages/matplotlib/font_manager.py:273: UserWarning: Matplotlib is building the font cache using fc-list. This may take a moment.\n",
      "  warnings.warn('Matplotlib is building the font cache using fc-list. This may take a moment.')\n"
     ]
    }
   ],
   "source": [
    "from astroquery.simbad import Simbad\n",
    "import numpy as np\n",
    "from astropy.io import ascii\n",
    "from astropy.table import Table\n",
    "import matplotlib.pyplot as plt\n",
    "import sys\n",
    "\n",
    "%matplotlib inline"
   ]
  },
  {
   "cell_type": "code",
   "execution_count": 2,
   "metadata": {
    "collapsed": false
   },
   "outputs": [
    {
     "name": "stdout",
     "output_type": "stream",
     "text": [
      "107\n",
      "107\n",
      "107\n",
      "107\n",
      "107\n",
      "107\n",
      "107\n",
      "107\n"
     ]
    }
   ],
   "source": [
    "#Only string based array is star_names. Everything else should have zeros where there is a missing value\n",
    "star_names = np.genfromtxt(\"star_names.txt\", dtype='str', missing_values = ('--'), filling_values=(np.nan))\n",
    "RV = np.genfromtxt(\"RVs.txt\", usecols=1, skip_header=2, missing_values = ('--'), filling_values=(np.nan))\n",
    "\n",
    "newt_Ha = np.genfromtxt(\"Comparisons/Newton.txt\", usecols=[0], missing_values = ('--'), filling_values=(np.nan))\n",
    "newt_Ha_err = np.genfromtxt(\"Comparisons/Newton.txt\", usecols=[1], missing_values = ('--'), filling_values=(np.nan))\n",
    "ad_logRHK = np.genfromtxt(\"Comparisons/AstudilloDefru.txt\", usecols=[0], missing_values = ('--'), filling_values=(np.nan))\n",
    "ad_logRHK_err = np.genfromtxt(\"Comparisons/AstudilloDefru.txt\", usecols=[1], missing_values = ('--'), filling_values=(np.nan))\n",
    "ad_S = np.genfromtxt(\"Comparisons/AstudilloDefru.txt\", usecols=[2], missing_values = ('--'), filling_values=(np.nan))\n",
    "ad_S_err = np.genfromtxt(\"Comparisons/AstudilloDefru.txt\", usecols=[3], missing_values = ('--'), filling_values=(np.nan))\n",
    "\n",
    "all_k_flux = np.genfromtxt(\"photometry.txt\", usecols=[0], missing_values = ('--'), filling_values=(np.nan))\n",
    "all_k_err = np.genfromtxt(\"photometry.txt\", usecols=[1], missing_values = ('--'), filling_values=(np.nan))\n",
    "all_v_flux = np.genfromtxt(\"photometry.txt\", usecols=[2], missing_values = ('--'), filling_values=(np.nan))\n",
    "all_v_err = np.genfromtxt(\"photometry.txt\", usecols=[3], missing_values = ('--'), filling_values=(np.nan))\n",
    "\n",
    "h_alpha = np.genfromtxt(\"Results/halpha.txt\", usecols=[0], missing_values = ('--'), filling_values=(np.nan))\n",
    "h_alpha_err = np.genfromtxt(\"Results/halpha.txt\", usecols=[1], missing_values = ('--'), filling_values=(np.nan))\n",
    "s_index = np.genfromtxt(\"Results/cahk_s_rhk.txt\", usecols=[0], missing_values = ('--'), filling_values=(np.nan))\n",
    "s_index_err = np.genfromtxt(\"Results/cahk_s_rhk.txt\", usecols=[1], missing_values = ('--'), filling_values=(np.nan))\n",
    "rhk_prime_index = np.genfromtxt(\"Results/cahk_s_rhk.txt\", usecols=[2], missing_values = ('--'), filling_values=(np.nan))\n",
    "rhk_prime_index_err = np.genfromtxt(\"Results/cahk_s_rhk.txt\", usecols=[3], missing_values = ('--'), filling_values=(np.nan))\n",
    "log_s_index = np.genfromtxt(\"Results/cahk_s_rhk.txt\", usecols=[4], missing_values = ('--'), filling_values=(np.nan))\n",
    "log_s_index_err = np.genfromtxt(\"Results/cahk_s_rhk.txt\", usecols=[5], missing_values = ('--'), filling_values=(np.nan))\n",
    "log_rhk_prime_index = np.genfromtxt(\"Results/cahk_s_rhk.txt\", usecols=[6], missing_values = ('--'), filling_values=(np.nan))\n",
    "log_rhk_prime_index_err = np.genfromtxt(\"Results/cahk_s_rhk.txt\", usecols=[7], missing_values = ('--'), filling_values=(np.nan))\n",
    "\n",
    "\"\"\"\n",
    "star_names = np.genfromtxt(\"short_star_names.txt\", dtype='str', missing_values = ('--'), filling_values=(np.nan))\n",
    "RV = np.genfromtxt(\"short_RVs.txt\", missing_values = ('--'), filling_values=(np.nan))\n",
    "\n",
    "newt_Ha = np.genfromtxt(\"Comparisons/short_Newton.txt\", usecols=[0], missing_values = ('--'), filling_values=(np.nan))\n",
    "newt_Ha_err = np.genfromtxt(\"Comparisons/short_Newton.txt\", usecols=[1], missing_values = ('--'), filling_values=(np.nan))\n",
    "ad_logRHK = np.genfromtxt(\"Comparisons/short_AstudilloDefru.txt\", usecols=[0], missing_values = ('--'), filling_values=(np.nan))\n",
    "ad_logRHK_err = np.genfromtxt(\"Comparisons/short_AstudilloDefru.txt\", usecols=[1], missing_values = ('--'), filling_values=(np.nan))\n",
    "ad_S = np.genfromtxt(\"Comparisons/short_AstudilloDefru.txt\", usecols=[2], missing_values = ('--'), filling_values=(np.nan))\n",
    "ad_S_err = np.genfromtxt(\"Comparisons/short_AstudilloDefru.txt\", usecols=[3], missing_values = ('--'), filling_values=(np.nan))\n",
    "\n",
    "all_k_flux = np.genfromtxt(\"short_photometry.txt\", usecols=[0], missing_values = ('--'), filling_values=(np.nan))\n",
    "all_k_err = np.genfromtxt(\"short_photometry.txt\", usecols=[1], missing_values = ('--'), filling_values=(np.nan))\n",
    "all_v_flux = np.genfromtxt(\"short_photometry.txt\", usecols=[2], missing_values = ('--'), filling_values=(np.nan))\n",
    "all_v_err = np.genfromtxt(\"short_photometry.txt\", usecols=[3], missing_values = ('--'), filling_values=(np.nan))\n",
    "\n",
    "h_alpha = np.genfromtxt(\"Results/short_halpha.txt\", usecols=[0], missing_values = ('--'), filling_values=(np.nan))\n",
    "h_alpha_err = np.genfromtxt(\"Results/short_halpha.txt\", usecols=[1], missing_values = ('--'), filling_values=(np.nan))\n",
    "s_index = np.genfromtxt(\"Results/short_cahk_s_rhk.txt\", usecols=[0], missing_values = ('--'), filling_values=(np.nan))\n",
    "s_index_err = np.genfromtxt(\"Results/short_cahk_s_rhk.txt\", usecols=[1], missing_values = ('--'), filling_values=(np.nan))\n",
    "rhk_prime_index = np.genfromtxt(\"Results/short_cahk_s_rhk.txt\", usecols=[2], missing_values = ('--'), filling_values=(np.nan))\n",
    "rhk_prime_index_err = np.genfromtxt(\"Results/short_cahk_s_rhk.txt\", usecols=[3], missing_values = ('--'), filling_values=(np.nan))\n",
    "\"\"\"\n",
    "\n",
    "SiIII_flux = np.genfromtxt(\"uv_fluxes.txt\", skip_header=2, usecols=[0], missing_values = ('--'), filling_values=(np.nan))\n",
    "SiIII_flux_err = np.genfromtxt(\"uv_fluxes.txt\", skip_header=5, usecols=[1], missing_values = ('--'), filling_values=(np.nan))\n",
    "LyA_flux = np.genfromtxt(\"uv_fluxes.txt\", skip_header=5, usecols=[2], missing_values = ('--'), filling_values=(np.nan))\n",
    "LyA_flux_err = np.genfromtxt(\"uv_fluxes.txt\", skip_header=5, usecols=[3], missing_values = ('--'), filling_values=(np.nan))\n",
    "SiII_flux = np.genfromtxt(\"uv_fluxes.txt\", skip_header=5, usecols=[4], missing_values = ('--'), filling_values=(np.nan))\n",
    "SiII_flux_err = np.genfromtxt(\"uv_fluxes.txt\", skip_header=5, usecols=[5], missing_values = ('--'), filling_values=(np.nan))\n",
    "CII_flux =np.genfromtxt(\"uv_fluxes.txt\", skip_header=5, usecols=[6], missing_values = ('--'), filling_values=(np.nan))\n",
    "CII_flux_err = np.genfromtxt(\"uv_fluxes.txt\", skip_header=5, usecols=[7], missing_values = ('--'), filling_values=(np.nan))\n",
    "MgII_flux = np.genfromtxt(\"uv_fluxes.txt\", skip_header=5, usecols=[8], missing_values = ('--'), filling_values=(np.nan))\n",
    "MgII_flux_err = np.genfromtxt(\"uv_fluxes.txt\", skip_header=5, usecols=[9], missing_values = ('--'), filling_values=(np.nan))\n",
    "SiIV_flux = np.genfromtxt(\"uv_fluxes.txt\", skip_header=5, usecols=[10], missing_values = ('--'), filling_values=(np.nan))\n",
    "SiIV_flux_err = np.genfromtxt(\"uv_fluxes.txt\", skip_header=5, usecols=[11], missing_values = ('--'), filling_values=(np.nan))\n",
    "HeII_flux = np.genfromtxt(\"uv_fluxes.txt\", skip_header=5, usecols=[12], missing_values = ('--'), filling_values=(np.nan))\n",
    "HeII_flux_err = np.genfromtxt(\"uv_fluxes.txt\", skip_header=5, usecols=[13], missing_values = ('--'), filling_values=(np.nan))\n",
    "CIV_flux = np.genfromtxt(\"uv_fluxes.txt\", skip_header=5, usecols=[14], missing_values = ('--'), filling_values=(np.nan))\n",
    "CIV_flux_err = np.genfromtxt(\"uv_fluxes.txt\", skip_header=5, usecols=[15], missing_values = ('--'), filling_values=(np.nan))\n",
    "NV_flux = np.genfromtxt(\"uv_fluxes.txt\", skip_header=5, usecols=[16], missing_values = ('--'), filling_values=(np.nan))\n",
    "NV_flux_err = np.genfromtxt(\"uv_fluxes.txt\", skip_header=5, usecols=[17], missing_values = ('--'), filling_values=(np.nan))\n",
    "EUV_flux = np.genfromtxt(\"uv_fluxes.txt\", skip_header=5, usecols=[18], missing_values = ('--'), filling_values=(np.nan))\n",
    "\n",
    "dists = np.genfromtxt(\"uv_fluxes.txt\", skip_header=5, usecols=[19], missing_values = ('--'), filling_values=(np.nan)) #parsecs\n",
    "radii = np.genfromtxt(\"uv_fluxes.txt\", skip_header=5, usecols=[20], missing_values = ('--'), filling_values=(np.nan)) #solar radii\n",
    "temps = np.genfromtxt(\"uv_fluxes.txt\", skip_header=5, usecols=[21], missing_values = ('--'), filling_values=(np.nan)) #kelvin\n",
    "\n",
    "print(len(star_names))\n",
    "print(len(RV))\n",
    "print(len(SiII_flux))\n",
    "print(len(s_index))\n",
    "print(len(ad_logRHK))\n",
    "print(len(dists))\n",
    "print(len(radii))\n",
    "print(len(temps))"
   ]
  },
  {
   "cell_type": "code",
   "execution_count": 3,
   "metadata": {
    "collapsed": false
   },
   "outputs": [
    {
     "name": "stdout",
     "output_type": "stream",
     "text": [
      "107\n"
     ]
    },
    {
     "name": "stderr",
     "output_type": "stream",
     "text": [
      "/Users/katiemel/anaconda/lib/python2.7/site-packages/numpy/lib/npyio.py:1487: UserWarning: genfromtxt: Empty input file: \"Results/2MASSJ02543316-5108313_spectra_halpha.txt\"\n",
      "  warnings.warn('genfromtxt: Empty input file: \"%s\"' % fname)\n",
      "/Users/katiemel/anaconda/lib/python2.7/site-packages/numpy/lib/npyio.py:1487: UserWarning: genfromtxt: Empty input file: \"Results/2MASSJ02543316-5108313_spectra_cahk.txt\"\n",
      "  warnings.warn('genfromtxt: Empty input file: \"%s\"' % fname)\n",
      "/Users/katiemel/anaconda/lib/python2.7/site-packages/numpy/lib/npyio.py:1487: UserWarning: genfromtxt: Empty input file: \"Results/2MASSJ02001277-0840516_spectra_halpha.txt\"\n",
      "  warnings.warn('genfromtxt: Empty input file: \"%s\"' % fname)\n",
      "/Users/katiemel/anaconda/lib/python2.7/site-packages/numpy/lib/npyio.py:1487: UserWarning: genfromtxt: Empty input file: \"Results/2MASSJ02001277-0840516_spectra_cahk.txt\"\n",
      "  warnings.warn('genfromtxt: Empty input file: \"%s\"' % fname)\n",
      "/Users/katiemel/anaconda/lib/python2.7/site-packages/numpy/lib/npyio.py:1487: UserWarning: genfromtxt: Empty input file: \"Results/G75-55_spectra_halpha.txt\"\n",
      "  warnings.warn('genfromtxt: Empty input file: \"%s\"' % fname)\n",
      "/Users/katiemel/anaconda/lib/python2.7/site-packages/numpy/lib/npyio.py:1487: UserWarning: genfromtxt: Empty input file: \"Results/G75-55_spectra_cahk.txt\"\n",
      "  warnings.warn('genfromtxt: Empty input file: \"%s\"' % fname)\n",
      "/Users/katiemel/anaconda/lib/python2.7/site-packages/numpy/lib/npyio.py:1487: UserWarning: genfromtxt: Empty input file: \"Results/2MASSJ22025453-6440441_spectra_halpha.txt\"\n",
      "  warnings.warn('genfromtxt: Empty input file: \"%s\"' % fname)\n",
      "/Users/katiemel/anaconda/lib/python2.7/site-packages/numpy/lib/npyio.py:1487: UserWarning: genfromtxt: Empty input file: \"Results/2MASSJ22025453-6440441_spectra_cahk.txt\"\n",
      "  warnings.warn('genfromtxt: Empty input file: \"%s\"' % fname)\n",
      "/Users/katiemel/anaconda/lib/python2.7/site-packages/numpy/lib/npyio.py:1487: UserWarning: genfromtxt: Empty input file: \"Results/2MASSJ23285763-6802338_spectra_halpha.txt\"\n",
      "  warnings.warn('genfromtxt: Empty input file: \"%s\"' % fname)\n",
      "/Users/katiemel/anaconda/lib/python2.7/site-packages/numpy/lib/npyio.py:1487: UserWarning: genfromtxt: Empty input file: \"Results/2MASSJ23285763-6802338_spectra_cahk.txt\"\n",
      "  warnings.warn('genfromtxt: Empty input file: \"%s\"' % fname)\n",
      "/Users/katiemel/anaconda/lib/python2.7/site-packages/numpy/lib/npyio.py:1487: UserWarning: genfromtxt: Empty input file: \"Results/2MASSJ00393579-3816584_spectra_halpha.txt\"\n",
      "  warnings.warn('genfromtxt: Empty input file: \"%s\"' % fname)\n",
      "/Users/katiemel/anaconda/lib/python2.7/site-packages/numpy/lib/npyio.py:1487: UserWarning: genfromtxt: Empty input file: \"Results/2MASSJ00393579-3816584_spectra_cahk.txt\"\n",
      "  warnings.warn('genfromtxt: Empty input file: \"%s\"' % fname)\n",
      "/Users/katiemel/anaconda/lib/python2.7/site-packages/numpy/lib/npyio.py:1487: UserWarning: genfromtxt: Empty input file: \"Results/GJ3290_spectra_halpha.txt\"\n",
      "  warnings.warn('genfromtxt: Empty input file: \"%s\"' % fname)\n",
      "/Users/katiemel/anaconda/lib/python2.7/site-packages/numpy/lib/npyio.py:1487: UserWarning: genfromtxt: Empty input file: \"Results/GJ3290_spectra_cahk.txt\"\n",
      "  warnings.warn('genfromtxt: Empty input file: \"%s\"' % fname)\n",
      "/Users/katiemel/anaconda/lib/python2.7/site-packages/numpy/lib/npyio.py:1487: UserWarning: genfromtxt: Empty input file: \"Results/LP415-1619_spectra_halpha.txt\"\n",
      "  warnings.warn('genfromtxt: Empty input file: \"%s\"' % fname)\n",
      "/Users/katiemel/anaconda/lib/python2.7/site-packages/numpy/lib/npyio.py:1487: UserWarning: genfromtxt: Empty input file: \"Results/LP415-1619_spectra_cahk.txt\"\n",
      "  warnings.warn('genfromtxt: Empty input file: \"%s\"' % fname)\n",
      "/Users/katiemel/anaconda/lib/python2.7/site-packages/numpy/lib/npyio.py:1487: UserWarning: genfromtxt: Empty input file: \"Results/LP5-282_spectra_halpha.txt\"\n",
      "  warnings.warn('genfromtxt: Empty input file: \"%s\"' % fname)\n",
      "/Users/katiemel/anaconda/lib/python2.7/site-packages/numpy/lib/npyio.py:1487: UserWarning: genfromtxt: Empty input file: \"Results/LP5-282_spectra_cahk.txt\"\n",
      "  warnings.warn('genfromtxt: Empty input file: \"%s\"' % fname)\n",
      "/Users/katiemel/anaconda/lib/python2.7/site-packages/numpy/lib/npyio.py:1487: UserWarning: genfromtxt: Empty input file: \"Results/2MASSJ04223953+1816097_spectra_halpha.txt\"\n",
      "  warnings.warn('genfromtxt: Empty input file: \"%s\"' % fname)\n",
      "/Users/katiemel/anaconda/lib/python2.7/site-packages/numpy/lib/npyio.py:1487: UserWarning: genfromtxt: Empty input file: \"Results/2MASSJ04223953+1816097_spectra_cahk.txt\"\n",
      "  warnings.warn('genfromtxt: Empty input file: \"%s\"' % fname)\n",
      "/Users/katiemel/anaconda/lib/python2.7/site-packages/numpy/lib/npyio.py:1487: UserWarning: genfromtxt: Empty input file: \"Results/2MASSJ02125819-5851182_spectra_halpha.txt\"\n",
      "  warnings.warn('genfromtxt: Empty input file: \"%s\"' % fname)\n",
      "/Users/katiemel/anaconda/lib/python2.7/site-packages/numpy/lib/npyio.py:1487: UserWarning: genfromtxt: Empty input file: \"Results/2MASSJ02125819-5851182_spectra_cahk.txt\"\n",
      "  warnings.warn('genfromtxt: Empty input file: \"%s\"' % fname)\n",
      "/Users/katiemel/anaconda/lib/python2.7/site-packages/numpy/lib/npyio.py:1487: UserWarning: genfromtxt: Empty input file: \"Results/GJ3997_spectra_halpha.txt\"\n",
      "  warnings.warn('genfromtxt: Empty input file: \"%s\"' % fname)\n",
      "/Users/katiemel/anaconda/lib/python2.7/site-packages/numpy/lib/npyio.py:1487: UserWarning: genfromtxt: Empty input file: \"Results/GJ3997_spectra_cahk.txt\"\n",
      "  warnings.warn('genfromtxt: Empty input file: \"%s\"' % fname)\n",
      "/Users/katiemel/anaconda/lib/python2.7/site-packages/numpy/lib/npyio.py:1487: UserWarning: genfromtxt: Empty input file: \"Results/2MASSJ22463471-7353504_spectra_halpha.txt\"\n",
      "  warnings.warn('genfromtxt: Empty input file: \"%s\"' % fname)\n",
      "/Users/katiemel/anaconda/lib/python2.7/site-packages/numpy/lib/npyio.py:1487: UserWarning: genfromtxt: Empty input file: \"Results/2MASSJ22463471-7353504_spectra_cahk.txt\"\n",
      "  warnings.warn('genfromtxt: Empty input file: \"%s\"' % fname)\n",
      "/Users/katiemel/anaconda/lib/python2.7/site-packages/numpy/lib/npyio.py:1487: UserWarning: genfromtxt: Empty input file: \"Results/GJ4334_spectra_halpha.txt\"\n",
      "  warnings.warn('genfromtxt: Empty input file: \"%s\"' % fname)\n",
      "/Users/katiemel/anaconda/lib/python2.7/site-packages/numpy/lib/npyio.py:1487: UserWarning: genfromtxt: Empty input file: \"Results/GJ4334_spectra_cahk.txt\"\n",
      "  warnings.warn('genfromtxt: Empty input file: \"%s\"' % fname)\n",
      "/Users/katiemel/anaconda/lib/python2.7/site-packages/numpy/lib/npyio.py:1487: UserWarning: genfromtxt: Empty input file: \"Results/LP247-13_spectra_halpha.txt\"\n",
      "  warnings.warn('genfromtxt: Empty input file: \"%s\"' % fname)\n",
      "/Users/katiemel/anaconda/lib/python2.7/site-packages/numpy/lib/npyio.py:1487: UserWarning: genfromtxt: Empty input file: \"Results/LP247-13_spectra_cahk.txt\"\n",
      "  warnings.warn('genfromtxt: Empty input file: \"%s\"' % fname)\n",
      "/Users/katiemel/anaconda/lib/python2.7/site-packages/numpy/lib/npyio.py:1487: UserWarning: genfromtxt: Empty input file: \"Results/LP55-41_spectra_halpha.txt\"\n",
      "  warnings.warn('genfromtxt: Empty input file: \"%s\"' % fname)\n",
      "/Users/katiemel/anaconda/lib/python2.7/site-packages/numpy/lib/npyio.py:1487: UserWarning: genfromtxt: Empty input file: \"Results/LP55-41_spectra_cahk.txt\"\n",
      "  warnings.warn('genfromtxt: Empty input file: \"%s\"' % fname)\n",
      "/Users/katiemel/anaconda/lib/python2.7/site-packages/numpy/lib/npyio.py:1487: UserWarning: genfromtxt: Empty input file: \"Results/G249-11_spectra_halpha.txt\"\n",
      "  warnings.warn('genfromtxt: Empty input file: \"%s\"' % fname)\n",
      "/Users/katiemel/anaconda/lib/python2.7/site-packages/numpy/lib/npyio.py:1487: UserWarning: genfromtxt: Empty input file: \"Results/G249-11_spectra_cahk.txt\"\n",
      "  warnings.warn('genfromtxt: Empty input file: \"%s\"' % fname)\n",
      "/Users/katiemel/anaconda/lib/python2.7/site-packages/numpy/lib/npyio.py:1487: UserWarning: genfromtxt: Empty input file: \"Results/G111-72_spectra_halpha.txt\"\n",
      "  warnings.warn('genfromtxt: Empty input file: \"%s\"' % fname)\n",
      "/Users/katiemel/anaconda/lib/python2.7/site-packages/numpy/lib/npyio.py:1487: UserWarning: genfromtxt: Empty input file: \"Results/G111-72_spectra_cahk.txt\"\n",
      "  warnings.warn('genfromtxt: Empty input file: \"%s\"' % fname)\n",
      "/Users/katiemel/anaconda/lib/python2.7/site-packages/numpy/lib/npyio.py:1487: UserWarning: genfromtxt: Empty input file: \"Results/LHS26_spectra_halpha.txt\"\n",
      "  warnings.warn('genfromtxt: Empty input file: \"%s\"' % fname)\n",
      "/Users/katiemel/anaconda/lib/python2.7/site-packages/numpy/lib/npyio.py:1487: UserWarning: genfromtxt: Empty input file: \"Results/LHS26_spectra_cahk.txt\"\n",
      "  warnings.warn('genfromtxt: Empty input file: \"%s\"' % fname)\n",
      "/Users/katiemel/anaconda/lib/python2.7/site-packages/numpy/lib/npyio.py:1487: UserWarning: genfromtxt: Empty input file: \"Results/LHS353_spectra_halpha.txt\"\n",
      "  warnings.warn('genfromtxt: Empty input file: \"%s\"' % fname)\n",
      "/Users/katiemel/anaconda/lib/python2.7/site-packages/numpy/lib/npyio.py:1487: UserWarning: genfromtxt: Empty input file: \"Results/LHS353_spectra_cahk.txt\"\n",
      "  warnings.warn('genfromtxt: Empty input file: \"%s\"' % fname)\n",
      "/Users/katiemel/anaconda/lib/python2.7/site-packages/numpy/lib/npyio.py:1487: UserWarning: genfromtxt: Empty input file: \"Results/GJ1243_spectra_halpha.txt\"\n",
      "  warnings.warn('genfromtxt: Empty input file: \"%s\"' % fname)\n",
      "/Users/katiemel/anaconda/lib/python2.7/site-packages/numpy/lib/npyio.py:1487: UserWarning: genfromtxt: Empty input file: \"Results/GJ1243_spectra_cahk.txt\"\n",
      "  warnings.warn('genfromtxt: Empty input file: \"%s\"' % fname)\n",
      "/Users/katiemel/anaconda/lib/python2.7/site-packages/numpy/lib/npyio.py:1487: UserWarning: genfromtxt: Empty input file: \"Results/GJ15A_spectra_halpha.txt\"\n",
      "  warnings.warn('genfromtxt: Empty input file: \"%s\"' % fname)\n",
      "/Users/katiemel/anaconda/lib/python2.7/site-packages/numpy/lib/npyio.py:1487: UserWarning: genfromtxt: Empty input file: \"Results/GJ15A_spectra_cahk.txt\"\n",
      "  warnings.warn('genfromtxt: Empty input file: \"%s\"' % fname)\n",
      "/Users/katiemel/anaconda/lib/python2.7/site-packages/numpy/lib/npyio.py:1487: UserWarning: genfromtxt: Empty input file: \"Results/GJ649_spectra_halpha.txt\"\n",
      "  warnings.warn('genfromtxt: Empty input file: \"%s\"' % fname)\n",
      "/Users/katiemel/anaconda/lib/python2.7/site-packages/numpy/lib/npyio.py:1487: UserWarning: genfromtxt: Empty input file: \"Results/GJ649_spectra_cahk.txt\"\n",
      "  warnings.warn('genfromtxt: Empty input file: \"%s\"' % fname)\n",
      "/Users/katiemel/anaconda/lib/python2.7/site-packages/numpy/lib/npyio.py:1487: UserWarning: genfromtxt: Empty input file: \"Results/L980-5_spectra_halpha.txt\"\n",
      "  warnings.warn('genfromtxt: Empty input file: \"%s\"' % fname)\n",
      "/Users/katiemel/anaconda/lib/python2.7/site-packages/numpy/lib/npyio.py:1487: UserWarning: genfromtxt: Empty input file: \"Results/L980-5_spectra_cahk.txt\"\n",
      "  warnings.warn('genfromtxt: Empty input file: \"%s\"' % fname)\n",
      "/Users/katiemel/anaconda/lib/python2.7/site-packages/numpy/lib/npyio.py:1487: UserWarning: genfromtxt: Empty input file: \"Results/LP756-18_spectra_halpha.txt\"\n",
      "  warnings.warn('genfromtxt: Empty input file: \"%s\"' % fname)\n",
      "/Users/katiemel/anaconda/lib/python2.7/site-packages/numpy/lib/npyio.py:1487: UserWarning: genfromtxt: Empty input file: \"Results/LP756-18_spectra_cahk.txt\"\n",
      "  warnings.warn('genfromtxt: Empty input file: \"%s\"' % fname)\n",
      "/Users/katiemel/anaconda/lib/python2.7/site-packages/numpy/lib/npyio.py:1487: UserWarning: genfromtxt: Empty input file: \"Results/LHS2686_spectra_halpha.txt\"\n",
      "  warnings.warn('genfromtxt: Empty input file: \"%s\"' % fname)\n",
      "/Users/katiemel/anaconda/lib/python2.7/site-packages/numpy/lib/npyio.py:1487: UserWarning: genfromtxt: Empty input file: \"Results/LHS2686_spectra_cahk.txt\"\n",
      "  warnings.warn('genfromtxt: Empty input file: \"%s\"' % fname)\n",
      "/Users/katiemel/anaconda/lib/python2.7/site-packages/numpy/lib/npyio.py:1487: UserWarning: genfromtxt: Empty input file: \"Results/Ross1044_spectra_halpha.txt\"\n",
      "  warnings.warn('genfromtxt: Empty input file: \"%s\"' % fname)\n",
      "/Users/katiemel/anaconda/lib/python2.7/site-packages/numpy/lib/npyio.py:1487: UserWarning: genfromtxt: Empty input file: \"Results/Ross1044_spectra_cahk.txt\"\n",
      "  warnings.warn('genfromtxt: Empty input file: \"%s\"' % fname)\n",
      "/Users/katiemel/anaconda/lib/python2.7/site-packages/numpy/lib/npyio.py:1487: UserWarning: genfromtxt: Empty input file: \"Results/Ross825_spectra_halpha.txt\"\n",
      "  warnings.warn('genfromtxt: Empty input file: \"%s\"' % fname)\n",
      "/Users/katiemel/anaconda/lib/python2.7/site-packages/numpy/lib/npyio.py:1487: UserWarning: genfromtxt: Empty input file: \"Results/Ross825_spectra_cahk.txt\"\n",
      "  warnings.warn('genfromtxt: Empty input file: \"%s\"' % fname)\n",
      "/Users/katiemel/anaconda/lib/python2.7/site-packages/numpy/lib/npyio.py:1487: UserWarning: genfromtxt: Empty input file: \"Results/GJ338A_spectra_halpha.txt\"\n",
      "  warnings.warn('genfromtxt: Empty input file: \"%s\"' % fname)\n",
      "/Users/katiemel/anaconda/lib/python2.7/site-packages/numpy/lib/npyio.py:1487: UserWarning: genfromtxt: Empty input file: \"Results/GJ338A_spectra_cahk.txt\"\n",
      "  warnings.warn('genfromtxt: Empty input file: \"%s\"' % fname)\n",
      "/Users/katiemel/anaconda/lib/python2.7/site-packages/numpy/lib/npyio.py:1487: UserWarning: genfromtxt: Empty input file: \"Results/GJ644A_spectra_halpha.txt\"\n",
      "  warnings.warn('genfromtxt: Empty input file: \"%s\"' % fname)\n",
      "/Users/katiemel/anaconda/lib/python2.7/site-packages/numpy/lib/npyio.py:1487: UserWarning: genfromtxt: Empty input file: \"Results/GJ644A_spectra_cahk.txt\"\n",
      "  warnings.warn('genfromtxt: Empty input file: \"%s\"' % fname)\n",
      "/Users/katiemel/anaconda/lib/python2.7/site-packages/numpy/lib/npyio.py:1487: UserWarning: genfromtxt: Empty input file: \"Results/2MASSJ04483062+1623187_spectra_halpha.txt\"\n",
      "  warnings.warn('genfromtxt: Empty input file: \"%s\"' % fname)\n",
      "/Users/katiemel/anaconda/lib/python2.7/site-packages/numpy/lib/npyio.py:1487: UserWarning: genfromtxt: Empty input file: \"Results/2MASSJ04483062+1623187_spectra_cahk.txt\"\n",
      "  warnings.warn('genfromtxt: Empty input file: \"%s\"' % fname)\n",
      "/Users/katiemel/anaconda/lib/python2.7/site-packages/numpy/lib/npyio.py:1487: UserWarning: genfromtxt: Empty input file: \"Results/2MASSJ04235911+1643178_spectra_halpha.txt\"\n",
      "  warnings.warn('genfromtxt: Empty input file: \"%s\"' % fname)\n",
      "/Users/katiemel/anaconda/lib/python2.7/site-packages/numpy/lib/npyio.py:1487: UserWarning: genfromtxt: Empty input file: \"Results/2MASSJ04235911+1643178_spectra_cahk.txt\"\n",
      "  warnings.warn('genfromtxt: Empty input file: \"%s\"' % fname)\n",
      "/Users/katiemel/anaconda/lib/python2.7/site-packages/numpy/lib/npyio.py:1487: UserWarning: genfromtxt: Empty input file: \"Results/2MASSJ04251456+1858250_spectra_halpha.txt\"\n",
      "  warnings.warn('genfromtxt: Empty input file: \"%s\"' % fname)\n",
      "/Users/katiemel/anaconda/lib/python2.7/site-packages/numpy/lib/npyio.py:1487: UserWarning: genfromtxt: Empty input file: \"Results/2MASSJ04251456+1858250_spectra_cahk.txt\"\n",
      "  warnings.warn('genfromtxt: Empty input file: \"%s\"' % fname)\n",
      "/Users/katiemel/anaconda/lib/python2.7/site-packages/numpy/lib/npyio.py:1487: UserWarning: genfromtxt: Empty input file: \"Results/2MASSJ04202761+1853499_spectra_halpha.txt\"\n",
      "  warnings.warn('genfromtxt: Empty input file: \"%s\"' % fname)\n",
      "/Users/katiemel/anaconda/lib/python2.7/site-packages/numpy/lib/npyio.py:1487: UserWarning: genfromtxt: Empty input file: \"Results/2MASSJ04202761+1853499_spectra_cahk.txt\"\n",
      "  warnings.warn('genfromtxt: Empty input file: \"%s\"' % fname)\n",
      "/Users/katiemel/anaconda/lib/python2.7/site-packages/numpy/lib/npyio.py:1487: UserWarning: genfromtxt: Empty input file: \"Results/2MASSJ04172811+1454038_spectra_halpha.txt\"\n",
      "  warnings.warn('genfromtxt: Empty input file: \"%s\"' % fname)\n",
      "/Users/katiemel/anaconda/lib/python2.7/site-packages/numpy/lib/npyio.py:1487: UserWarning: genfromtxt: Empty input file: \"Results/2MASSJ04172811+1454038_spectra_cahk.txt\"\n",
      "  warnings.warn('genfromtxt: Empty input file: \"%s\"' % fname)\n",
      "/Users/katiemel/anaconda/lib/python2.7/site-packages/numpy/lib/npyio.py:1487: UserWarning: genfromtxt: Empty input file: \"Results/2MASSJ02564122+3522346_spectra_halpha.txt\"\n",
      "  warnings.warn('genfromtxt: Empty input file: \"%s\"' % fname)\n",
      "/Users/katiemel/anaconda/lib/python2.7/site-packages/numpy/lib/npyio.py:1487: UserWarning: genfromtxt: Empty input file: \"Results/2MASSJ02564122+3522346_spectra_cahk.txt\"\n",
      "  warnings.warn('genfromtxt: Empty input file: \"%s\"' % fname)\n",
      "/Users/katiemel/anaconda/lib/python2.7/site-packages/numpy/lib/npyio.py:1487: UserWarning: genfromtxt: Empty input file: \"Results/2MASSJ03553690+2118482_spectra_halpha.txt\"\n",
      "  warnings.warn('genfromtxt: Empty input file: \"%s\"' % fname)\n",
      "/Users/katiemel/anaconda/lib/python2.7/site-packages/numpy/lib/npyio.py:1487: UserWarning: genfromtxt: Empty input file: \"Results/2MASSJ03553690+2118482_spectra_cahk.txt\"\n",
      "  warnings.warn('genfromtxt: Empty input file: \"%s\"' % fname)\n",
      "/Users/katiemel/anaconda/lib/python2.7/site-packages/numpy/lib/npyio.py:1487: UserWarning: genfromtxt: Empty input file: \"Results/2MASSJ03555715+1825564_spectra_halpha.txt\"\n",
      "  warnings.warn('genfromtxt: Empty input file: \"%s\"' % fname)\n",
      "/Users/katiemel/anaconda/lib/python2.7/site-packages/numpy/lib/npyio.py:1487: UserWarning: genfromtxt: Empty input file: \"Results/2MASSJ03555715+1825564_spectra_cahk.txt\"\n",
      "  warnings.warn('genfromtxt: Empty input file: \"%s\"' % fname)\n",
      "/Users/katiemel/anaconda/lib/python2.7/site-packages/numpy/lib/npyio.py:1487: UserWarning: genfromtxt: Empty input file: \"Results/2MASSJ03581434+1237408_spectra_halpha.txt\"\n",
      "  warnings.warn('genfromtxt: Empty input file: \"%s\"' % fname)\n",
      "/Users/katiemel/anaconda/lib/python2.7/site-packages/numpy/lib/npyio.py:1487: UserWarning: genfromtxt: Empty input file: \"Results/2MASSJ03581434+1237408_spectra_cahk.txt\"\n",
      "  warnings.warn('genfromtxt: Empty input file: \"%s\"' % fname)\n",
      "/Users/katiemel/anaconda/lib/python2.7/site-packages/numpy/lib/npyio.py:1487: UserWarning: genfromtxt: Empty input file: \"Results/2MASSJ04004493+1354227_spectra_halpha.txt\"\n",
      "  warnings.warn('genfromtxt: Empty input file: \"%s\"' % fname)\n",
      "/Users/katiemel/anaconda/lib/python2.7/site-packages/numpy/lib/npyio.py:1487: UserWarning: genfromtxt: Empty input file: \"Results/2MASSJ04004493+1354227_spectra_cahk.txt\"\n",
      "  warnings.warn('genfromtxt: Empty input file: \"%s\"' % fname)\n",
      "/Users/katiemel/anaconda/lib/python2.7/site-packages/numpy/lib/npyio.py:1487: UserWarning: genfromtxt: Empty input file: \"Results/2MASSJ04062060+1901391_spectra_halpha.txt\"\n",
      "  warnings.warn('genfromtxt: Empty input file: \"%s\"' % fname)\n",
      "/Users/katiemel/anaconda/lib/python2.7/site-packages/numpy/lib/npyio.py:1487: UserWarning: genfromtxt: Empty input file: \"Results/2MASSJ04062060+1901391_spectra_cahk.txt\"\n",
      "  warnings.warn('genfromtxt: Empty input file: \"%s\"' % fname)\n",
      "/Users/katiemel/anaconda/lib/python2.7/site-packages/numpy/lib/npyio.py:1487: UserWarning: genfromtxt: Empty input file: \"Results/2MASSJ04183382+1821529_spectra_halpha.txt\"\n",
      "  warnings.warn('genfromtxt: Empty input file: \"%s\"' % fname)\n",
      "/Users/katiemel/anaconda/lib/python2.7/site-packages/numpy/lib/npyio.py:1487: UserWarning: genfromtxt: Empty input file: \"Results/2MASSJ04183382+1821529_spectra_cahk.txt\"\n",
      "  warnings.warn('genfromtxt: Empty input file: \"%s\"' % fname)\n",
      "/Users/katiemel/anaconda/lib/python2.7/site-packages/numpy/lib/npyio.py:1487: UserWarning: genfromtxt: Empty input file: \"Results/2MASSJ04262170+1800009_spectra_halpha.txt\"\n",
      "  warnings.warn('genfromtxt: Empty input file: \"%s\"' % fname)\n",
      "/Users/katiemel/anaconda/lib/python2.7/site-packages/numpy/lib/npyio.py:1487: UserWarning: genfromtxt: Empty input file: \"Results/2MASSJ04262170+1800009_spectra_cahk.txt\"\n",
      "  warnings.warn('genfromtxt: Empty input file: \"%s\"' % fname)\n",
      "/Users/katiemel/anaconda/lib/python2.7/site-packages/numpy/lib/npyio.py:1487: UserWarning: genfromtxt: Empty input file: \"Results/2MASSJ04290015+1620467_spectra_halpha.txt\"\n",
      "  warnings.warn('genfromtxt: Empty input file: \"%s\"' % fname)\n",
      "/Users/katiemel/anaconda/lib/python2.7/site-packages/numpy/lib/npyio.py:1487: UserWarning: genfromtxt: Empty input file: \"Results/2MASSJ04290015+1620467_spectra_cahk.txt\"\n",
      "  warnings.warn('genfromtxt: Empty input file: \"%s\"' % fname)\n",
      "/Users/katiemel/anaconda/lib/python2.7/site-packages/numpy/lib/npyio.py:1487: UserWarning: genfromtxt: Empty input file: \"Results/2MASSJ04214955+1929086_spectra_halpha.txt\"\n",
      "  warnings.warn('genfromtxt: Empty input file: \"%s\"' % fname)\n",
      "/Users/katiemel/anaconda/lib/python2.7/site-packages/numpy/lib/npyio.py:1487: UserWarning: genfromtxt: Empty input file: \"Results/2MASSJ04214955+1929086_spectra_cahk.txt\"\n",
      "  warnings.warn('genfromtxt: Empty input file: \"%s\"' % fname)\n",
      "/Users/katiemel/anaconda/lib/python2.7/site-packages/numpy/lib/npyio.py:1487: UserWarning: genfromtxt: Empty input file: \"Results/2MASSJ04110642+1247481_spectra_halpha.txt\"\n",
      "  warnings.warn('genfromtxt: Empty input file: \"%s\"' % fname)\n",
      "/Users/katiemel/anaconda/lib/python2.7/site-packages/numpy/lib/npyio.py:1487: UserWarning: genfromtxt: Empty input file: \"Results/2MASSJ04110642+1247481_spectra_cahk.txt\"\n",
      "  warnings.warn('genfromtxt: Empty input file: \"%s\"' % fname)\n",
      "/Users/katiemel/anaconda/lib/python2.7/site-packages/numpy/lib/npyio.py:1487: UserWarning: genfromtxt: Empty input file: \"Results/2MASSJ04254182+1900477_spectra_halpha.txt\"\n",
      "  warnings.warn('genfromtxt: Empty input file: \"%s\"' % fname)\n",
      "/Users/katiemel/anaconda/lib/python2.7/site-packages/numpy/lib/npyio.py:1487: UserWarning: genfromtxt: Empty input file: \"Results/2MASSJ04254182+1900477_spectra_cahk.txt\"\n",
      "  warnings.warn('genfromtxt: Empty input file: \"%s\"' % fname)\n"
     ]
    }
   ],
   "source": [
    "num_spectra_ha = []\n",
    "num_spectra_s = []\n",
    "num_spectra_logrhk = []\n",
    "for star in star_names:\n",
    "    ha = np.genfromtxt(\"Results/%s_spectra_halpha.txt\" % star, usecols=[0])\n",
    "    s = np.genfromtxt(\"Results/%s_spectra_cahk.txt\" % star, usecols=[0])\n",
    "    rhk = np.genfromtxt(\"Results/%s_spectra_cahk.txt\" % star, usecols=[2])\n",
    "    \n",
    "    len_ha = len(ha[ha!=0])\n",
    "    len_s = len(s[s!=0])\n",
    "    len_rhk = len(rhk[rhk>0])\n",
    "    \n",
    "    num_spectra_ha.append(len_ha)\n",
    "    num_spectra_s.append(len_s)\n",
    "    num_spectra_logrhk.append(len_rhk)\n",
    "    \n",
    "print(len(num_spectra_ha))"
   ]
  },
  {
   "cell_type": "code",
   "execution_count": 4,
   "metadata": {
    "collapsed": false
   },
   "outputs": [],
   "source": [
    "all_names = ['star', 'RV', 'K', 'err_K', 'V', 'err_V',\n",
    "             'H_alpha', 'H_alpha_err', 's', 's_err', 'rhk_prime', 'rhk_prime_err',\n",
    "             'log_s', 'log_s_err', 'log_rhk_prime', 'log_rhk_prime_err',\n",
    "             'SiIII', 'SiIII_err', 'LyA', 'LyA_err','SiII', 'SiII_err', \n",
    "             'CII', 'CII_err', 'MgII', 'MgII_err', 'SiIV', 'SiIV_err', 'HeII', 'HeII_err', \n",
    "             'CIV', 'CIV_err', 'NV', 'NV_err', 'EUV', 'dist', 'radius', 'teff', \n",
    "             'newt_Ha', 'newt_Ha_err', 'ad_logRHK', 'ad_logRHK_err', 'ad_S', 'ad_S_err', \n",
    "             \"num_spectra_ha\", \"num_spectra_s\", \"num_spectra_logrhk\"]\n",
    "data = Table({'star': star_names, \n",
    "              'RV': RV,\n",
    "              'K': all_k_flux, 'err_K': all_k_err, \n",
    "              'V': all_v_flux, 'err_V': all_v_err, \n",
    "              'H_alpha': h_alpha, 'H_alpha_err': h_alpha_err,\n",
    "              's': s_index, 's_err': s_index_err,\n",
    "              'rhk_prime': rhk_prime_index, 'rhk_prime_err': rhk_prime_index_err,\n",
    "              'log_s': log_s_index, 'log_s_err': log_s_index_err,\n",
    "              'log_rhk_prime': log_rhk_prime_index, 'log_rhk_prime_err': log_rhk_prime_index_err,\n",
    "              'SiIII': SiIII_flux, 'SiIII_err': SiIII_flux_err,\n",
    "              'LyA': LyA_flux, 'LyA_err': LyA_flux_err,\n",
    "              'SiII': SiII_flux, 'SiII_err': SiII_flux_err,\n",
    "              'CII': CII_flux, 'CII_err': CII_flux_err,\n",
    "              'MgII': MgII_flux, 'MgII_err': MgII_flux_err,\n",
    "              'SiIV': SiIV_flux, 'SiIV_err': SiIV_flux_err,\n",
    "              'HeII': HeII_flux, 'HeII_err': HeII_flux_err,\n",
    "              'CIV': CIV_flux, 'CIV_err': CIV_flux_err,\n",
    "              'NV': NV_flux, 'NV_err': NV_flux_err,\n",
    "              'EUV': EUV_flux, \n",
    "              'dist': dists, 'radius': radii, 'teff': temps, \n",
    "              'newt_Ha': newt_Ha, 'newt_Ha_err': newt_Ha_err, \n",
    "              'ad_logRHK': ad_logRHK, 'ad_logRHK_err': ad_logRHK_err, \n",
    "              'ad_S': ad_S, 'ad_S_err': ad_S_err,\n",
    "              'num_spectra_ha': num_spectra_ha, 'num_spectra_s': num_spectra_s, \n",
    "              'num_spectra_logrhk': num_spectra_logrhk}, names=all_names)"
   ]
  },
  {
   "cell_type": "code",
   "execution_count": 5,
   "metadata": {
    "collapsed": false
   },
   "outputs": [],
   "source": [
    "uv_lines = [\"SiIII\", \"LyA\", \"SiII\", \"CII\", \"MgII\", \"SiIV\", \"HeII\", \"CIV\", \"NV\", \"EUV\"]\n",
    "\n",
    "for line in uv_lines:\n",
    "    #convert flux to luminosity for each line\n",
    "    luminosities = data[line] * 4 * np.pi * np.array(data[\"dist\"])**2 * 3e18**2\n",
    "    data['%s_lum' % line] = luminosities\n",
    "\n",
    "    #convert luminosity to surface flux for each star\n",
    "    surface_flux = luminosities / (4 * np.pi * np.array(data[\"radius\"])**2 * 6.96e10**2)\n",
    "    data['%s_surface_flux' % line] = surface_flux\n",
    "    \n",
    "    #error analysis (different for EUV -- no errors provided so just 0)\n",
    "    if line != \"EUV\":\n",
    "        lum_err = (data['%s_err' % line])**2 * (4*np.pi*np.array(data[\"dist\"])**2*3e18**2)**2\n",
    "        data['%s_lum_err' % line] = np.sqrt(lum_err)\n",
    "        surface_flux_err = (lum_err)**2 * (1/(4*np.pi*np.array(data[\"radius\"])**2*6.96e10**2)**2)\n",
    "        data['%s_surface_flux_err' % line] = np.sqrt(surface_flux_err)\n",
    "        \n",
    "    else:\n",
    "        data['%s_lum_err' % line] = np.zeros(len(star_names))\n",
    "        data['%s_surface_flux_err' % line] = np.zeros(len(star_names))\n",
    "        \n",
    "#print(data[\"EUV_lum_err\"])\n",
    "#print(data[\"EUV_surface_flux_err\"])\n",
    "\n",
    "#print(data['s_err'][data['star']=='GJ176'])"
   ]
  },
  {
   "cell_type": "code",
   "execution_count": 6,
   "metadata": {
    "collapsed": false
   },
   "outputs": [],
   "source": [
    "#print(data)\n",
    "ascii.write(data, 'ALL_DATA.dat', overwrite=True)\n",
    "#print(data['SiIII_lum'][data['star']=='GJ176']) #example of subsetting the data\n",
    "#print(data['H_alpha'][data['star']=='K2-25'])"
   ]
  },
  {
   "cell_type": "code",
   "execution_count": 7,
   "metadata": {
    "collapsed": false
   },
   "outputs": [
    {
     "name": "stdout",
     "output_type": "stream",
     "text": [
      "('star', 'RV', 'K', 'err_K', 'V', 'err_V', 'H_alpha', 'H_alpha_err', 's', 's_err', 'rhk_prime', 'rhk_prime_err', 'log_s', 'log_s_err', 'log_rhk_prime', 'log_rhk_prime_err', 'SiIII', 'SiIII_err', 'LyA', 'LyA_err', 'SiII', 'SiII_err', 'CII', 'CII_err', 'MgII', 'MgII_err', 'SiIV', 'SiIV_err', 'HeII', 'HeII_err', 'CIV', 'CIV_err', 'NV', 'NV_err', 'EUV', 'dist', 'radius', 'teff', 'newt_Ha', 'newt_Ha_err', 'ad_logRHK', 'ad_logRHK_err', 'ad_S', 'ad_S_err', 'num_spectra_ha', 'num_spectra_s', 'num_spectra_logrhk', 'SiIII_lum', 'SiIII_surface_flux', 'SiIII_lum_err', 'SiIII_surface_flux_err', 'LyA_lum', 'LyA_surface_flux', 'LyA_lum_err', 'LyA_surface_flux_err', 'SiII_lum', 'SiII_surface_flux', 'SiII_lum_err', 'SiII_surface_flux_err', 'CII_lum', 'CII_surface_flux', 'CII_lum_err', 'CII_surface_flux_err', 'MgII_lum', 'MgII_surface_flux', 'MgII_lum_err', 'MgII_surface_flux_err', 'SiIV_lum', 'SiIV_surface_flux', 'SiIV_lum_err', 'SiIV_surface_flux_err', 'HeII_lum', 'HeII_surface_flux', 'HeII_lum_err', 'HeII_surface_flux_err', 'CIV_lum', 'CIV_surface_flux', 'CIV_lum_err', 'CIV_surface_flux_err', 'NV_lum', 'NV_surface_flux', 'NV_lum_err', 'NV_surface_flux_err', 'EUV_lum', 'EUV_surface_flux', 'EUV_lum_err', 'EUV_surface_flux_err')\n",
      " star  RV        K            err_K            V       err_V    H_alpha       H_alpha_err          s             s_err           rhk_prime       rhk_prime_err        log_s          log_s_err     log_rhk_prime  log_rhk_prime_err  SiIII   SiIII_err   LyA   LyA_err   SiII   SiII_err   CII    CII_err    MgII   MgII_err   SiIV  SiIV_err   HeII   HeII_err   CIV    CIV_err     NV    NV_err    EUV    dist radius  teff     newt_Ha       newt_Ha_err     ad_logRHK    ad_logRHK_err       ad_S        ad_S_err    num_spectra_ha num_spectra_s num_spectra_logrhk     SiIII_lum     SiIII_surface_flux   SiIII_lum_err   SiIII_surface_flux_err      LyA_lum      LyA_surface_flux    LyA_lum_err    LyA_surface_flux_err      SiII_lum     SiII_surface_flux    SiII_lum_err   SiII_surface_flux_err      CII_lum      CII_surface_flux    CII_lum_err    CII_surface_flux_err      MgII_lum     MgII_surface_flux    MgII_lum_err   MgII_surface_flux_err      SiIV_lum     SiIV_surface_flux    SiIV_lum_err   SiIV_surface_flux_err      HeII_lum     HeII_surface_flux    HeII_lum_err   HeII_surface_flux_err      CIV_lum      CIV_surface_flux    CIV_lum_err    CIV_surface_flux_err       NV_lum      NV_surface_flux     NV_lum_err    NV_surface_flux_err      EUV_lum      EUV_surface_flux EUV_lum_err EUV_surface_flux_err\n",
      "----- ---- ------------- --------------- ------------- ----- -------------- ---------------- -------------- ---------------- ----------------- ----------------- --------------- ----------------- -------------- ----------------- -------- --------- ------- ------- -------- -------- -------- -------- -------- -------- ------- -------- -------- -------- -------- -------- ------- -------- -------- ---- ------ ------ -------------- --------------- -------------- -------------- ------------- -------------- -------------- ------------- ------------------ ----------------- ------------------ ----------------- ---------------------- ----------------- ---------------- ----------------- -------------------- ----------------- ----------------- ----------------- --------------------- ----------------- ---------------- ----------------- -------------------- ----------------- ----------------- ----------------- --------------------- ----------------- ----------------- ----------------- --------------------- ----------------- ----------------- ----------------- --------------------- ----------------- ---------------- ----------------- -------------------- ----------------- --------------- ----------------- ------------------- ----------------- ---------------- ----------- --------------------\n",
      "GJ176 26.0 5.60699987411 0.0340000018477 9.95100021362   0.0 0.157001495436 0.00356810227686 0.742459761888 0.00116179559209 5.84292981788e-06 1.37094680615e-07 -0.129327078258 0.000679120018147 -5.23336933017   0.0101830919147 2.15e-15  5.84e-17 3.9e-13   2e-14 7.34e-16 6.49e-17 5.43e-15 9.66e-17 1.56e-13 1.53e-15 2.3e-15 8.64e-17 6.73e-15 3.03e-16 1.23e-14 2.83e-16 3.1e-15 7.56e-17 3.57e-13 9.47   0.45 3680.0 0.263000011444 0.0189999993891 -4.91099977493 0.219999998808 1.59300005436 0.238000005484             85            85                 85 2.18067423014e+25      1769.03905367 5.92331976931e+23      2.84627583981e+25 3.95564162677e+27    320895.456247 2.02853416757e+26    3.33819178059e+30 7.44472039499e+24     603.941704834 6.58259337377e+23     3.51512429044e+25 5.50747026496e+25    4467.85212159 9.79782002938e+23    7.78763422303e+25 1.58225665071e+27     128358.182499 1.55182863819e+25      1.9535932848e+28 2.33281429271e+25     1892.46038299 8.76326760391e+23     6.22986702862e+25 6.82601747388e+25     5537.50364242 3.07322926387e+24     7.66190122961e+26 1.24754851306e+26    10120.5490047 2.87037584712e+24     6.6838110379e+26 3.14422795974e+25   2550.70747273 7.66785915342e+23   4.76974194378e+25 3.62093348912e+27    293742.763795         0.0                  0.0\n"
     ]
    }
   ],
   "source": [
    "test = ascii.read(\"ALL_DATA.dat\", fill_values=[(0.0, \"--\")])\n",
    "print(test.dtype.names)\n",
    "print(test[0])\n",
    "#print(test)\n",
    "#print(test[\"SiIII_lum\"])\n",
    "#print(test[\"num_spectra_logrhk\"])"
   ]
  },
  {
   "cell_type": "markdown",
   "metadata": {},
   "source": [
    "## Make Table 1:\n",
    "\n",
    "Targets, RV, **RV source**, V band, V err, **V sources**, K band, K err, **K sources**, **(same with all the UV fluxes**, number of spectra used, **spectra source(s), spectral type**"
   ]
  },
  {
   "cell_type": "code",
   "execution_count": 57,
   "metadata": {
    "collapsed": false
   },
   "outputs": [
    {
     "name": "stdout",
     "output_type": "stream",
     "text": [
      "\\begin{table}\n",
      "\\begin{tabular}{cccccc}\n",
      "star & RV & K & err_K & V & err_V \\\\\n",
      "GJ176 & 26.0 & 5.607 & 0.034 & 9.951 & 0.0 \\\\\n",
      "GJ667C & 6.1 & 6.036 & 0.02 & 10.22 & 0.0 \\\\\n",
      "GJ581 & -9.8 & 5.837 & 0.023 & 10.56 & 0.02 \\\\\n",
      "GJ1214 & 16.0 & 8.782 & 0.02 & 14.67 & 0.0 \\\\\n",
      "GJ832 & 12.8 & 4.501 & 0.018 & 8.672 & 0.0 \\\\\n",
      "GJ876 & -2.1 & 5.01 & 0.021 & 10.192 & 0.002 \\\\\n",
      "GJ436 & 10.0 & 6.073 & 0.016 & 10.613 & 0.01 \\\\\n",
      "GJ628 & -21.6 & 5.075 & 0.024 & 10.072 & 0.002 \\\\\n",
      "GJ887 & 9.5 & 3.46 & 0.2 & 7.34 & 0.0 \\\\\n",
      "GJ1061 & 0.7 & 6.61 & 0.021 & 13.07 & 0.0 \\\\\n",
      "HD173739 & -1.07 & 4.432 & 0.02 & 8.91 & 0.0 \\\\\n",
      "GSC8056-0482 & 12.0 & 7.501 & 0.027 & 12.411 & 0.537 \\\\\n",
      "2MASSJ02543316-5108313 & 13.8 & 7.79 & 0.03 & 12.21 & 0.0 \\\\\n",
      "2MASSJ02001277-0840516 & 4.5 & 7.868 & 0.02 & 12.44 & 0.07 \\\\\n",
      "G75-55 & -31.07 & 7.171 & 0.027 & 10.977 & 0.05 \\\\\n",
      "2MASSJ22025453-6440441 & 2.2 & 8.157 & 0.033 & 12.683 & 0.0 \\\\\n",
      "2MASSJ00240899-6211042 & 6.1 & 7.494 & 0.021 & 11.335 & 0.02 \\\\\n",
      "2MASSJ01521830-5950168 & 10.3 & 8.138 & 0.029 & 12.54 & 0.02 \\\\\n",
      "2MASSJ03315564-4359135 & 15.1 & 7.47 & 0.021 & 10.927 & 0.082 \\\\\n",
      "2MASSJ23261069-7323498 & 9.2 & 7.942 & 0.027 & 11.877 & 0.061 \\\\\n",
      "2MASSJ23285763-6802338 & 8.0 & 8.381 & 0.023 & 13.04 & 0.01 \\\\\n",
      "2MASSJ00393579-3816584 & 3.3 & 7.861 & 0.02 & 0.0 & 0.0 \\\\\n",
      "GJ173 & -6.636 & 6.091 & 0.021 & 10.331 & 0.0 \\\\\n",
      "GJ3290 & 0.0 & 8.826 & 0.024 & 13.064 & 0.01 \\\\\n",
      "LP415-1619 & 55.103 & 8.94 & 0.02 & 13.338 & 0.01 \\\\\n",
      "LP5-282 & 0.0 & 9.251 & 0.017 & 13.69 & 0.04 \\\\\n",
      "2MASSJ02001277-0840516 & 4.5 & 7.868 & 0.02 & 12.44 & 0.07 \\\\\n",
      "2MASSJ04223953+1816097 & 0.0 & 8.726 & 0.018 & 13.04 & 0.02 \\\\\n",
      "2MASSJ04184702+1321585 & 0.0 & 8.3 & 0.018 & 11.981 & 0.01 \\\\\n",
      "TYC1265-1118-1 & 0.0 & 8.362 & 0.017 & 12.24 & 0.0 \\\\\n",
      "2MASSJ02125819-5851182 & 9.1 & 8.44 & 0.023 & 13.7 & 0.0 \\\\\n",
      "GJ3997 & 0.0 & 6.45 & 0.017 & 10.37 & 0.04 \\\\\n",
      "2MASSJ22463471-7353504 & 9.1 & 8.81 & 0.023 & 13.42 & 0.03 \\\\\n",
      "GJ4334 & -40.0 & 8.98 & 0.02 & 14.59 & 0.0 \\\\\n",
      "GJ49 & -6.56 & 5.371 & 0.02 & 9.56 & 0.02 \\\\\n",
      "GJ871.1A & 3.2 & 6.932 & 0.029 & 12.111 & 0.078 \\\\\n",
      "LP247-13 & 27.5 & 8.41 & 0.018 & 13.132 & 0.01 \\\\\n",
      "G80-21 & 18.9 & 6.933 & 0.024 & 11.537 & 0.049 \\\\\n",
      "CD-571054 & 18.07 & 6.244 & 0.024 & 9.977 & 0.042 \\\\\n",
      "CD-352722 & 31.4 & 7.046 & 0.018 & 11.083 & 0.07 \\\\\n",
      "GJ410 & -13.853 & 5.688 & 0.021 & 9.572 & 0.0 \\\\\n",
      "LP55-41 & 0.0 & 9.03 & 0.0 & 13.858 & 0.06 \\\\\n",
      "G249-11 & 0.0 & 9.73 & 0.0 & 0.0 & 0.0 \\\\\n",
      "G111-72 & 0.0 & 9.059 & 0.016 & 13.154 & 0.09 \\\\\n",
      "GJ213 & 105.83 & 6.389 & 0.016 & 11.509 & 0.001 \\\\\n",
      "GJ4304 & 0.0 & 7.24 & 0.029 & 11.212 & 0.0 \\\\\n",
      "GJ821 & -58.27 & 6.909 & 0.029 & 10.869 & 0.002 \\\\\n",
      "GJ191 & 245.19 & 5.049 & 0.021 & 8.853 & 0.0 \\\\\n",
      "LHS26 & 29.0 & 5.717 & 0.021 & 10.977 & 0.04 \\\\\n",
      "LHS353 & 25.762 & 8.749 & 0.024 & 14.18 & 0.0 \\\\\n",
      "GJ754.1B & 38.513 & 7.414 & 0.02 & 11.676 & 0.01 \\\\\n",
      "GJ388 & 12.5 & 4.593 & 0.017 & 9.52 & 0.0 \\\\\n",
      "GJ803 & -4.5 & 4.529 & 0.0 & 8.627 & 0.052 \\\\\n",
      "GJ873 & 0.4 & 5.299 & 0.024 & 10.26 & 0.06 \\\\\n",
      "GJ551 & -22.4 & 4.384 & 0.033 & 11.13 & 0.0 \\\\\n",
      "GJ1132 & -4.005 & 8.322 & 0.027 & 13.52 & 0.0 \\\\\n",
      "GJ3470 & 42.918 & 7.989 & 0.023 & 12.332 & 0.02 \\\\\n",
      "K2-25 & 38.64 & 10.444 & 0.019 & 15.56 & 0.0 \\\\\n",
      "GJ1243 & -11.38 & 7.773 & 0.016 & 12.83 & 0.0 \\\\\n",
      "TWA13A & 11.3 & 7.491 & 0.038 & 11.46 & 0.0 \\\\\n",
      "TWA13B & 11.6 & 7.46 & 0.027 & 11.96 & 0.0 \\\\\n",
      "TWA7 & 11.4 & 6.899 & 0.027 & 10.91 & 0.07 \\\\\n",
      "LHS2065 & 7.0 & 9.942 & 0.024 & 18.959 & 0.176 \\\\\n",
      "LHS3003 & 1.0 & 8.928 & 0.027 & 17.141 & 0.036 \\\\\n",
      "GJ285 & 26.53 & 5.698 & 0.017 & 11.225 & 0.0 \\\\\n",
      "GJ752B & 29.0 & 8.765 & 0.022 & 17.3 & 0.0 \\\\\n",
      "GJ644C & 15.39 & 8.816 & 0.023 & 16.916 & 0.057 \\\\\n",
      "GJ3053 & 1.18 & 8.821 & 0.024 & 14.15 & 0.06 \\\\\n",
      "TRAPPIST-1 & -54.0 & 10.296 & 0.023 & 18.798 & 0.082 \\\\\n",
      "GJ676A & -39.08 & 5.825 & 0.029 & 9.585 & 0.0 \\\\\n",
      "GJ15A & 11.62 & 4.02 & 0.0 & 8.13 & 0.01 \\\\\n",
      "GJ649 & 4.38 & 5.624 & 0.016 & 9.655 & 0.0 \\\\\n",
      "GJ163 & 58.1 & 7.135 & 0.021 & 11.811 & 0.0 \\\\\n",
      "GJ849 & -15.26 & 5.594 & 0.017 & 10.366 & 0.0 \\\\\n",
      "GJ674 & -2.73 & 4.855 & 0.018 & 9.407 & 0.0 \\\\\n",
      "GJ699 & -110.51 & 4.524 & 0.02 & 9.511 & 0.0 \\\\\n",
      "L980-5 & 0.0 & 8.093 & 0.026 & 12.95 & 0.0 \\\\\n",
      "LP756-18 & 912.541 & 8.915 & 0.021 & 14.63 & 0.0 \\\\\n",
      "LHS2686 & -10.0 & 8.687 & 0.016 & 14.59 & 0.03 \\\\\n",
      "GJ729 & -10.5 & 5.37 & 0.016 & 10.495 & 0.0 \\\\\n",
      "K2-3 & 32.6 & 8.561 & 0.023 & 12.17 & 0.01 \\\\\n",
      "Ross1044 & -174.0 & 8.426 & 0.027 & 12.063 & 0.01 \\\\\n",
      "Ross825 & nan & 8.99 & 0.0 & 11.92 & 0.0 \\\\\n",
      "GJ273 & 18.22 & 4.857 & 0.023 & 9.872 & 0.0 \\\\\n",
      "GJ860A & 0.0 & 0.0 & 0.0 & 11.41 & 0.05 \\\\\n",
      "GJ205 & 8.67 & 3.9 & 0.0 & 7.968 & 0.0 \\\\\n",
      "GJ588 & 15.5 & 4.759 & 0.024 & 9.311 & 0.0 \\\\\n",
      "GJ338A & 11.14 & 3.99 & 0.0 & 7.63 & 0.01 \\\\\n",
      "GJ644A & 14.89 & 4.403 & 0.036 & 9.023 & 0.0 \\\\\n",
      "GJ411 & nan & 3.34 & 0.05 & 7.52 & 0.009 \\\\\n",
      "2MASSJ04483062+1623187 & 0.0 & 8.543 & 0.017 & 12.427 & 0.02 \\\\\n",
      "2MASSJ04235911+1643178 & 0.0 & 8.561 & 0.018 & 12.514 & 0.01 \\\\\n",
      "2MASSJ04251456+1858250 & 0.0 & 8.706 & 0.018 & 12.728 & 0.02 \\\\\n",
      "2MASSJ04202761+1853499 & 0.0 & 10.215 & 0.018 & 0.0 & 0.0 \\\\\n",
      "2MASSJ04172811+1454038 & 0.0 & 9.621 & 0.019 & 14.47 & 0.0 \\\\\n",
      "2MASSJ02564122+3522346 & 0.0 & 8.955 & 0.018 & 13.542 & 0.04 \\\\\n",
      "2MASSJ03553690+2118482 & 0.0 & 11.096 & 0.02 & 17.7 & 0.0 \\\\\n",
      "2MASSJ03555715+1825564 & 0.0 & 9.388 & 0.021 & 14.47 & 0.45 \\\\\n",
      "2MASSJ03581434+1237408 & 0.0 & 10.987 & 0.018 & 0.0 & 0.0 \\\\\n",
      "2MASSJ04004493+1354227 & 0.0 & 9.344 & 0.017 & 14.86 & 0.06 \\\\\n",
      "2MASSJ04062060+1901391 & 0.0 & 10.471 & 0.018 & 16.13 & 0.0 \\\\\n",
      "2MASSJ04183382+1821529 & 0.0 & 10.601 & 0.017 & 16.09 & 0.0 \\\\\n",
      "2MASSJ04262170+1800009 & 0.0 & 10.253 & 0.017 & 0.0 & 0.0 \\\\\n",
      "2MASSJ04290015+1620467 & 0.0 & 9.374 & 0.019 & 14.28 & 0.0 \\\\\n",
      "2MASSJ04214955+1929086 & 0.0 & 11.668 & 0.02 & 0.0 & 0.0 \\\\\n",
      "2MASSJ04110642+1247481 & 0.0 & 11.84 & 0.03 & 0.0 & 0.0 \\\\\n",
      "2MASSJ04254182+1900477 & 0.0 & 10.13 & 0.019 & 0.0 & 0.0 \\\\\n",
      "\\end{tabular}\n",
      "\\end{table}\n"
     ]
    }
   ],
   "source": [
    "table1_names = ['star', 'RV', 'K', 'err_K', 'V', 'err_V']\n",
    "table1 = Table({'star': star_names, \n",
    "              'RV': RV,\n",
    "              'K': np.round(all_k_flux, 3), 'err_K': np.round(all_k_err, 3), \n",
    "              'V': np.round(all_v_flux, 3), 'err_V': np.round(all_v_err, 3)}, names=table1_names)\n",
    "\n",
    "table1 = Table({'star': test[\"star\"], \n",
    "              'RV': test[\"RV\"],\n",
    "              'K': np.round(test[\"K\"], 3), 'err_K': np.round(test[\"err_K\"], 3), \n",
    "              'V': np.round(test[\"V\"], 3), 'err_V': np.round(test[\"err_V\"], 3)}, names=table1_names)\n",
    "\n",
    "ascii.write(table1, sys.stdout, format='latex')"
   ]
  },
  {
   "cell_type": "markdown",
   "metadata": {},
   "source": [
    "### Long"
   ]
  },
  {
   "cell_type": "code",
   "execution_count": 9,
   "metadata": {
    "collapsed": false
   },
   "outputs": [],
   "source": [
    "#Only string based array is star_names. Everything else should have zeros where there is a missing value\n",
    "\n",
    "star_names_full = np.genfromtxt(\"star_names.txt\", dtype='str', missing_values = ('--'), filling_values=(np.nan))\n",
    "RV_full = np.genfromtxt(\"RVs.txt\", missing_values = ('--'), filling_values=(np.nan))\n",
    "\n",
    "newt_Ha_full = np.genfromtxt(\"Comparisons/Newton.txt\", usecols=[0], dtype=\"str\", missing_values = ('--'), filling_values=(np.nan))\n",
    "newt_Ha_err_full = np.genfromtxt(\"Comparisons/Newton.txt\", usecols=[1], dtype=\"str\", missing_values = ('--'), filling_values=(np.nan))\n",
    "ad_logRHK_full = np.genfromtxt(\"Comparisons/AstudilloDefru.txt\", usecols=[0], dtype=\"str\", missing_values = ('--'), filling_values=(np.nan))\n",
    "ad_logRHK_err_full = np.genfromtxt(\"Comparisons/AstudilloDefru.txt\", usecols=[1], dtype=\"str\", missing_values = ('--'), filling_values=(np.nan))\n",
    "ad_S_full = np.genfromtxt(\"Comparisons/AstudilloDefru.txt\", usecols=[2], dtype=\"str\", missing_values = ('--'), filling_values=(np.nan))\n",
    "ad_S_err_full = np.genfromtxt(\"Comparisons/AstudilloDefru.txt\", usecols=[3], dtype=\"str\", missing_values = ('--'), filling_values=(np.nan))\n",
    "\n",
    "all_k_flux_full = np.genfromtxt(\"photometry.txt\", usecols=[0], missing_values = ('--'), filling_values=(np.nan))\n",
    "all_k_err_full = np.genfromtxt(\"photometry.txt\", usecols=[1], missing_values = ('--'), filling_values=(np.nan))\n",
    "all_v_flux_full = np.genfromtxt(\"photometry.txt\", usecols=[2], missing_values = ('--'), filling_values=(np.nan))\n",
    "all_v_err_full = np.genfromtxt(\"photometry.txt\", usecols=[3], missing_values = ('--'), filling_values=(np.nan))\n",
    "\n",
    "h_alpha_full = np.genfromtxt(\"Results/halpha.txt\", usecols=[0], missing_values = ('--'), filling_values=(np.nan))\n",
    "h_alpha_err_full = np.genfromtxt(\"Results/halpha.txt\", usecols=[1], missing_values = ('--'), filling_values=(np.nan))\n",
    "s_index_full = np.genfromtxt(\"Results/cahk_s_rhk.txt\", usecols=[0], missing_values = ('--'), filling_values=(np.nan))\n",
    "s_index_err_full = np.genfromtxt(\"Results/cahk_s_rhk.txt\", usecols=[1], missing_values = ('--'), filling_values=(np.nan))\n",
    "rhk_prime_index_full = np.genfromtxt(\"Results/cahk_s_rhk.txt\", usecols=[2], missing_values = ('--'), filling_values=(np.nan))\n",
    "rhk_prime_index_err_full = np.genfromtxt(\"Results/cahk_s_rhk.txt\", usecols=[3], missing_values = ('--'), filling_values=(np.nan))\n",
    "\n",
    "#print(len(star_names))\n",
    "#print(len(newt_Ha))\n",
    "#print(len(EUV_flux))\n",
    "#print(len(s_index))"
   ]
  },
  {
   "cell_type": "code",
   "execution_count": 10,
   "metadata": {
    "collapsed": true
   },
   "outputs": [],
   "source": [
    "#Eventually will make graphs with all matching Newton and Astudillo-Defru targets to compare\n",
    "#Will need to mask values that don't exist in their tables AND values where RV is zero (calculations will be incorrect for these)"
   ]
  },
  {
   "cell_type": "markdown",
   "metadata": {},
   "source": [
    "## Comparison Tests:"
   ]
  },
  {
   "cell_type": "code",
   "execution_count": 11,
   "metadata": {
    "collapsed": false
   },
   "outputs": [
    {
     "name": "stderr",
     "output_type": "stream",
     "text": [
      "/Users/katiemel/anaconda/lib/python2.7/site-packages/ipykernel/__main__.py:4: RuntimeWarning: divide by zero encountered in log10\n"
     ]
    },
    {
     "data": {
      "image/png": "[encoded data removed]",
      "text/plain": [
       "<matplotlib.figure.Figure at 0x111030310>"
      ]
     },
     "metadata": {},
     "output_type": "display_data"
    }
   ],
   "source": [
    "for i in range(len(test[\"ad_logRHK\"])):\n",
    "    value = test[\"ad_logRHK\"][i]\n",
    "    if value != 0.0:\n",
    "        plt.scatter(np.log10(rhk_prime_index[i]), value)\n",
    "        #plt.errorbar(my_rhk, ad_rhk, yerr=ad_rkh_err, linestyle=\"None\")\n",
    "    plt.plot(np.linspace(-5,-6.2),np.linspace(-5,-6.2))\n",
    "    plt.title(\"Comparison of R'HK index results\")\n",
    "    plt.xlabel(\"Melbourne $log(R'HK)$\")\n",
    "    plt.ylabel(\"Astudio-Defru $log(R'HK)$\")"
   ]
  },
  {
   "cell_type": "code",
   "execution_count": 12,
   "metadata": {
    "collapsed": false
   },
   "outputs": [
    {
     "data": {
      "image/png": "[encoded data removed]",
      "text/plain": [
       "<matplotlib.figure.Figure at 0x114509050>"
      ]
     },
     "metadata": {},
     "output_type": "display_data"
    }
   ],
   "source": [
    "for i in range(len(test[\"s\"])):\n",
    "    value = test[\"ad_S\"][i]\n",
    "    if value != 0.0:\n",
    "        plt.scatter(test[\"s\"][i], value)\n",
    "        #plt.errorbar(my_rhk, ad_rhk, yerr=ad_rkh_err, linestyle=\"None\")\n",
    "    plt.plot(np.linspace(0.4,1.4),np.linspace(0.4,1.4))\n",
    "    plt.title(\"Comparison of S index results\")\n",
    "    plt.xlabel(\"Melbourne S index\")\n",
    "    plt.ylabel(\"Astudio-Defru S index\")"
   ]
  },
  {
   "cell_type": "markdown",
   "metadata": {},
   "source": [
    "#### Attempting to apply masks!!! See below!!! Much excite!!!"
   ]
  },
  {
   "cell_type": "code",
   "execution_count": 13,
   "metadata": {
    "collapsed": false
   },
   "outputs": [
    {
     "name": "stdout",
     "output_type": "stream",
     "text": [
      "[ True False  True False  True  True  True  True  True  True False False\n",
      " False False False False  True False False False False False False False\n",
      "  True False  True  True  True  True  True False  True False  True False\n",
      " False  True  True  True  True  True  True  True  True  True False False]\n",
      "[-4.91099977 -5.77600002 -5.18200016 -5.49599981 -5.45699978 -5.52299976\n",
      " -4.84299994 -5.75400019 -5.25600004 -5.91499996 -5.61299992 -5.9380002\n",
      " -5.04400015 -3.99499989 -5.00299978 -4.85699987 -4.07800007 -4.75199986\n",
      " -5.48000002 -5.296      -4.88500023 -5.69099998 -4.42799997 -5.57399988\n",
      " -4.59899998 -5.17799997]\n",
      "[-5.21049019 -5.64545355 -5.42743053 -5.63132889 -5.56090516 -5.6223707\n",
      " -5.17341294 -5.95385506 -4.37357661        -inf        -inf        -inf\n",
      "        -inf -4.8704424         -inf        -inf -4.9360487  -4.48582343\n",
      " -4.40036621 -4.34401611 -4.66287143        -inf        -inf        -inf\n",
      " -5.43945227 -5.14332782]\n"
     ]
    },
    {
     "name": "stderr",
     "output_type": "stream",
     "text": [
      "/Users/katiemel/anaconda/lib/python2.7/site-packages/ipykernel/__main__.py:7: RuntimeWarning: divide by zero encountered in log10\n",
      "/Users/katiemel/anaconda/lib/python2.7/site-packages/ipykernel/__main__.py:7: RuntimeWarning: invalid value encountered in log10\n",
      "/Users/katiemel/anaconda/lib/python2.7/site-packages/ipykernel/__main__.py:7: VisibleDeprecationWarning: boolean index did not match indexed array along dimension 0; dimension is 107 but corresponding boolean dimension is 48\n",
      "/Users/katiemel/anaconda/lib/python2.7/site-packages/ipykernel/__main__.py:9: RuntimeWarning: divide by zero encountered in log10\n",
      "/Users/katiemel/anaconda/lib/python2.7/site-packages/ipykernel/__main__.py:9: RuntimeWarning: invalid value encountered in log10\n",
      "/Users/katiemel/anaconda/lib/python2.7/site-packages/ipykernel/__main__.py:9: VisibleDeprecationWarning: boolean index did not match indexed array along dimension 0; dimension is 107 but corresponding boolean dimension is 48\n"
     ]
    },
    {
     "data": {
      "text/plain": [
       "<matplotlib.text.Text at 0x1149d1a50>"
      ]
     },
     "execution_count": 13,
     "metadata": {},
     "output_type": "execute_result"
    },
    {
     "data": {
      "image/png": "[encoded data removed]",
      "text/plain": [
       "<matplotlib.figure.Figure at 0x1143acd10>"
      ]
     },
     "metadata": {},
     "output_type": "display_data"
    }
   ],
   "source": [
    "test = ascii.read(\"short_ALL_DATA.dat\")#,fill_values=[(0.0, 'nan')]) \n",
    "\n",
    "bool_ad_logRHK = np.logical_and(test[\"ad_logRHK\"] != 0.0, test[\"rhk_prime\"] != 0)\n",
    "print(bool_ad_logRHK)\n",
    "ad_logRHK = np.array(test[\"ad_logRHK\"])\n",
    "print(ad_logRHK[bool_ad_logRHK])\n",
    "print(np.log10(rhk_prime_index)[bool_ad_logRHK])\n",
    "\n",
    "plt.scatter(np.log10(rhk_prime_index)[bool_ad_logRHK], ad_logRHK[bool_ad_logRHK])\n",
    "#plt.errorbar(my_rhk, ad_rhk, yerr=ad_rkh_err, linestyle=\"None\")\n",
    "plt.plot(np.linspace(-5,-6.2),np.linspace(-5,-6.2))\n",
    "plt.title(\"Comparison of R'HK index results\")\n",
    "plt.xlabel(\"Melbourne $log(R'HK)$\")\n",
    "plt.ylabel(\"Astudio-Defru $log(R'HK)$\")"
   ]
  },
  {
   "cell_type": "code",
   "execution_count": 96,
   "metadata": {
    "collapsed": false
   },
   "outputs": [
    {
     "name": "stdout",
     "output_type": "stream",
     "text": [
      "(25.338590791383574, 25.38272928852448)\n",
      "(3.2477374205896652, 3.2918759177305721)\n",
      "2.15e-15\n"
     ]
    }
   ],
   "source": [
    "#Testing difference between voigt profile and gaussian\n",
    "\n",
    "#convert flux to luminosity for each line\n",
    "lum_gauss = data[\"SiIII\"][0] * 4 * np.pi * np.array(data[\"dist\"][0])**2 * 3e18**2\n",
    "lum_voigt = 2.38E-15 * 4 * np.pi * np.array(data[\"dist\"][0])**2 * 3e18**2\n",
    "print(np.log10(lum_gauss), np.log10(lum_voigt))\n",
    "\n",
    "#convert luminosity to surface flux for each star\n",
    "sur_flux_gauss = lum_gauss / (4 * np.pi * np.array(data[\"radius\"][0])**2 * 6.96e10**2)\n",
    "sur_flux_voigt = lum_voigt / (4 * np.pi * np.array(data[\"radius\"][0])**2 * 6.96e10**2)\n",
    "print(np.log10(sur_flux_gauss), np.log10(sur_flux_voigt))\n",
    "        \n",
    "#print(data[\"EUV_lum_err\"])\n",
    "#print(data[\"EUV_surface_flux_err\"])\n",
    "\n",
    "#print(data['s_err'][data['star']=='GJ176'])\n",
    "\n",
    "print(data[\"SiIII\"][0])"
   ]
  },
  {
   "cell_type": "code",
   "execution_count": null,
   "metadata": {
    "collapsed": true
   },
   "outputs": [],
   "source": []
  }
 ],
 "metadata": {
  "kernelspec": {
   "display_name": "Python 2",
   "language": "python",
   "name": "python2"
  },
  "language_info": {
   "codemirror_mode": {
    "name": "ipython",
    "version": 2
   },
   "file_extension": ".py",
   "mimetype": "text/x-python",
   "name": "python",
   "nbconvert_exporter": "python",
   "pygments_lexer": "ipython2",
   "version": "2.7.12"
  }
 },
 "nbformat": 4,
 "nbformat_minor": 0
}
