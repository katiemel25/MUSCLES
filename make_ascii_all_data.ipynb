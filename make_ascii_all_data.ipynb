{
 "cells": [
  {
   "cell_type": "code",
   "execution_count": 1,
   "metadata": {
    "collapsed": false
   },
   "outputs": [
    {
     "name": "stderr",
     "output_type": "stream",
     "text": [
      "/Users/katiemel/anaconda/lib/python2.7/site-packages/matplotlib/font_manager.py:273: UserWarning: Matplotlib is building the font cache using fc-list. This may take a moment.\n",
      "  warnings.warn('Matplotlib is building the font cache using fc-list. This may take a moment.')\n"
     ]
    }
   ],
   "source": [
    "from astroquery.simbad import Simbad\n",
    "import numpy as np\n",
    "from astropy.io import ascii\n",
    "from astropy.table import Table\n",
    "import matplotlib.pyplot as plt\n",
    "import sys\n",
    "\n",
    "%matplotlib inline"
   ]
  },
  {
   "cell_type": "markdown",
   "metadata": {},
   "source": [
    "### Short"
   ]
  },
  {
   "cell_type": "code",
   "execution_count": 2,
   "metadata": {
    "collapsed": false
   },
   "outputs": [
    {
     "name": "stdout",
     "output_type": "stream",
     "text": [
      "48\n",
      "48\n",
      "48\n",
      "48\n"
     ]
    }
   ],
   "source": [
    "#Only string based array is star_names. Everything else should have zeros where there is a missing value\n",
    "\n",
    "star_names = np.genfromtxt(\"short_star_names.txt\", dtype='str', missing_values = ('--'), filling_values=(np.nan))\n",
    "RV = np.genfromtxt(\"short_RVs.txt\", missing_values = ('--'), filling_values=(np.nan))\n",
    "\n",
    "newt_Ha = np.genfromtxt(\"Comparisons/short_Newton.txt\", usecols=[0], missing_values = ('--'), filling_values=(np.nan))\n",
    "newt_Ha_err = np.genfromtxt(\"Comparisons/short_Newton.txt\", usecols=[1], missing_values = ('--'), filling_values=(np.nan))\n",
    "ad_logRHK = np.genfromtxt(\"Comparisons/short_AstudilloDefru.txt\", usecols=[0], missing_values = ('--'), filling_values=(np.nan))\n",
    "ad_logRHK_err = np.genfromtxt(\"Comparisons/short_AstudilloDefru.txt\", usecols=[1], missing_values = ('--'), filling_values=(np.nan))\n",
    "ad_S = np.genfromtxt(\"Comparisons/short_AstudilloDefru.txt\", usecols=[2], missing_values = ('--'), filling_values=(np.nan))\n",
    "ad_S_err = np.genfromtxt(\"Comparisons/short_AstudilloDefru.txt\", usecols=[3], missing_values = ('--'), filling_values=(np.nan))\n",
    "\n",
    "all_k_flux = np.genfromtxt(\"short_photometry.txt\", usecols=[0], missing_values = ('--'), filling_values=(np.nan))\n",
    "all_k_err = np.genfromtxt(\"short_photometry.txt\", usecols=[1], missing_values = ('--'), filling_values=(np.nan))\n",
    "all_v_flux = np.genfromtxt(\"short_photometry.txt\", usecols=[2], missing_values = ('--'), filling_values=(np.nan))\n",
    "all_v_err = np.genfromtxt(\"short_photometry.txt\", usecols=[3], missing_values = ('--'), filling_values=(np.nan))\n",
    "\n",
    "h_alpha = np.genfromtxt(\"Results/short_halpha.txt\", usecols=[0], missing_values = ('--'), filling_values=(np.nan))\n",
    "h_alpha_err = np.genfromtxt(\"Results/short_halpha.txt\", usecols=[1], missing_values = ('--'), filling_values=(np.nan))\n",
    "s_index = np.genfromtxt(\"Results/short_cahk_s_rhk.txt\", usecols=[0], missing_values = ('--'), filling_values=(np.nan))\n",
    "s_index_err = np.genfromtxt(\"Results/short_cahk_s_rhk.txt\", usecols=[1], missing_values = ('--'), filling_values=(np.nan))\n",
    "rhk_prime_index = np.genfromtxt(\"Results/short_cahk_s_rhk.txt\", usecols=[2], missing_values = ('--'), filling_values=(np.nan))\n",
    "rhk_prime_index_err = np.genfromtxt(\"Results/short_cahk_s_rhk.txt\", usecols=[3], missing_values = ('--'), filling_values=(np.nan))\n",
    "\"\"\"\n",
    "SiIII_flux = np.genfromtxt(\"uv_fluxes.txt\", skip_header=2, usecols=[0], missing_values = ('--'), filling_values=(np.nan))\n",
    "SiIII_flux_err = np.genfromtxt(\"uv_fluxes.txt\", skip_header=2, usecols=[1], missing_values = ('--'), filling_values=(np.nan))\n",
    "LyA_flux = np.genfromtxt(\"uv_fluxes.txt\", skip_header=5, usecols=[2], missing_values = ('--'), filling_values=(np.nan))\n",
    "LyA_flux_err = np.genfromtxt(\"uv_fluxes.txt\", skip_header=5, usecols=[3], missing_values = ('--'), filling_values=(np.nan))\n",
    "SiII_flux = np.genfromtxt(\"uv_fluxes.txt\", skip_header=5, usecols=[4], missing_values = ('--'), filling_values=(np.nan))\n",
    "SiII_flux_err = np.genfromtxt(\"uv_fluxes.txt\", skip_header=5, usecols=[5], missing_values = ('--'), filling_values=(np.nan))\n",
    "CII_flux =np.genfromtxt(\"uv_fluxes.txt\", skip_header=5, usecols=[6], missing_values = ('--'), filling_values=(np.nan))\n",
    "CII_flux_err = np.genfromtxt(\"uv_fluxes.txt\", skip_header=5, usecols=[7], missing_values = ('--'), filling_values=(np.nan))\n",
    "MgII_flux = np.genfromtxt(\"uv_fluxes.txt\", skip_header=5, usecols=[8], missing_values = ('--'), filling_values=(np.nan))\n",
    "MgII_flux_err = np.genfromtxt(\"uv_fluxes.txt\", skip_header=5, usecols=[9], missing_values = ('--'), filling_values=(np.nan))\n",
    "SiIV_flux = np.genfromtxt(\"uv_fluxes.txt\", skip_header=5, usecols=[10], missing_values = ('--'), filling_values=(np.nan))\n",
    "SiIV_flux_err = np.genfromtxt(\"uv_fluxes.txt\", skip_header=5, usecols=[11], missing_values = ('--'), filling_values=(np.nan))\n",
    "HeII_flux = np.genfromtxt(\"uv_fluxes.txt\", skip_header=5, usecols=[12], missing_values = ('--'), filling_values=(np.nan))\n",
    "HeII_flux_err = np.genfromtxt(\"uv_fluxes.txt\", skip_header=5, usecols=[13], missing_values = ('--'), filling_values=(np.nan))\n",
    "CIV_flux = np.genfromtxt(\"uv_fluxes.txt\", skip_header=5, usecols=[14], missing_values = ('--'), filling_values=(np.nan))\n",
    "CIV_flux_err = np.genfromtxt(\"uv_fluxes.txt\", skip_header=5, usecols=[15], missing_values = ('--'), filling_values=(np.nan))\n",
    "NV_flux = np.genfromtxt(\"uv_fluxes.txt\", skip_header=5, usecols=[16], missing_values = ('--'), filling_values=(np.nan))\n",
    "NV_flux_err = np.genfromtxt(\"uv_fluxes.txt\", skip_header=5, usecols=[17], missing_values = ('--'), filling_values=(np.nan))\n",
    "EUV_flux = np.genfromtxt(\"uv_fluxes.txt\", skip_header=5, usecols=[18], missing_values = ('--'), filling_values=(np.nan))\n",
    "\n",
    "dists = np.genfromtxt(\"uv_fluxes.txt\", skip_header=2, usecols=[19], missing_values = ('--'), filling_values=(np.nan)) #parsecs\n",
    "radii = np.genfromtxt(\"uv_fluxes.txt\", skip_header=2, usecols=[20], missing_values = ('--'), filling_values=(np.nan)) #solar radii\n",
    "temps = np.genfromtxt(\"uv_fluxes.txt\", skip_header=2, usecols=[21], missing_values = ('--'), filling_values=(np.nan)) #kelvin\n",
    "\"\"\"\n",
    "print(len(star_names))\n",
    "print(len(newt_Ha))\n",
    "#print(len(EUV_flux))\n",
    "print(len(s_index))\n",
    "print(len(ad_logRHK))"
   ]
  },
  {
   "cell_type": "code",
   "execution_count": 48,
   "metadata": {
    "collapsed": false
   },
   "outputs": [
    {
     "name": "stdout",
     "output_type": "stream",
     "text": [
      "48\n"
     ]
    }
   ],
   "source": [
    "num_spectra_ha = []\n",
    "num_spectra_s = []\n",
    "num_spectra_logrhk = []\n",
    "for star in star_names:\n",
    "    ha = np.genfromtxt(\"Results/%s_spectra_halpha.txt\" % star, usecols=[0])\n",
    "    s = np.genfromtxt(\"Results/%s_spectra_cahk.txt\" % star, usecols=[0])\n",
    "    rhk = np.genfromtxt(\"Results/%s_spectra_cahk.txt\" % star, usecols=[2])\n",
    "    \n",
    "    len_ha = len(ha[ha!=0])\n",
    "    len_s = len(s[s!=0])\n",
    "    len_rhk = len(rhk[rhk>0])\n",
    "    \n",
    "    num_spectra_ha.append(len_ha)\n",
    "    num_spectra_s.append(len_s)\n",
    "    num_spectra_logrhk.append(len_rhk)\n",
    "    \n",
    "print(len(num_spectra_ha))"
   ]
  },
  {
   "cell_type": "code",
   "execution_count": 49,
   "metadata": {
    "collapsed": false
   },
   "outputs": [],
   "source": [
    "all_names = ['star', 'RV', 'K', 'err_K', 'V', 'err_V',\n",
    "             'H_alpha', 'H_alpha_err', 's', 's_err', 'rhk_prime', 'rhk_prime_err', \n",
    "             #'SiIII', 'SiIII_err', 'LyA', 'LyA_err','SiII', 'SiII_err', \n",
    "             #'CII', 'CII_err', 'MgII', 'MgII_err', 'SiIV', 'SiIV_err', 'HeII', 'HeII_err', \n",
    "             #'CIV', 'CIV_err', 'NV', 'NV_err', 'EUV', 'dist', 'radius', 'teff', \n",
    "             'newt_Ha', 'newt_Ha_err', 'ad_logRHK', 'ad_logRHK_err', 'ad_S', 'ad_S_err', \n",
    "             \"num_spectra_ha\", \"num_spectra_s\", \"num_spectra_logrhk\"]\n",
    "data = Table({'star': star_names, \n",
    "              'RV': RV,\n",
    "              'K': all_k_flux, 'err_K': all_k_err, \n",
    "              'V': all_v_flux, 'err_V': all_v_err, \n",
    "              'H_alpha': h_alpha, 'H_alpha_err': h_alpha_err,\n",
    "              's': s_index, 's_err': s_index_err,\n",
    "              'rhk_prime': rhk_prime_index, 'rhk_prime_err': rhk_prime_index_err,\n",
    "              #'SiIII': SiII_flux, 'SiIII_err': SiII_flux_err,\n",
    "              #'LyA': LyA_flux, 'LyA_err': LyA_flux_err,\n",
    "              #'SiII': SiII_flux, 'SiII_err': SiII_flux_err,\n",
    "              #'CII': CII_flux, 'CII_err': CII_flux_err,\n",
    "              #'MgII': MgII_flux, 'MgII_err': MgII_flux_err,\n",
    "              #'SiIV': SiIV_flux, 'SiIV_err': SiIV_flux_err,\n",
    "              #'HeII': HeII_flux, 'HeII_err': HeII_flux_err,\n",
    "              #'CIV': CIV_flux, 'CIV_err': CIV_flux_err,\n",
    "              #'NV': NV_flux, 'NV_err': NV_flux_err,\n",
    "              #'EUV': EUV_flux, \n",
    "              #'dist': dists, 'radius': radii, 'teff': temps, \n",
    "              'newt_Ha': newt_Ha, 'newt_Ha_err': newt_Ha_err, \n",
    "              'ad_logRHK': ad_logRHK, 'ad_logRHK_err': ad_logRHK_err, \n",
    "              'ad_S': ad_S, 'ad_S_err': ad_S_err,\n",
    "              'num_spectra_ha': num_spectra_ha, 'num_spectra_s': num_spectra_s, \n",
    "              'num_spectra_logrhk': num_spectra_logrhk}, names=all_names)"
   ]
  },
  {
   "cell_type": "code",
   "execution_count": 18,
   "metadata": {
    "collapsed": false
   },
   "outputs": [
    {
     "ename": "KeyError",
     "evalue": "'SiIII'",
     "output_type": "error",
     "traceback": [
      "\u001b[0;31m---------------------------------------------------------------------------\u001b[0m",
      "\u001b[0;31mKeyError\u001b[0m                                  Traceback (most recent call last)",
      "\u001b[0;32m<ipython-input-18-af5faa01bc34>\u001b[0m in \u001b[0;36m<module>\u001b[0;34m()\u001b[0m\n\u001b[1;32m      3\u001b[0m \u001b[0;32mfor\u001b[0m \u001b[0mline\u001b[0m \u001b[0;32min\u001b[0m \u001b[0muv_lines\u001b[0m\u001b[0;34m:\u001b[0m\u001b[0;34m\u001b[0m\u001b[0m\n\u001b[1;32m      4\u001b[0m     \u001b[0;31m#convert flux to luminosity for each line\u001b[0m\u001b[0;34m\u001b[0m\u001b[0;34m\u001b[0m\u001b[0m\n\u001b[0;32m----> 5\u001b[0;31m     \u001b[0mluminosities\u001b[0m \u001b[0;34m=\u001b[0m \u001b[0mdata\u001b[0m\u001b[0;34m[\u001b[0m\u001b[0mline\u001b[0m\u001b[0;34m]\u001b[0m \u001b[0;34m*\u001b[0m \u001b[0;36m4\u001b[0m \u001b[0;34m*\u001b[0m \u001b[0mnp\u001b[0m\u001b[0;34m.\u001b[0m\u001b[0mpi\u001b[0m \u001b[0;34m*\u001b[0m \u001b[0mnp\u001b[0m\u001b[0;34m.\u001b[0m\u001b[0marray\u001b[0m\u001b[0;34m(\u001b[0m\u001b[0mdata\u001b[0m\u001b[0;34m[\u001b[0m\u001b[0;34m\"dist\"\u001b[0m\u001b[0;34m]\u001b[0m\u001b[0;34m)\u001b[0m\u001b[0;34m**\u001b[0m\u001b[0;36m2\u001b[0m \u001b[0;34m*\u001b[0m \u001b[0;36m3e18\u001b[0m\u001b[0;34m**\u001b[0m\u001b[0;36m2\u001b[0m\u001b[0;34m\u001b[0m\u001b[0m\n\u001b[0m\u001b[1;32m      6\u001b[0m     \u001b[0mdata\u001b[0m\u001b[0;34m[\u001b[0m\u001b[0;34m'%s_lum'\u001b[0m \u001b[0;34m%\u001b[0m \u001b[0mline\u001b[0m\u001b[0;34m]\u001b[0m \u001b[0;34m=\u001b[0m \u001b[0mluminosities\u001b[0m\u001b[0;34m\u001b[0m\u001b[0m\n\u001b[1;32m      7\u001b[0m \u001b[0;34m\u001b[0m\u001b[0m\n",
      "\u001b[0;32m/Users/katiemel/anaconda/lib/python2.7/site-packages/astropy/table/table.pyc\u001b[0m in \u001b[0;36m__getitem__\u001b[0;34m(self, item)\u001b[0m\n\u001b[1;32m   1220\u001b[0m     \u001b[0;32mdef\u001b[0m \u001b[0m__getitem__\u001b[0m\u001b[0;34m(\u001b[0m\u001b[0mself\u001b[0m\u001b[0;34m,\u001b[0m \u001b[0mitem\u001b[0m\u001b[0;34m)\u001b[0m\u001b[0;34m:\u001b[0m\u001b[0;34m\u001b[0m\u001b[0m\n\u001b[1;32m   1221\u001b[0m         \u001b[0;32mif\u001b[0m \u001b[0misinstance\u001b[0m\u001b[0;34m(\u001b[0m\u001b[0mitem\u001b[0m\u001b[0;34m,\u001b[0m \u001b[0msix\u001b[0m\u001b[0;34m.\u001b[0m\u001b[0mstring_types\u001b[0m\u001b[0;34m)\u001b[0m\u001b[0;34m:\u001b[0m\u001b[0;34m\u001b[0m\u001b[0m\n\u001b[0;32m-> 1222\u001b[0;31m             \u001b[0;32mreturn\u001b[0m \u001b[0mself\u001b[0m\u001b[0;34m.\u001b[0m\u001b[0mcolumns\u001b[0m\u001b[0;34m[\u001b[0m\u001b[0mitem\u001b[0m\u001b[0;34m]\u001b[0m\u001b[0;34m\u001b[0m\u001b[0m\n\u001b[0m\u001b[1;32m   1223\u001b[0m         \u001b[0;32melif\u001b[0m \u001b[0misinstance\u001b[0m\u001b[0;34m(\u001b[0m\u001b[0mitem\u001b[0m\u001b[0;34m,\u001b[0m \u001b[0;34m(\u001b[0m\u001b[0mint\u001b[0m\u001b[0;34m,\u001b[0m \u001b[0mnp\u001b[0m\u001b[0;34m.\u001b[0m\u001b[0minteger\u001b[0m\u001b[0;34m)\u001b[0m\u001b[0;34m)\u001b[0m\u001b[0;34m:\u001b[0m\u001b[0;34m\u001b[0m\u001b[0m\n\u001b[1;32m   1224\u001b[0m             \u001b[0;32mreturn\u001b[0m \u001b[0mself\u001b[0m\u001b[0;34m.\u001b[0m\u001b[0mRow\u001b[0m\u001b[0;34m(\u001b[0m\u001b[0mself\u001b[0m\u001b[0;34m,\u001b[0m \u001b[0mitem\u001b[0m\u001b[0;34m)\u001b[0m\u001b[0;34m\u001b[0m\u001b[0m\n",
      "\u001b[0;32m/Users/katiemel/anaconda/lib/python2.7/site-packages/astropy/table/table.pyc\u001b[0m in \u001b[0;36m__getitem__\u001b[0;34m(self, item)\u001b[0m\n\u001b[1;32m    107\u001b[0m         \"\"\"\n\u001b[1;32m    108\u001b[0m         \u001b[0;32mif\u001b[0m \u001b[0misinstance\u001b[0m\u001b[0;34m(\u001b[0m\u001b[0mitem\u001b[0m\u001b[0;34m,\u001b[0m \u001b[0msix\u001b[0m\u001b[0;34m.\u001b[0m\u001b[0mstring_types\u001b[0m\u001b[0;34m)\u001b[0m\u001b[0;34m:\u001b[0m\u001b[0;34m\u001b[0m\u001b[0m\n\u001b[0;32m--> 109\u001b[0;31m             \u001b[0;32mreturn\u001b[0m \u001b[0mOrderedDict\u001b[0m\u001b[0;34m.\u001b[0m\u001b[0m__getitem__\u001b[0m\u001b[0;34m(\u001b[0m\u001b[0mself\u001b[0m\u001b[0;34m,\u001b[0m \u001b[0mitem\u001b[0m\u001b[0;34m)\u001b[0m\u001b[0;34m\u001b[0m\u001b[0m\n\u001b[0m\u001b[1;32m    110\u001b[0m         \u001b[0;32melif\u001b[0m \u001b[0misinstance\u001b[0m\u001b[0;34m(\u001b[0m\u001b[0mitem\u001b[0m\u001b[0;34m,\u001b[0m \u001b[0;34m(\u001b[0m\u001b[0mint\u001b[0m\u001b[0;34m,\u001b[0m \u001b[0mnp\u001b[0m\u001b[0;34m.\u001b[0m\u001b[0minteger\u001b[0m\u001b[0;34m)\u001b[0m\u001b[0;34m)\u001b[0m\u001b[0;34m:\u001b[0m\u001b[0;34m\u001b[0m\u001b[0m\n\u001b[1;32m    111\u001b[0m             \u001b[0;32mreturn\u001b[0m \u001b[0mself\u001b[0m\u001b[0;34m.\u001b[0m\u001b[0mvalues\u001b[0m\u001b[0;34m(\u001b[0m\u001b[0;34m)\u001b[0m\u001b[0;34m[\u001b[0m\u001b[0mitem\u001b[0m\u001b[0;34m]\u001b[0m\u001b[0;34m\u001b[0m\u001b[0m\n",
      "\u001b[0;31mKeyError\u001b[0m: 'SiIII'"
     ]
    }
   ],
   "source": [
    "uv_lines = [\"SiIII\", \"LyA\", \"SiII\", \"CII\", \"MgII\", \"SiIV\", \"HeII\", \"CIV\", \"NV\", \"EUV\"]\n",
    "\n",
    "for line in uv_lines:\n",
    "    #convert flux to luminosity for each line\n",
    "    luminosities = data[line] * 4 * np.pi * np.array(data[\"dist\"])**2 * 3e18**2\n",
    "    data['%s_lum' % line] = luminosities\n",
    "\n",
    "    #convert luminosity to surface flux for each star\n",
    "    surface_flux = luminosities / (4 * np.pi * np.array(data[\"radius\"])**2 * 6.96e10**2)\n",
    "    data['%s_surface_flux' % line] = surface_flux\n",
    "    \n",
    "    #error analysis (different for EUV -- no errors provided so just 0)\n",
    "    if line != \"EUV\":\n",
    "        lum_err = data['%s_err' % line] * 4 * np.array(data[\"dist\"])**2 * 3e18**2\n",
    "        data['%s_lum_err' % line] = lum_err\n",
    "        surface_flux_err = lum_err / (4 * np.pi * np.array(data[\"radius\"])**2 * 6.96e10**2)\n",
    "        data['%s_surface_flux_err' % line] = surface_flux_err\n",
    "        \n",
    "    else:\n",
    "        data['%s_lum_err' % line] = np.zeros(len(star_names))\n",
    "        data['%s_surface_flux_err' % line] = np.zeros(len(star_names))\n",
    "        \n",
    "#print(data[\"EUV_lum_err\"])\n",
    "#print(data[\"EUV_surface_flux_err\"])\n",
    "\n",
    "#print(data['s_err'][data['star']=='GJ176'])"
   ]
  },
  {
   "cell_type": "code",
   "execution_count": 50,
   "metadata": {
    "collapsed": false
   },
   "outputs": [],
   "source": [
    "#print(data)\n",
    "ascii.write(data, 'short_ALL_DATA.dat', overwrite=True)\n",
    "#print(data['SiIII_lum'][data['star']=='GJ176']) #example of subsetting the data\n",
    "#print(data['H_alpha'][data['star']=='K2-25'])"
   ]
  },
  {
   "cell_type": "code",
   "execution_count": 51,
   "metadata": {
    "collapsed": false
   },
   "outputs": [
    {
     "name": "stdout",
     "output_type": "stream",
     "text": [
      "('star', 'RV', 'K', 'err_K', 'V', 'err_V', 'H_alpha', 'H_alpha_err', 's', 's_err', 'rhk_prime', 'rhk_prime_err', 'newt_Ha', 'newt_Ha_err', 'ad_logRHK', 'ad_logRHK_err', 'ad_S', 'ad_S_err', 'num_spectra_ha', 'num_spectra_s', 'num_spectra_logrhk')\n"
     ]
    }
   ],
   "source": [
    "test = ascii.read(\"short_ALL_DATA.dat\", fill_values=[(\"nan\", 0.0)]) \n",
    "print(test.dtype.names)\n",
    "#print(test)\n",
    "#print(test[\"SiIII_lum\"])\n",
    "#print(test[\"num_spectra_logrhk\"])"
   ]
  },
  {
   "cell_type": "markdown",
   "metadata": {},
   "source": [
    "## Make Table 1:\n",
    "\n",
    "Targets, RV, **RV source**, V band, V err, **V sources**, K band, K err, **K sources**, **(same with all the UV fluxes**, number of spectra used, **spectra source(s), spectral type**"
   ]
  },
  {
   "cell_type": "code",
   "execution_count": 55,
   "metadata": {
    "collapsed": false
   },
   "outputs": [
    {
     "name": "stdout",
     "output_type": "stream",
     "text": [
      "\\begin{table}\n",
      "\\begin{tabular}{ccccccccc}\n",
      "star & RV & K & err_K & V & err_V & spectra_ha & spectra_s & spectra_rhk \\\\\n",
      "GJ176 & 26.0 & 5.60699987411 & 0.0340000018477 & 9.95100021362 & 0.0 & 85 & 85 & 85 \\\\\n",
      "GJ667C & 6.1 & 6.03599977493 & 0.019999999553 & 10.220000267 & 0.0 & 180 & 180 & 180 \\\\\n",
      "GJ581 & -9.8 & 5.83699989319 & 0.0230000000447 & 10.5600004196 & 0.019999999553 & 26 & 26 & 26 \\\\\n",
      "GJ1214 & 16.0 & 8.78199958801 & 0.019999999553 & 14.6700000763 & 0.0 & 95 & 94 & 93 \\\\\n",
      "GJ832 & 12.8 & 4.50099992752 & 0.0179999992251 & 8.67199993134 & 0.0 & 62 & 62 & 62 \\\\\n",
      "GJ876 & -2.1 & 5.01000022888 & 0.0209999997169 & 10.1920003891 & 0.00170000002254 & 200 & 200 & 200 \\\\\n",
      "GJ436 & 10.0 & 6.07299995422 & 0.01600000076 & 10.6129999161 & 0.00999999977648 & 169 & 169 & 169 \\\\\n",
      "GJ628 & -21.6 & 5.07499980927 & 0.0240000002086 & 10.0719995499 & 0.00209999992512 & 200 & 199 & 199 \\\\\n",
      "GJ887 & 9.5 & 3.46000003815 & 0.20000000298 & 7.34000015259 & 0.0 & 198 & 189 & 187 \\\\\n",
      "GJ1061 & 0.7 & 6.61000013351 & 0.0209999997169 & 13.0699996948 & 0.0 & 7 & 7 & 7 \\\\\n",
      "HD173739 & -1.07 & 4.43200016022 & 0.019999999553 & 8.90999984741 & 0.0 & 0 & 37 & 33 \\\\\n",
      "GSC8056-0482 & 12.0 & 7.50099992752 & 0.0270000007004 & 12.4110002518 & 0.537000000477 & 1 & 1 & 1 \\\\\n",
      "2MASSJ00240899-6211042 & 6.1 & 7.49399995804 & 0.0209999997169 & 11.3350000381 & 0.019999999553 & 3 & 3 & 3 \\\\\n",
      "2MASSJ01521830-5950168 & 10.3 & 8.13799953461 & 0.0289999991655 & 12.5399999619 & 0.019999999553 & 3 & 3 & 3 \\\\\n",
      "2MASSJ03315564-4359135 & 15.1 & 7.46999979019 & 0.0209999997169 & 10.9270000458 & 0.082000002265 & 2 & 1 & 1 \\\\\n",
      "2MASSJ23261069-7323498 & 9.2 & 7.94199991226 & 0.0270000007004 & 11.876999855 & 0.0610000006855 & 3 & 3 & 3 \\\\\n",
      "GJ173 & -6.636 & 6.09100008011 & 0.0209999997169 & 10.3310003281 & 0.0 & 16 & 16 & 16 \\\\\n",
      "TYC1265-1118-1 & 0.0 & 8.36200046539 & 0.0170000009239 & 12.2399997711 & 0.0 & 0 & 1 & 1 \\\\\n",
      "GJ49 & -6.56 & 5.37099981308 & 0.019999999553 & 9.56000041962 & 0.019999999553 & 0 & 21 & 21 \\\\\n",
      "GJ871.1A & 3.2 & 6.93200016022 & 0.0289999991655 & 12.111000061 & 0.0780000016093 & 2 & 2 & 2 \\\\\n",
      "G80-21 & 18.9 & 6.93300008774 & 0.0240000002086 & 11.5369997025 & 0.0489999987185 & 3 & 4 & 4 \\\\\n",
      "CD-571054 & 18.07 & 6.24399995804 & 0.0240000002086 & 9.97700023651 & 0.0419999994338 & 15 & 14 & 14 \\\\\n",
      "CD-352722 & 31.4 & 7.04600000381 & 0.0179999992251 & 11.0830001831 & 0.070000000298 & 2 & 1 & 1 \\\\\n",
      "GJ410 & -13.853 & 5.68800020218 & 0.0209999997169 & 9.57199954987 & 0.0 & 13 & 13 & 13 \\\\\n",
      "GJ213 & 105.83 & 6.38899993896 & 0.01600000076 & 11.5089998245 & 0.0010000000475 & 128 & 125 & 125 \\\\\n",
      "GJ4304 & 0.0 & 7.23999977112 & 0.0289999991655 & 11.2119998932 & 0.0 & 4 & 4 & 4 \\\\\n",
      "GJ821 & -58.27 & 6.90899991989 & 0.0289999991655 & 10.8690004349 & 0.00209999992512 & 106 & 15 & 15 \\\\\n",
      "GJ191 & 245.19 & 5.04899978638 & 0.0209999997169 & 8.85299968719 & 0.0 & 143 & 142 & 142 \\\\\n",
      "GJ754.1B & 38.513 & 7.41400003433 & 0.019999999553 & 11.6759996414 & 0.00999999977648 & 2 & 1 & 1 \\\\\n",
      "GJ803 & -4.5 & 4.52899980545 & 0.0 & 8.62699985504 & 0.0520000010729 & 44 & 43 & 43 \\\\\n",
      "GJ551 & -22.4 & 4.38399982452 & 0.0329999998212 & 11.1300001144 & 0.0 & 166 & 114 & 111 \\\\\n",
      "GJ1132 & -4.005 & 8.32199954987 & 0.0270000007004 & 13.5200004578 & 0.0 & 126 & 125 & 125 \\\\\n",
      "GJ3470 & 42.918 & 7.9889998436 & 0.0230000000447 & 12.3319997787 & 0.019999999553 & 80 & 80 & 80 \\\\\n",
      "TWA7 & 11.4 & 6.89900016785 & 0.0270000007004 & 10.9099998474 & 0.070000000298 & 33 & 32 & 32 \\\\\n",
      "GJ285 & 26.53 & 5.69799995422 & 0.0170000009239 & 11.2250003815 & 0.0 & 93 & 26 & 23 \\\\\n",
      "GJ752B & 29.0 & 8.76500034332 & 0.0219999998808 & 17.2999992371 & 0.0 & 4 & 4 & 0 \\\\\n",
      "GJ3053 & 1.18 & 8.82100009918 & 0.0240000002086 & 14.1499996185 & 0.0599999986589 & 100 & 94 & 92 \\\\\n",
      "GJ676A & -39.08 & 5.82499980927 & 0.0289999991655 & 9.58500003815 & 0.0 & 58 & 58 & 58 \\\\\n",
      "GJ163 & 58.1 & 7.13500022888 & 0.0209999997169 & 11.8109998703 & 0.0 & 175 & 172 & 172 \\\\\n",
      "GJ849 & -15.26 & 5.59399986267 & 0.0170000009239 & 10.3660001755 & 0.0 & 30 & 30 & 30 \\\\\n",
      "GJ674 & -2.73 & 4.85500001907 & 0.0179999992251 & 9.40699958801 & 0.0 & 182 & 182 & 182 \\\\\n",
      "GJ699 & -110.51 & 4.52400016785 & 0.019999999553 & 9.51099967957 & 0.0 & 71 & 71 & 71 \\\\\n",
      "GJ729 & -10.5 & 5.36999988556 & 0.01600000076 & 10.4949998856 & 0.0 & 77 & 76 & 76 \\\\\n",
      "GJ273 & 18.22 & 4.85699987411 & 0.0230000000447 & 9.8719997406 & 0.0 & 199 & 199 & 199 \\\\\n",
      "GJ205 & 8.67 & 3.90000009537 & 0.0 & 7.96799993515 & 0.0 & 102 & 102 & 102 \\\\\n",
      "GJ588 & 15.5 & 4.75899982452 & 0.0240000002086 & 9.3109998703 & 0.0 & 89 & 87 & 87 \\\\\n",
      "GJ644A & 14.89 & 4.40299987793 & 0.0359999984503 & 9.02299976349 & 0.0 & 2 & 0 & 0 \\\\\n",
      "GJ411 & -84.69 & 3.33999991417 & 0.0500000007451 & 7.51999998093 & 0.00899999961257 & 10 & 2 & 2 \\\\\n",
      "\\end{tabular}\n",
      "\\end{table}\n"
     ]
    }
   ],
   "source": [
    "table1_names = ['star', 'RV', 'K', 'err_K', 'V', 'err_V',\n",
    "             \"spectra_ha\", \"spectra_s\", \"spectra_rhk\"]\n",
    "table1 = Table({'star': star_names, \n",
    "              'RV': RV,\n",
    "              'K': all_k_flux, 'err_K': all_k_err, \n",
    "              'V': all_v_flux, 'err_V': all_v_err, \n",
    "              'spectra_ha': num_spectra_ha, 'spectra_s': num_spectra_s, \n",
    "              'spectra_rhk': num_spectra_logrhk}, names=table1_names)\n",
    "\n",
    "ascii.write(table1, sys.stdout, format='latex')"
   ]
  },
  {
   "cell_type": "markdown",
   "metadata": {},
   "source": [
    "### Long"
   ]
  },
  {
   "cell_type": "code",
   "execution_count": 119,
   "metadata": {
    "collapsed": false
   },
   "outputs": [
    {
     "ename": "IOError",
     "evalue": "Results/halpha.txt not found.",
     "output_type": "error",
     "traceback": [
      "\u001b[0;31m---------------------------------------------------------------------------\u001b[0m",
      "\u001b[0;31mIOError\u001b[0m                                   Traceback (most recent call last)",
      "\u001b[0;32m<ipython-input-119-205b0b15571f>\u001b[0m in \u001b[0;36m<module>\u001b[0;34m()\u001b[0m\n\u001b[1;32m     16\u001b[0m \u001b[0mall_v_err_full\u001b[0m \u001b[0;34m=\u001b[0m \u001b[0mnp\u001b[0m\u001b[0;34m.\u001b[0m\u001b[0mgenfromtxt\u001b[0m\u001b[0;34m(\u001b[0m\u001b[0;34m\"photometry.txt\"\u001b[0m\u001b[0;34m,\u001b[0m \u001b[0musecols\u001b[0m\u001b[0;34m=\u001b[0m\u001b[0;34m[\u001b[0m\u001b[0;36m3\u001b[0m\u001b[0;34m]\u001b[0m\u001b[0;34m,\u001b[0m \u001b[0mmissing_values\u001b[0m \u001b[0;34m=\u001b[0m \u001b[0;34m(\u001b[0m\u001b[0;34m'--'\u001b[0m\u001b[0;34m)\u001b[0m\u001b[0;34m,\u001b[0m \u001b[0mfilling_values\u001b[0m\u001b[0;34m=\u001b[0m\u001b[0;34m(\u001b[0m\u001b[0mnp\u001b[0m\u001b[0;34m.\u001b[0m\u001b[0mnan\u001b[0m\u001b[0;34m)\u001b[0m\u001b[0;34m)\u001b[0m\u001b[0;34m\u001b[0m\u001b[0m\n\u001b[1;32m     17\u001b[0m \u001b[0;34m\u001b[0m\u001b[0m\n\u001b[0;32m---> 18\u001b[0;31m \u001b[0mh_alpha_full\u001b[0m \u001b[0;34m=\u001b[0m \u001b[0mnp\u001b[0m\u001b[0;34m.\u001b[0m\u001b[0mgenfromtxt\u001b[0m\u001b[0;34m(\u001b[0m\u001b[0;34m\"Results/halpha.txt\"\u001b[0m\u001b[0;34m,\u001b[0m \u001b[0musecols\u001b[0m\u001b[0;34m=\u001b[0m\u001b[0;34m[\u001b[0m\u001b[0;36m0\u001b[0m\u001b[0;34m]\u001b[0m\u001b[0;34m,\u001b[0m \u001b[0mmissing_values\u001b[0m \u001b[0;34m=\u001b[0m \u001b[0;34m(\u001b[0m\u001b[0;34m'--'\u001b[0m\u001b[0;34m)\u001b[0m\u001b[0;34m,\u001b[0m \u001b[0mfilling_values\u001b[0m\u001b[0;34m=\u001b[0m\u001b[0;34m(\u001b[0m\u001b[0mnp\u001b[0m\u001b[0;34m.\u001b[0m\u001b[0mnan\u001b[0m\u001b[0;34m)\u001b[0m\u001b[0;34m)\u001b[0m\u001b[0;34m\u001b[0m\u001b[0m\n\u001b[0m\u001b[1;32m     19\u001b[0m \u001b[0mh_alpha_err_full\u001b[0m \u001b[0;34m=\u001b[0m \u001b[0mnp\u001b[0m\u001b[0;34m.\u001b[0m\u001b[0mgenfromtxt\u001b[0m\u001b[0;34m(\u001b[0m\u001b[0;34m\"Results/halpha.txt\"\u001b[0m\u001b[0;34m,\u001b[0m \u001b[0musecols\u001b[0m\u001b[0;34m=\u001b[0m\u001b[0;34m[\u001b[0m\u001b[0;36m1\u001b[0m\u001b[0;34m]\u001b[0m\u001b[0;34m,\u001b[0m \u001b[0mmissing_values\u001b[0m \u001b[0;34m=\u001b[0m \u001b[0;34m(\u001b[0m\u001b[0;34m'--'\u001b[0m\u001b[0;34m)\u001b[0m\u001b[0;34m,\u001b[0m \u001b[0mfilling_values\u001b[0m\u001b[0;34m=\u001b[0m\u001b[0;34m(\u001b[0m\u001b[0mnp\u001b[0m\u001b[0;34m.\u001b[0m\u001b[0mnan\u001b[0m\u001b[0;34m)\u001b[0m\u001b[0;34m)\u001b[0m\u001b[0;34m\u001b[0m\u001b[0m\n\u001b[1;32m     20\u001b[0m \u001b[0ms_index_full\u001b[0m \u001b[0;34m=\u001b[0m \u001b[0mnp\u001b[0m\u001b[0;34m.\u001b[0m\u001b[0mgenfromtxt\u001b[0m\u001b[0;34m(\u001b[0m\u001b[0;34m\"Results/cahk_s_rhk.txt\"\u001b[0m\u001b[0;34m,\u001b[0m \u001b[0musecols\u001b[0m\u001b[0;34m=\u001b[0m\u001b[0;34m[\u001b[0m\u001b[0;36m0\u001b[0m\u001b[0;34m]\u001b[0m\u001b[0;34m,\u001b[0m \u001b[0mmissing_values\u001b[0m \u001b[0;34m=\u001b[0m \u001b[0;34m(\u001b[0m\u001b[0;34m'--'\u001b[0m\u001b[0;34m)\u001b[0m\u001b[0;34m,\u001b[0m \u001b[0mfilling_values\u001b[0m\u001b[0;34m=\u001b[0m\u001b[0;34m(\u001b[0m\u001b[0mnp\u001b[0m\u001b[0;34m.\u001b[0m\u001b[0mnan\u001b[0m\u001b[0;34m)\u001b[0m\u001b[0;34m)\u001b[0m\u001b[0;34m\u001b[0m\u001b[0m\n",
      "\u001b[0;32m/Users/katiemel/anaconda/lib/python2.7/site-packages/numpy/lib/npyio.pyc\u001b[0m in \u001b[0;36mgenfromtxt\u001b[0;34m(fname, dtype, comments, delimiter, skip_header, skip_footer, converters, missing_values, filling_values, usecols, names, excludelist, deletechars, replace_space, autostrip, case_sensitive, defaultfmt, unpack, usemask, loose, invalid_raise, max_rows)\u001b[0m\n\u001b[1;32m   1449\u001b[0m         \u001b[0;32mif\u001b[0m \u001b[0misinstance\u001b[0m\u001b[0;34m(\u001b[0m\u001b[0mfname\u001b[0m\u001b[0;34m,\u001b[0m \u001b[0mbasestring\u001b[0m\u001b[0;34m)\u001b[0m\u001b[0;34m:\u001b[0m\u001b[0;34m\u001b[0m\u001b[0m\n\u001b[1;32m   1450\u001b[0m             \u001b[0;32mif\u001b[0m \u001b[0msys\u001b[0m\u001b[0;34m.\u001b[0m\u001b[0mversion_info\u001b[0m\u001b[0;34m[\u001b[0m\u001b[0;36m0\u001b[0m\u001b[0;34m]\u001b[0m \u001b[0;34m==\u001b[0m \u001b[0;36m2\u001b[0m\u001b[0;34m:\u001b[0m\u001b[0;34m\u001b[0m\u001b[0m\n\u001b[0;32m-> 1451\u001b[0;31m                 \u001b[0mfhd\u001b[0m \u001b[0;34m=\u001b[0m \u001b[0miter\u001b[0m\u001b[0;34m(\u001b[0m\u001b[0mnp\u001b[0m\u001b[0;34m.\u001b[0m\u001b[0mlib\u001b[0m\u001b[0;34m.\u001b[0m\u001b[0m_datasource\u001b[0m\u001b[0;34m.\u001b[0m\u001b[0mopen\u001b[0m\u001b[0;34m(\u001b[0m\u001b[0mfname\u001b[0m\u001b[0;34m,\u001b[0m \u001b[0;34m'rbU'\u001b[0m\u001b[0;34m)\u001b[0m\u001b[0;34m)\u001b[0m\u001b[0;34m\u001b[0m\u001b[0m\n\u001b[0m\u001b[1;32m   1452\u001b[0m             \u001b[0;32melse\u001b[0m\u001b[0;34m:\u001b[0m\u001b[0;34m\u001b[0m\u001b[0m\n\u001b[1;32m   1453\u001b[0m                 \u001b[0mfhd\u001b[0m \u001b[0;34m=\u001b[0m \u001b[0miter\u001b[0m\u001b[0;34m(\u001b[0m\u001b[0mnp\u001b[0m\u001b[0;34m.\u001b[0m\u001b[0mlib\u001b[0m\u001b[0;34m.\u001b[0m\u001b[0m_datasource\u001b[0m\u001b[0;34m.\u001b[0m\u001b[0mopen\u001b[0m\u001b[0;34m(\u001b[0m\u001b[0mfname\u001b[0m\u001b[0;34m,\u001b[0m \u001b[0;34m'rb'\u001b[0m\u001b[0;34m)\u001b[0m\u001b[0;34m)\u001b[0m\u001b[0;34m\u001b[0m\u001b[0m\n",
      "\u001b[0;32m/Users/katiemel/anaconda/lib/python2.7/site-packages/numpy/lib/_datasource.pyc\u001b[0m in \u001b[0;36mopen\u001b[0;34m(path, mode, destpath)\u001b[0m\n\u001b[1;32m    149\u001b[0m \u001b[0;34m\u001b[0m\u001b[0m\n\u001b[1;32m    150\u001b[0m     \u001b[0mds\u001b[0m \u001b[0;34m=\u001b[0m \u001b[0mDataSource\u001b[0m\u001b[0;34m(\u001b[0m\u001b[0mdestpath\u001b[0m\u001b[0;34m)\u001b[0m\u001b[0;34m\u001b[0m\u001b[0m\n\u001b[0;32m--> 151\u001b[0;31m     \u001b[0;32mreturn\u001b[0m \u001b[0mds\u001b[0m\u001b[0;34m.\u001b[0m\u001b[0mopen\u001b[0m\u001b[0;34m(\u001b[0m\u001b[0mpath\u001b[0m\u001b[0;34m,\u001b[0m \u001b[0mmode\u001b[0m\u001b[0;34m)\u001b[0m\u001b[0;34m\u001b[0m\u001b[0m\n\u001b[0m\u001b[1;32m    152\u001b[0m \u001b[0;34m\u001b[0m\u001b[0m\n\u001b[1;32m    153\u001b[0m \u001b[0;34m\u001b[0m\u001b[0m\n",
      "\u001b[0;32m/Users/katiemel/anaconda/lib/python2.7/site-packages/numpy/lib/_datasource.pyc\u001b[0m in \u001b[0;36mopen\u001b[0;34m(self, path, mode)\u001b[0m\n\u001b[1;32m    499\u001b[0m             \u001b[0;32mreturn\u001b[0m \u001b[0m_file_openers\u001b[0m\u001b[0;34m[\u001b[0m\u001b[0mext\u001b[0m\u001b[0;34m]\u001b[0m\u001b[0;34m(\u001b[0m\u001b[0mfound\u001b[0m\u001b[0;34m,\u001b[0m \u001b[0mmode\u001b[0m\u001b[0;34m=\u001b[0m\u001b[0mmode\u001b[0m\u001b[0;34m)\u001b[0m\u001b[0;34m\u001b[0m\u001b[0m\n\u001b[1;32m    500\u001b[0m         \u001b[0;32melse\u001b[0m\u001b[0;34m:\u001b[0m\u001b[0;34m\u001b[0m\u001b[0m\n\u001b[0;32m--> 501\u001b[0;31m             \u001b[0;32mraise\u001b[0m \u001b[0mIOError\u001b[0m\u001b[0;34m(\u001b[0m\u001b[0;34m\"%s not found.\"\u001b[0m \u001b[0;34m%\u001b[0m \u001b[0mpath\u001b[0m\u001b[0;34m)\u001b[0m\u001b[0;34m\u001b[0m\u001b[0m\n\u001b[0m\u001b[1;32m    502\u001b[0m \u001b[0;34m\u001b[0m\u001b[0m\n\u001b[1;32m    503\u001b[0m \u001b[0;34m\u001b[0m\u001b[0m\n",
      "\u001b[0;31mIOError\u001b[0m: Results/halpha.txt not found."
     ]
    }
   ],
   "source": [
    "#Only string based array is star_names. Everything else should have zeros where there is a missing value\n",
    "\n",
    "star_names_full = np.genfromtxt(\"star_names.txt\", dtype='str', missing_values = ('--'), filling_values=(np.nan))\n",
    "RV_full = np.genfromtxt(\"RVs.txt\", missing_values = ('--'), filling_values=(np.nan))\n",
    "\n",
    "newt_Ha_full = np.genfromtxt(\"Comparisons/Newton.txt\", usecols=[0], dtype=\"str\", missing_values = ('--'), filling_values=(np.nan))\n",
    "newt_Ha_err_full = np.genfromtxt(\"Comparisons/Newton.txt\", usecols=[1], dtype=\"str\", missing_values = ('--'), filling_values=(np.nan))\n",
    "ad_logRHK_full = np.genfromtxt(\"Comparisons/AstudilloDefru.txt\", usecols=[0], dtype=\"str\", missing_values = ('--'), filling_values=(np.nan))\n",
    "ad_logRHK_err_full = np.genfromtxt(\"Comparisons/AstudilloDefru.txt\", usecols=[1], dtype=\"str\", missing_values = ('--'), filling_values=(np.nan))\n",
    "ad_S_full = np.genfromtxt(\"Comparisons/AstudilloDefru.txt\", usecols=[2], dtype=\"str\", missing_values = ('--'), filling_values=(np.nan))\n",
    "ad_S_err_full = np.genfromtxt(\"Comparisons/AstudilloDefru.txt\", usecols=[3], dtype=\"str\", missing_values = ('--'), filling_values=(np.nan))\n",
    "\n",
    "all_k_flux_full = np.genfromtxt(\"photometry.txt\", usecols=[0], missing_values = ('--'), filling_values=(np.nan))\n",
    "all_k_err_full = np.genfromtxt(\"photometry.txt\", usecols=[1], missing_values = ('--'), filling_values=(np.nan))\n",
    "all_v_flux_full = np.genfromtxt(\"photometry.txt\", usecols=[2], missing_values = ('--'), filling_values=(np.nan))\n",
    "all_v_err_full = np.genfromtxt(\"photometry.txt\", usecols=[3], missing_values = ('--'), filling_values=(np.nan))\n",
    "\n",
    "h_alpha_full = np.genfromtxt(\"Results/halpha.txt\", usecols=[0], missing_values = ('--'), filling_values=(np.nan))\n",
    "h_alpha_err_full = np.genfromtxt(\"Results/halpha.txt\", usecols=[1], missing_values = ('--'), filling_values=(np.nan))\n",
    "s_index_full = np.genfromtxt(\"Results/cahk_s_rhk.txt\", usecols=[0], missing_values = ('--'), filling_values=(np.nan))\n",
    "s_index_err_full = np.genfromtxt(\"Results/cahk_s_rhk.txt\", usecols=[1], missing_values = ('--'), filling_values=(np.nan))\n",
    "rhk_prime_index_full = np.genfromtxt(\"Results/cahk_s_rhk.txt\", usecols=[2], missing_values = ('--'), filling_values=(np.nan))\n",
    "rhk_prime_index_err_full = np.genfromtxt(\"Results/cahk_s_rhk.txt\", usecols=[3], missing_values = ('--'), filling_values=(np.nan))\n",
    "\n",
    "#print(len(star_names))\n",
    "#print(len(newt_Ha))\n",
    "#print(len(EUV_flux))\n",
    "#print(len(s_index))"
   ]
  },
  {
   "cell_type": "code",
   "execution_count": 118,
   "metadata": {
    "collapsed": true
   },
   "outputs": [],
   "source": [
    "#Eventually will make graphs with all matching Newton and Astudillo-Defru targets to compare\n",
    "#Will need to mask values that don't exist in their tables AND values where RV is zero (calculations will be incorrect for these)"
   ]
  },
  {
   "cell_type": "markdown",
   "metadata": {},
   "source": [
    "## Comparison Tests:"
   ]
  },
  {
   "cell_type": "code",
   "execution_count": 131,
   "metadata": {
    "collapsed": false
   },
   "outputs": [
    {
     "data": {
      "image/png": "[encoded data removed]",
      "text/plain": [
       "<matplotlib.figure.Figure at 0x116415650>"
      ]
     },
     "metadata": {},
     "output_type": "display_data"
    }
   ],
   "source": [
    "for i in range(len(test[\"ad_logRHK\"])):\n",
    "    value = test[\"ad_logRHK\"][i]\n",
    "    if value != 0.0:\n",
    "        plt.scatter(np.log10(rhk_prime_index[i]), value)\n",
    "        #plt.errorbar(my_rhk, ad_rhk, yerr=ad_rkh_err, linestyle=\"None\")\n",
    "    plt.plot(np.linspace(-5,-6.2),np.linspace(-5,-6.2))\n",
    "    plt.title(\"Comparison of R'HK index results\")\n",
    "    plt.xlabel(\"Melbourne $log(R'HK)$\")\n",
    "    plt.ylabel(\"Astudio-Defru $log(R'HK)$\")"
   ]
  },
  {
   "cell_type": "code",
   "execution_count": 132,
   "metadata": {
    "collapsed": false
   },
   "outputs": [
    {
     "data": {
      "image/png": "[encoded data removed]",
      "text/plain": [
       "<matplotlib.figure.Figure at 0x10bcec390>"
      ]
     },
     "metadata": {},
     "output_type": "display_data"
    }
   ],
   "source": [
    "for i in range(len(test[\"s\"])):\n",
    "    value = test[\"ad_S\"][i]\n",
    "    if value != 0.0:\n",
    "        plt.scatter(test[\"s\"][i], value)\n",
    "        #plt.errorbar(my_rhk, ad_rhk, yerr=ad_rkh_err, linestyle=\"None\")\n",
    "    plt.plot(np.linspace(0.4,1.4),np.linspace(0.4,1.4))\n",
    "    plt.title(\"Comparison of S index results\")\n",
    "    plt.xlabel(\"Melbourne S index\")\n",
    "    plt.ylabel(\"Astudio-Defru S index\")"
   ]
  },
  {
   "cell_type": "markdown",
   "metadata": {},
   "source": [
    "#### Attempting to apply masks!!! See below!!! Much excite!!!"
   ]
  },
  {
   "cell_type": "code",
   "execution_count": 139,
   "metadata": {
    "collapsed": false
   },
   "outputs": [
    {
     "name": "stdout",
     "output_type": "stream",
     "text": [
      "[ True False  True False  True  True  True  True  True  True  True False\n",
      "  True  True  True  True  True  True  True False  True False  True False\n",
      " False  True  True  True  True  True  True  True  True  True]\n",
      "[-4.91099977 -5.77600002 -5.18200016 -5.49599981 -5.45699978 -5.52299976\n",
      " -4.84299994 -5.75400019 -5.25600004 -5.91499996 -5.61299992 -5.9380002\n",
      " -5.04400015 -4.19099998 -3.99499989 -5.00299978 -4.85699987 -4.07800007\n",
      " -4.75199986 -5.48000002 -5.296      -4.88500023 -5.69099998 -4.42799997\n",
      " -5.57399988 -4.59899998 -5.17799997]\n",
      "[-5.1715236  -5.59033269 -5.35828109 -5.5862136  -5.47843544 -5.59599907\n",
      " -5.12274827 -5.84777979 -5.37323233 -5.72047647 -5.57088384 -5.27564415\n",
      " -5.55627409 -4.67670273 -4.33616115 -5.26507165 -5.16540425 -4.56052432\n",
      " -4.94855177 -5.51795624 -5.44403589 -5.22037486 -5.46955982 -4.80825658\n",
      " -5.62857938 -4.96690624         nan]\n"
     ]
    },
    {
     "name": "stderr",
     "output_type": "stream",
     "text": [
      "/Users/katiemel/anaconda/lib/python2.7/site-packages/ipykernel/__main__.py:5: RuntimeWarning: invalid value encountered in log10\n",
      "/Users/katiemel/anaconda/lib/python2.7/site-packages/ipykernel/__main__.py:7: RuntimeWarning: invalid value encountered in log10\n"
     ]
    },
    {
     "data": {
      "text/plain": [
       "<matplotlib.text.Text at 0x116812490>"
      ]
     },
     "execution_count": 139,
     "metadata": {},
     "output_type": "execute_result"
    },
    {
     "data": {
      "image/png": "[encoded data removed]",
      "text/plain": [
       "<matplotlib.figure.Figure at 0x116a65790>"
      ]
     },
     "metadata": {},
     "output_type": "display_data"
    }
   ],
   "source": [
    "test = ascii.read(\"short_ALL_DATA.dat\")#,fill_values=[(0.0, 'nan')]) \n",
    "\n",
    "bool_ad_logRHK = np.logical_and(test[\"ad_logRHK\"] != 0.0, test[\"rhk_prime\"] != 0)\n",
    "print(bool_ad_logRHK)\n",
    "ad_logRHK = np.array(test[\"ad_logRHK\"])\n",
    "print(ad_logRHK[bool_ad_logRHK])\n",
    "print(np.log10(rhk_prime_index)[bool_ad_logRHK])\n",
    "\n",
    "plt.scatter(np.log10(rhk_prime_index)[bool_ad_logRHK], ad_logRHK[bool_ad_logRHK])\n",
    "#plt.errorbar(my_rhk, ad_rhk, yerr=ad_rkh_err, linestyle=\"None\")\n",
    "plt.plot(np.linspace(-5,-6.2),np.linspace(-5,-6.2))\n",
    "plt.title(\"Comparison of R'HK index results\")\n",
    "plt.xlabel(\"Melbourne $log(R'HK)$\")\n",
    "plt.ylabel(\"Astudio-Defru $log(R'HK)$\")"
   ]
  },
  {
   "cell_type": "code",
   "execution_count": null,
   "metadata": {
    "collapsed": true
   },
   "outputs": [],
   "source": [
    "#boolean_array = np.logical_and(RV_)"
   ]
  }
 ],
 "metadata": {
  "kernelspec": {
   "display_name": "Python 2",
   "language": "python",
   "name": "python2"
  },
  "language_info": {
   "codemirror_mode": {
    "name": "ipython",
    "version": 2
   },
   "file_extension": ".py",
   "mimetype": "text/x-python",
   "name": "python",
   "nbconvert_exporter": "python",
   "pygments_lexer": "ipython2",
   "version": "2.7.12"
  }
 },
 "nbformat": 4,
 "nbformat_minor": 0
}
