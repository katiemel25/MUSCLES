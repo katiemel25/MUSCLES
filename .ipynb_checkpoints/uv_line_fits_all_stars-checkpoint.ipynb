{
 "cells": [
  {
   "cell_type": "code",
   "execution_count": 25,
   "metadata": {
    "collapsed": false
   },
   "outputs": [],
   "source": [
    "import numpy as np\n",
    "import matplotlib.pyplot as plt\n",
    "from scipy.optimize import curve_fit, differential_evolution\n",
    "import pyfits\n",
    "from astropy.modeling.models import Voigt1D\n",
    "import warnings\n",
    "from __future__ import print_function\n",
    "from pylab import *\n",
    "import math\n",
    "from astropy.io import fits\n",
    "from astropy.table import Table\n",
    "\n",
    "from astroML.plotting import setup_text_plots\n",
    "setup_text_plots(fontsize=12, usetex=True)\n",
    "\n",
    "%matplotlib inline"
   ]
  },
  {
   "cell_type": "markdown",
   "metadata": {},
   "source": [
    "### Stars to fit\n",
    "\n",
    "**HeII:** GJ 628, GJ 887, GJ 1061, and HD 173739\n",
    "\n",
    "**Not sure yet:** G 75-55, GJ 173, LP 5-282, 2MASSJ02001277-0840516, GJ 3470, LHS 1140,  GJ 676 A, GJ 649, GJ 674, GJ 729\n",
    "\n",
    "**LyA:** K2-25\n"
   ]
  },
  {
   "cell_type": "code",
   "execution_count": 34,
   "metadata": {
    "collapsed": false
   },
   "outputs": [
    {
     "data": {
      "text/plain": [
       "SIMPLE  =                    T / conforms to FITS standard                      \n",
       "BITPIX  =                    8 / array data type                                \n",
       "NAXIS   =                    0 / number of array dimensions                     \n",
       "EXTEND  =                    T                                                  \n",
       "NEXTEND =                    1 / Number of standard extensions                  \n",
       "DATE    = '2018-05-12'         / date this file was written (yyyy-mm-dd)        \n",
       "FILENAME= 'ldab32edq_x1d.fits' / name of file                                   \n",
       "FILETYPE= 'SCI      '          / type of data found in data file                \n",
       "                                                                                \n",
       "TELESCOP= 'HST'                / telescope used to acquire data                 \n",
       "INSTRUME= 'COS   '             / identifier for instrument used to acquire data \n",
       "EQUINOX =               2000.0 / equinox of celestial coord. system             \n",
       "                                                                                \n",
       "              / DATA DESCRIPTION KEYWORDS                                       \n",
       "                                                                                \n",
       "ROOTNAME= 'ldab32edq                         ' / rootname of the observation set\n",
       "IMAGETYP= 'TIME-TAG          ' / type of exposure identifier                    \n",
       "PRIMESI = 'COS   '             / instrument designated as prime                 \n",
       "                                                                                \n",
       "              / TARGET INFORMATION                                              \n",
       "                                                                                \n",
       "TARGNAME= 'G75-55                        ' / proposer's target name             \n",
       "RA_TARG =   4.458371962065E+01 / right ascension of the target (deg) (J2000)    \n",
       "DEC_TARG=  -9.938680522895E-01 / declination of the target (deg) (J2000)        \n",
       "                                                                                \n",
       "              / PROPOSAL INFORMATION                                            \n",
       "                                                                                \n",
       "PROPOSID=                14784 / PEP proposal identifier                        \n",
       "LINENUM = '32.004         '    / proposal logsheet line number                  \n",
       "PR_INV_L= 'Shkolnik                      ' / last name of principal investigator\n",
       "PR_INV_F= 'Evgenya             ' / first name of principal investigator         \n",
       "PR_INV_M= 'L.                  ' / middle name / initial of principal investigat\n",
       "                                                                                \n",
       "              / SUMMARY EXPOSURE INFORMATION                                    \n",
       "                                                                                \n",
       "QUALCOM1= '                                                                    '\n",
       "QUALCOM2= '                                                                    '\n",
       "QUALCOM3= '                                                                    '\n",
       "QUALITY = '                                                                    '\n",
       "                                                                                \n",
       "              / TARGET OFFSETS (POSTARGS)                                       \n",
       "                                                                                \n",
       "POSTARG1=             0.000000 / POSTARG in axis 1 direction                    \n",
       "POSTARG2=             0.000000 / POSTARG in axis 2 direction                    \n",
       "                                                                                \n",
       "              / DIAGNOSTIC KEYWORDS                                             \n",
       "                                                                                \n",
       "OPUS_VER= 'HSTDP 2018_1c     ' / data processing software system version        \n",
       "CSYS_VER= 'hstdp-2018.1'       / Calibration software system version id         \n",
       "CAL_VER = '3.3.4 (2018-01-08)' / CALCOS code version                            \n",
       "PROCTIME=   5.825037737269E+04 / Pipeline processing time (MJD)                 \n",
       "                                                                                \n",
       "              / SCIENCE INSTRUMENT CONFIGURATION                                \n",
       "                                                                                \n",
       "OBSTYPE = 'SPECTROSCOPIC'      / observation type - imaging or spectroscopic    \n",
       "OBSMODE = 'TIME-TAG  '         / operating mode                                 \n",
       "EXPTYPE = 'EXTERNAL/SCI'       / type of exposure                               \n",
       "DETECTOR= 'NUV'                / FUV or NUV                                     \n",
       "SEGMENT = 'N/A '               / FUV detector segment name (FUVA, FUVB, or BOTH)\n",
       "DETECTHV= 'NomAB   '           / FUV High voltage state, from LDCSTATE          \n",
       "COSCOORD= 'USER    '           / COS output coordinate frame                    \n",
       "SUBARRAY=                    T / data from a subarray (T) or full frame (F)     \n",
       "LAMPPLAN= 'P1            '     / Name of lamp that was planned to be used       \n",
       "LAMPUSED= 'P1      '           / lamp status, NONE or name of lamp which is on  \n",
       "LAMPSET = 'Medium'             / spectral cal lamp current value (milliamps)    \n",
       "LIFE_ADJ=                    1 / Life Time Adjustment Position                  \n",
       "EXP_NUM =                    1 / exposure number for repeated observations      \n",
       "NRPTEXP =                    1 / number of repeat exposures in set: default 1   \n",
       "FPPOS   =                    2 / grating offset index (1-4) for FP split        \n",
       "CENWAVE =                 2950 / central wavelength of spectrum                 \n",
       "APERTURE= 'PSA     '           / aperture name                                  \n",
       "PROPAPER= 'PSA             '   / proposed aperture name                         \n",
       "APER_FOV= '2.5 arcsec (0.700 mm) diameter circular' / aperture field of view    \n",
       "APMPOS  = 'PSA-NUV1'           / Aperture Mechanism Position from telemetry     \n",
       "APERXPOS=                 22.1 / Aperture Block Position dispersion (telemetry) \n",
       "APERYPOS=                125.1 / Aperture Block Pos. cross dispersion(telemetry)\n",
       "OPT_ELEM= 'G230L   '           / optical element in use                         \n",
       "SHUTTER = 'Open '              / External Shutter Position (OPEN, CLOSED)       \n",
       "EXTENDED= 'NO '                / Is target specified as extended object?        \n",
       "TAGFLASH= 'AUTO            '   / Type of flashed exposures in time-tag          \n",
       "                                                                                \n",
       "              / CALIBRATION SWITCHES: PERFORM, OMIT, COMPLETE                   \n",
       "                                                                                \n",
       "FLATCORR= 'COMPLETE'           / apply flat-field correction                    \n",
       "DEADCORR= 'COMPLETE'           / correct for deadtime                           \n",
       "DQICORR = 'COMPLETE'           / data quality initialization                    \n",
       "STATFLAG=                    T / Calculate statistics?                          \n",
       "BADTCORR= 'OMIT    '           / filter by time (excluding bad time intervals)  \n",
       "DOPPCORR= 'COMPLETE'           / orbital Doppler correction                     \n",
       "HELCORR = 'COMPLETE'           / heliocentric Doppler correction                \n",
       "X1DCORR = 'COMPLETE'           / 1-D spectral extraction                        \n",
       "BACKCORR= 'COMPLETE'           / subtract background (when doing 1-D extraction)\n",
       "WAVECORR= 'COMPLETE'           / use wavecal to adjust wavelength zeropoint     \n",
       "FLUXCORR= 'COMPLETE'           / convert count-rate to absolute flux units      \n",
       "BRSTCORR= 'OMIT    '           / switch controlling search for FUV bursts       \n",
       "TDSCORR = 'COMPLETE'           / switch for time-dependent sensitivity correctio\n",
       "PHOTCORR= 'OMIT    '           / populate photometric header keywords           \n",
       "                                                                                \n",
       "              / CALIBRATION REFERENCE FILES                                     \n",
       "                                                                                \n",
       "FLATFILE= 'lref$x5v1944hl_flat.fits' / Pixel to Pixel Flat Field Reference File \n",
       "DEADTAB = 'lref$s7g1700ql_dead.fits' / Deadtime Reference Table                 \n",
       "BPIXTAB = 'lref$uas19356l_bpix.fits' / bad pixel table                          \n",
       "BADTTAB = 'N/A     '           / Bad Time Interval Reference Table              \n",
       "XTRACTAB= 'lref$w5g1439sl_1dx.fits' / 1-D Spectral Extraction Information Table \n",
       "LAMPTAB = 'lref$u1t1616ol_lamp.fits' / template calibration lamp spectra table  \n",
       "DISPTAB = 'lref$12e1345gl_disp.fits' / Dispersion Coefficient Reference Table   \n",
       "IMPHTTAB= 'N/A     '           / Imaging photometric table                      \n",
       "FLUXTAB = 'lref$xah2038hl_phot.fits' / Spectroscopic flux calibration table     \n",
       "WCPTAB  = 'lref$03p1706jl_wcp.fits' / wavecal parameters table                  \n",
       "BRSTTAB = 'N/A     '           / burst parameters table                         \n",
       "TDSTAB  = 'lref$u7d20378l_tds.fits' / time-dependent sensitivity correction tabl\n",
       "SPWCSTAB= 'lref$uai17387l_spwcs.fits' / Spectroscopic WCS Parameters Table      \n",
       "                                                                                \n",
       "              / ENGINEERING PARAMETERS FOR CALIBRATION                          \n",
       "                                                                                \n",
       "FPOFFSET=                   -1 / FP offset from nominal, in motor steps         \n",
       "                                                                                \n",
       "              / TARGET ACQUISITION DATASET IDENTIFIERS                          \n",
       "                                                                                \n",
       "ACQSNAME= 'LDAB32E9x '         / rootname of first acquisition search exposure  \n",
       "ACQINAME= '          '         / rootname of first acquisition image exposure   \n",
       "PEAKXNAM= 'LDAB32EAx '         / Rootname of 1st cross-dispersion (XD) peakup   \n",
       "PEAKDNAM= 'LDAB32EBx '         / Rootname of 1st along-dispersion (AD) peakup   \n",
       "ACQ_NUM =                    3 / total number of exposures in acq sequence      \n",
       "                                                                                \n",
       "              / ARCHIVE SEARCH KEYWORDS                                         \n",
       "                                                                                \n",
       "BANDWID =    1486.025909154546 / bandwidth of the data                          \n",
       "SPECRES =               2900.0 / approx. resolving power at central wavelength  \n",
       "CENTRWV =    2458.071396031256 / central wavelength of the data                 \n",
       "MINWAVE =    1715.058441453983 / minimum wavelength in spectrum                 \n",
       "MAXWAVE =    3201.084350608528 / maximum wavelength in spectrum                 \n",
       "PLATESC =         0.0236287206 / plate scale (arcsec/pixel)                     \n",
       "                                                                                \n",
       "              / PAPER PRODUCT SUPPORT KEYWORDS                                  \n",
       "                                                                                \n",
       "PROPTTL1= 'HAZMAT: Habitable Zones and M dwarf Activity across Time            '\n",
       "PROPTTL2= '                                                                    '\n",
       "OBSET_ID= '32'                 / observation set id                             \n",
       "TARDESCR= 'STAR;M V-IV                                                         '\n",
       "TARDESC2= '                                                                    '\n",
       "MTFLAG  = ' '                  / moving target flag; T if it is a moving target \n",
       "PARALLAX=   4.234000000000E-02 / target parallax from proposal                  \n",
       "MU_RA   =   7.146000000000E-03 / target proper motion from proposal (degrees RA)\n",
       "MU_DEC  =  -2.533670000000E-01 / target proper motion from proposal (deg. DEC)  \n",
       "MU_EPOCH= 'J2015.0'            / epoch of proper motion from proposal           \n",
       "                                                                                \n",
       "              / ASSOCIATION KEYWORDS                                            \n",
       "                                                                                \n",
       "ASN_ID  = 'LDAB32010 '         / unique identifier assigned to association      \n",
       "ASN_TAB = 'ldab32010_asn.fits     ' / name of the association table             \n",
       "CRDS_CTX= 'hst_0637.pmap'                                                       \n",
       "CRDS_VER= '7.1.5, 7.1.5, 3548bc1'                                               \n",
       "BRFTAB  = 'N/A     '                                                            \n",
       "DGEOFILE= 'N/A     '                                                            \n",
       "GEOFILE = 'N/A     '                                                            \n",
       "GSAGTAB = 'N/A     '                                                            \n",
       "HVTAB   = 'N/A     '                                                            \n",
       "PHATAB  = 'N/A     '                                                            \n",
       "PROFTAB = 'N/A     '                                                            \n",
       "SPOTTAB = 'N/A     '                                                            \n",
       "TRACETAB= 'N/A     '                                                            \n",
       "TWOZXTAB= 'N/A     '                                                            \n",
       "XWLKFILE= 'N/A     '                                                            \n",
       "YWLKFILE= 'N/A     '                                                            \n",
       "WAVECALS= 'ldab32edq_rawtag.fits'                                               "
      ]
     },
     "execution_count": 34,
     "metadata": {},
     "output_type": "execute_result"
    }
   ],
   "source": [
    "hdu[0].header"
   ]
  },
  {
   "cell_type": "code",
   "execution_count": 35,
   "metadata": {
    "collapsed": false
   },
   "outputs": [
    {
     "name": "stdout",
     "output_type": "stream",
     "text": [
      "3822\n",
      "3822\n",
      "SEGMENT EXPTIME NELEM ... Y_LOWER_INNER [1274] Y_UPPER_INNER [1274]\n",
      "------- ------- ----- ... -------------------- --------------------\n",
      "   NUVA 360.032  1274 ...       151.0 .. 148.0       207.0 .. 204.0\n",
      "   NUVB 360.032  1274 ...       251.0 .. 249.0       307.0 .. 305.0\n",
      "   NUVC 360.032  1274 ...       392.0 .. 388.0       448.0 .. 444.0\n",
      "[ 1630.00392853  1630.39602804  1630.78812623 ...,  2175.22851016\n",
      "  2175.42256948  2175.61662974]\n",
      "[ 0.  0.  0. ...,  0.  0.  0.]\n",
      "[  2.45454626e-15   2.40774706e-15   2.36258326e-15 ...,   6.59383682e-15\n",
      "   6.59500869e-15   6.59617717e-15]\n",
      "('SEGMENT', 'EXPTIME', 'NELEM', 'WAVELENGTH', 'FLUX', 'ERROR', 'GROSS', 'GCOUNTS', 'NET', 'BACKGROUND', 'DQ', 'DQ_WGT', 'DQ_OUTER', 'BACKGROUND_PER_PIXEL', 'NUM_EXTRACT_ROWS', 'ACTUAL_EE', 'Y_LOWER_OUTER', 'Y_UPPER_OUTER', 'Y_LOWER_INNER', 'Y_UPPER_INNER')\n"
     ]
    }
   ],
   "source": [
    "hdu = pyfits.open(\"Spectra/G75-55/ldab32edq_x1d.fits\")\n",
    "wave = np.ravel(hdu[1].data[\"WAVELENGTH\"])\n",
    "flux = np.ravel(hdu[1].data[\"FLUX\"])\n",
    "err = np.ravel(hdu[1].data[\"ERROR\"])\n",
    "\n",
    "print(len(wave))\n",
    "print(len(flux))\n",
    "\n",
    "hdulist = fits.open(\"Spectra/G75-55/ldab32edq_x1d.fits\")\n",
    "tbdata = hdulist[1].data\n",
    "print(Table(tbdata))\n",
    "\n",
    "star = \"G75-55\"\n",
    "c = 299792458e10\n",
    "#RV = -31.07 * (10 ** 13)\n",
    "#wave = wave / (1 + RV / c)\n",
    "print(wave)\n",
    "print(flux)\n",
    "print(err)\n",
    "print(tbdata.dtype.names)"
   ]
  },
  {
   "cell_type": "code",
   "execution_count": 36,
   "metadata": {
    "collapsed": false
   },
   "outputs": [
    {
     "data": {
      "text/plain": [
       "[<matplotlib.lines.Line2D at 0x117ba9290>]"
      ]
     },
     "execution_count": 36,
     "metadata": {},
     "output_type": "execute_result"
    },
    {
     "data": {
      "image/png": "[encoded data removed]",
      "text/plain": [
       "<matplotlib.figure.Figure at 0x117a27490>"
      ]
     },
     "metadata": {},
     "output_type": "display_data"
    }
   ],
   "source": [
    "plt.plot(wave,flux)\n",
    "#plt.xlim(1545,1555)"
   ]
  },
  {
   "cell_type": "code",
   "execution_count": 219,
   "metadata": {
    "collapsed": false
   },
   "outputs": [],
   "source": [
    "def ready_lsf(orig_lsf_wave, orig_lsf , grating_disp, data_wave):\n",
    "    data_wave_spacing = data_wave[1]-data_wave[0] # number of Å per pixel\n",
    "    data_wave_length = len(data_wave) # number of wavelength values\n",
    "    lsf_lam_min = np.round(np.min(orig_lsf_wave*grating_disp)/data_wave_spacing) * data_wave_spacing\n",
    "    lsf_lam_onesided = np.arange(lsf_lam_min,0,data_wave_spacing)  ### Make sure it's even and doesn't include zero\n",
    "    if len(lsf_lam_onesided) % 2 != 0:\n",
    "        lsf_lam_onesided = lsf_lam_onesided[1::] # get rid of the first element of the array\n",
    "\n",
    "    lsf_lam_flipped = lsf_lam_onesided[::-1]\n",
    "    lsf_lam_pluszero=np.append(lsf_lam_onesided,np.array([0]))\n",
    "    lsf_lam=np.append(lsf_lam_pluszero,lsf_lam_flipped) # should be odd\n",
    "\n",
    "    lsf_interp = np.interp(lsf_lam,orig_lsf_wave*grating_disp,orig_lsf/np.sum(orig_lsf))\n",
    "    lsf_interp_norm = lsf_interp/np.sum(lsf_interp) # I don't know why I do np.sum() for normalization...\n",
    "\n",
    "    if data_wave_length < len(lsf_interp_norm):\n",
    "        lsf_interp_norm = np.delete(lsf_interp_norm,np.where(lsf_interp_norm == 0))\n",
    "        lsf_interp_norm = np.insert(lsf_interp_norm,0,0)\n",
    "        lsf_interp_norm = np.append(lsf_interp_norm,0)\n",
    "\n",
    "    return lsf_interp_norm\n",
    "\n",
    "##################################################################\n",
    "\n",
    "lsf = np.loadtxt(\"cos_g130m.txt\", skiprows=1)\n",
    "dispersion = wave[1]-wave[0] # number of Å per pixel\n",
    "lsf_kernel = ready_lsf(lsf[:,0], lsf[:,1], dispersion, wave)\n",
    "\n",
    "##################################################################\n",
    "\n",
    "#Defining a functions\n",
    "def gaussian(x, amp, cen, wid):\n",
    "    model =  amp*np.exp(-(x-cen)**2/(2*wid**2))\n",
    "    model_convolved = np.convolve(model, lsf_kernel, mode='same')\n",
    "    return model_convolved\n",
    "\n",
    "def double_gauss(x, amp1, cen1, wid1, amp2, cen2, wid2):\n",
    "    model = amp1*np.exp(-(x-cen1)**2/(2*wid1**2)) + amp2*np.exp(-(x-cen2)**2/(2*wid2**2))\n",
    "    model_convolved = np.convolve(model, lsf_kernel, mode='same')\n",
    "    return model_convolved\n",
    "\n",
    "##################################################################\n",
    "\n",
    "def sse_g(parameterTuple):\n",
    "    warnings.filterwarnings(\"ignore\") # do not print warnings by genetic algorithm\n",
    "    g_fit = gaussian(wave, *parameterTuple)\n",
    "    return np.sum((flux - g_fit)**2) #/ g_fit)\n",
    "\n",
    "def generate_p0_g(peak_flux, line, window):\n",
    "    parameterBounds = []\n",
    "    parameterBounds.append([(peak_flux)*0.9, (peak_flux)*1.1]) # parameter bounds for amp  \n",
    "    parameterBounds.append([line, line]) # parameter bounds for cen\n",
    "    parameterBounds.append([0, 0.1]) # parameter bounds for wid\n",
    "    #parameterBounds.append([0, 0]) # parameter bounds for c\n",
    "    # \"seed\" the numpy random number generator for repeatable results\n",
    "    result = differential_evolution(sse_g, parameterBounds)#, seed=2019)\n",
    "    return result.x\n",
    "\n",
    "def sse_dg(parameterTuple):\n",
    "    warnings.filterwarnings(\"ignore\") # do not print warnings by genetic algorithm\n",
    "    dg_fit = double_gauss(wave, *parameterTuple)\n",
    "    return np.sum((flux - dg_fit)**2) #/ dg_fit)\n",
    "\n",
    "def generate_p0_dg(amp1, amp2, cen1, cen2, window):\n",
    "    parameterBounds = []\n",
    "    parameterBounds.append([(amp1)*0.9, (amp1)*1.1]) # parameter bounds for amp  \n",
    "    parameterBounds.append([cen1, cen1]) # parameter bounds for cen\n",
    "    parameterBounds.append([0, 0.1]) # parameter bounds for wid\n",
    "    parameterBounds.append([(amp2)*0.9, (amp2)*1.1]) # parameter bounds for amp  \n",
    "    parameterBounds.append([cen2, cen2]) # parameter bounds for cen\n",
    "    parameterBounds.append([0, 0.1]) # parameter bounds for wid\n",
    "    #parameterBounds.append([0, 0]) # parameter bounds for c\n",
    "    # \"seed\" the numpy random number generator for repeatable results\n",
    "    result = differential_evolution(sse_dg, parameterBounds)#, seed=2019)\n",
    "    return result.x"
   ]
  },
  {
   "cell_type": "code",
   "execution_count": 220,
   "metadata": {
    "collapsed": false
   },
   "outputs": [
    {
     "name": "stdout",
     "output_type": "stream",
     "text": [
      "1\n",
      "[ 1297.70490817  1297.71488312  1297.72485806 ...,  1461.10443074\n",
      "  1461.11440568  1461.12438063]\n",
      "[False False False ..., False False False]\n",
      "16384\n",
      "16384\n"
     ]
    }
   ],
   "source": [
    "print(np.max(line_window[0]))\n",
    "print(wave)\n",
    "\n",
    "mask = np.logical_and(wave<(line_waves[0][-1]+np.max(line_window[0])), wave>(line_waves[0][0]-np.max(line_window[0])))\n",
    "print(mask)\n",
    "print(len(mask))\n",
    "print(len(flux))\n",
    "#print(wave[mask])\n",
    "#print(flux[mask])"
   ]
  },
  {
   "cell_type": "code",
   "execution_count": 221,
   "metadata": {
    "collapsed": false
   },
   "outputs": [
    {
     "data": {
      "image/png": "[encoded data removed]",
      "text/plain": [
       "<matplotlib.figure.Figure at 0x11ba7b310>"
      ]
     },
     "metadata": {},
     "output_type": "display_data"
    }
   ],
   "source": [
    "line_names = [\"SiIII\", \"NV\", \"SiII\", \"CII\", \"SiIV\", \"CIV\", \"HeII\", \"MgII\",]\n",
    "line_waves = [[1206.50], [1238.82,1242.8060], [1260.42,1265.00], [1335.71],  \n",
    "              [1393.76,1402.77], [1548.19,1550.78], [1640.4], [2796.35,2803.53]]\n",
    "line_window = [[1], [2,2], [0.7,1], [0.7], [1,1], [1,1], [1], [20]]\n",
    "#note: 1265.00 represents both 1264.74 and 1265.00\n",
    "#note: 2800.00 represents both 2796.35 and 2803.53\n",
    "\n",
    "line_names = [\"CII\"]\n",
    "line_waves = [[1335.71]]\n",
    "line_window = [[1]]\n",
    "\n",
    "#print(wave[(wave<(line_waves[0][-1]+np.max(line_window[0]))) & (wave>(line_waves[0][0]-np.max(line_window[0])))])\n",
    "#print(flux[(wave<(line_waves[0][-1]+np.max(line_window[0]))) & (wave>(line_waves[0][0]-np.max(line_window[0])))])\n",
    "\n",
    "#plot the raw data to see whats around it\n",
    "plt.figure(figsize=(12,4))\n",
    "plt.plot(wave[(wave<(line_waves[0][-1]+np.max(line_window[0]))) & (wave>(line_waves[0][0]-np.max(line_window[0])))], \n",
    "         flux[(wave<(line_waves[0][-1]+np.max(line_window[0]))) & (wave>(line_waves[0][0]-np.max(line_window[0])))])\n",
    "plt.xlim(line_waves[0][0]-np.max(line_window),line_waves[0][-1]+np.max(line_window))\n",
    "#plt.ylim(0,1.1*9.640308440905302e-16)\n",
    "plt.ticklabel_format(useOffset=False)\n",
    "#plt.xlim(1264, 1266)\n",
    "plt.show()"
   ]
  },
  {
   "cell_type": "markdown",
   "metadata": {},
   "source": [
    "## Plotting each line for a target individually and getting fluxes"
   ]
  },
  {
   "cell_type": "code",
   "execution_count": 216,
   "metadata": {
    "collapsed": false
   },
   "outputs": [
    {
     "name": "stdout",
     "output_type": "stream",
     "text": [
      "CII\n",
      "1335.71\n",
      "Peak Spectral Flux 6.29933e-15\n",
      "Window:  1.0\n",
      "Chi2:  6.73959580334e+13\n",
      "Max_mag -15.0\n",
      "GAUSSIAN FLUX TOTAL:  7.03394745563e-16\n"
     ]
    },
    {
     "data": {
      "image/png": "[encoded data removed]",
      "text/plain": [
       "<matplotlib.figure.Figure at 0x1206cf250>"
      ]
     },
     "metadata": {},
     "output_type": "display_data"
    }
   ],
   "source": [
    "## ONE GRAPH AT A TIME ##\n",
    "\n",
    "g_fluxes = []\n",
    "g_amps = []\n",
    "g_sigmas = []\n",
    "\n",
    "colors=[\"mediumslateblue\", \"firebrick\", \"peachpuff\"]\n",
    "\n",
    "for i in range(len(line_names)):\n",
    "    ##########################\n",
    "    plt.figure(figsize=(10,4))\n",
    "    plt.xlabel(\"Wavelength (\\AA)\")\n",
    "    plt.xlim(line_waves[i][0]-np.max(np.array(line_window[i])),line_waves[i][-1]+np.max(np.array(line_window[i])))\n",
    "    plt.title(r\"%s\" % line_names[i])\n",
    "    plt.ticklabel_format(useOffset=False)\n",
    "    ##########################\n",
    "    \n",
    "    print(line_names[i])\n",
    "    \n",
    "    line_total_int_g = []\n",
    "    all_orders_of_mag = []\n",
    "    \n",
    "    for j in range(len(line_waves[i])):\n",
    "        \n",
    "        line=line_waves[i][j]\n",
    "        print(line)\n",
    "\n",
    "        max_window = float(line_window[i][j])\n",
    "        min_window = float(line_window[i][j])\n",
    "        #print(\"Window: \", window)\n",
    "\n",
    "        peak_flux = np.max(flux[(wave<(line+0.2)) & (wave>(line-0.2))])\n",
    "        #avg_line_flux = np.mean(flux[(wave<(line_waves[i]+window)) & (wave>(line_waves[i]-window))])\n",
    "        #amp_guess = line_amps[i]\n",
    "\n",
    "        print(\"Peak Spectral Flux\", peak_flux)\n",
    "        #print(\"Avg Spectral Line Flux\", avg_line_flux)\n",
    "\n",
    "        ##########################\n",
    "        \n",
    "        window = max_window\n",
    "\n",
    "        while window >= min_window:\n",
    "            print(\"Window: \", window)\n",
    "            try:\n",
    "                if line == 1265:\n",
    "                    print(\"Fitting a double gaussian\")\n",
    "                    amp1 = np.max(flux[(wave<1264.9) & (wave>1264.5)])\n",
    "                    amp2 = np.max(flux[(wave<1265.3) & (wave>1264.9)])\n",
    "                    \n",
    "                    p0_dg = generate_p0_dg(amp1, amp2, 1264.74, 1265.00, window)\n",
    "                    \n",
    "                    print(amp1, amp2)\n",
    "                    #param_bounds=([-np.inf,1264.5,-np.inf,-np.inf,1264.8,-np.inf,-np.inf],[np.inf,1265.8,np.inf,np.inf,1265.2,np.inf,np.inf])\n",
    "                    popt_g, pcov_g = curve_fit(double_gauss, np.array(wave[(wave<1265.5) & (wave>1264)]), \n",
    "                                               np.array(flux[(wave<1265.5) & (wave>1264)]), \n",
    "                                               p0 = p0_dg, \n",
    "                                               maxfev=2500) #[amp1,1264.74,0.06,amp2,1265.00,0.04,1e-16] #bounds = param_bounds,\n",
    "                    g = double_gauss(wave[(wave<1265.5) & (wave>1264)], \n",
    "                                 popt_g[0], popt_g[1], abs(popt_g[2]), popt_g[3], popt_g[4], abs(popt_g[5])) #, popt_g[6])\n",
    "                    \n",
    "                    residuals_g = (flux[(wave<1265.5) & (wave>1264)] - g) #/ np.sum(dg_std)\n",
    "                    chi2_g = np.sum(residuals_g**2 / g)\n",
    "                    dof_g = len(popt_g) - 1 #len(flux) - len(popt_gauss) - 1  \n",
    "                    # len(result[‘x’]) gives the number of fitted parameters\n",
    "\n",
    "                    print(\"Chi2: \", chi2_g)\n",
    "\n",
    "                    int_g = np.trapz(g, wave[(wave<1265.5) & (wave>1264)], 0.002) #np.sum(g - popt_g[3])\n",
    "                    #popt_g[0] * popt_g[2] * np.sqrt(2*pi) #\n",
    "                    #print(\"GAUSSIAN FLUX: \", int_g)\n",
    "                    \n",
    "                    max_mag = -15\n",
    "\n",
    "                    plt.plot(wave[(wave<1265.5) & (wave>1264)], g, alpha=1, color=colors[j]) #/(10**(-15))\n",
    "                    #label=\"$\\chi_{%s}^2$ = %s\" % (dof_g, chi2_g),\n",
    "                    plt.fill_between(wave[(wave<1265.5) & (wave>1264)], g, alpha=0.5, label=line, color=colors[j]) #/(10**(-15))\n",
    "                    \n",
    "                    line_total_int_g.append(int_g)\n",
    "                    \n",
    "                if line == 2800:\n",
    "                    print(\"Fitting a double gaussian\")\n",
    "                    amp1 = np.max(flux[(wave<2799) & (wave>2795)])\n",
    "                    amp2 = np.max(flux[(wave<2806) & (wave>2801)])\n",
    "\n",
    "                    p0_dg = generate_p0_dg(amp1, amp2, 2796.35, 2803.53, window)\n",
    "\n",
    "                    print(amp1, amp2)\n",
    "                    #param_bounds=([-np.inf,1264.5,-np.inf,-np.inf,1264.8,-np.inf,-np.inf],[np.inf,1265.8,np.inf,np.inf,1265.2,np.inf,np.inf])\n",
    "                    popt_g, pcov_g = curve_fit(double_gauss, np.array(wave[(wave<(line+window)) & (wave>(line-window))]), \n",
    "                                               np.array(flux[(wave<(line+window)) & (wave>(line-window))]), \n",
    "                                               p0 = p0_dg, \n",
    "                                               maxfev=2500)\n",
    "                    \n",
    "                    g = double_gauss(wave[(wave<(line+window)) & (wave>(line-window))], \n",
    "                                 popt_g[0], popt_g[1], abs(popt_g[2]), popt_g[3], popt_g[4], abs(popt_g[5]))\n",
    "\n",
    "                    residuals_g = (flux[(wave<(line+window)) & (wave>(line-window))] - g) #/ np.sum(dg_std)\n",
    "                    chi2_g = np.sum(residuals_g**2 / g)\n",
    "                    dof_g = len(popt_g) - 1 #len(flux) - len(popt_gauss) - 1  \n",
    "                    # len(result[‘x’]) gives the number of fitted parameters\n",
    "\n",
    "                    print(\"Chi2: \", chi2_g)\n",
    "\n",
    "                    int_g = np.trapz(g, wave[(wave<(line+window)) & (wave>(line-window))], 0.002) #popt_g[0] * popt_g[2] * np.sqrt(2*pi)\n",
    "\n",
    "                    plt.plot(wave[(wave<(line+window)) & (wave>(line-window))], g, alpha=1, label= \"My Double Gaussian\")\n",
    "\n",
    "                    line_total_int_g.append(int_g)\n",
    "                    print(\"Int_g:\", int_g)\n",
    "                \n",
    "                else:\n",
    "                    p0_g = generate_p0_g(peak_flux, line, window)\n",
    "                    \n",
    "                    popt_g, pcov_g = curve_fit(gaussian, wave[(wave<(line+window)) & (wave>(line-window))], \n",
    "                                               flux[(wave<(line+window)) & (wave>(line-window))], \n",
    "                                               #sigma=1/(err[(wave<(line_waves[i]+5)) & (wave>(line_waves[i]-5))]**2),\n",
    "                                               p0 = p0_g, maxfev=2500)\n",
    "\n",
    "                    g = gaussian(wave[(wave<(line+window)) & (wave>(line-window))], \n",
    "                                 popt_g[0], popt_g[1], abs(popt_g[2])) #, popt_g[3])\n",
    "\n",
    "                    residuals_g = (flux[(wave<(line+window)) & (wave>(line-window))] - g) #/ np.sum(dg_std)\n",
    "                    chi2_g = np.sum(residuals_g**2 / g)\n",
    "                    dof_g = len(popt_g) - 1\n",
    "\n",
    "                    print(\"Chi2: \", chi2_g)\n",
    "                    \n",
    "                    order_of_mag = np.floor(np.log10(popt_g[0]))\n",
    "                    all_orders_of_mag.append(order_of_mag)\n",
    "                    \n",
    "                    max_mag = np.max(all_orders_of_mag)\n",
    "                    print(\"Max_mag\", max_mag)\n",
    "\n",
    "                    int_g = popt_g[0] * popt_g[2] * np.sqrt(2*pi)\n",
    "\n",
    "                    plt.plot(wave[(wave<(line+window)) & (wave>(line-window))], g, alpha=1, color=colors[j]) #/(10**max_mag),\n",
    "                    #label=\"$\\chi_{%s}^2$ = %s\" % (dof_g, chi2_g),\n",
    "                    plt.fill_between(wave[(wave<(line+window)) & (wave>(line-window))], g,\n",
    "                                     alpha=0.5, label=\"%s \\AA\" % line, color=colors[j]) \n",
    "                \n",
    "                    line_total_int_g.append(int_g)\n",
    "\n",
    "                window = window - 0.5\n",
    "\n",
    "            except RuntimeError:\n",
    "                print(\"No Gaussian fit found\")\n",
    "                window = window - 0.5\n",
    "\n",
    "        ###############################\n",
    "\n",
    "        g_fluxes.append(line_total_int_g)\n",
    "        g_amps.append(popt_g[0])\n",
    "        g_sigmas.append(abs(popt_g[2])) \n",
    "\n",
    "    print(\"GAUSSIAN FLUX TOTAL: \", np.sum(line_total_int_g))\n",
    "    \n",
    "    plt.ylim(0,1.1*np.max(flux[(wave<(line_waves[i][-1]+np.max(line_window[i]))) \n",
    "                               & (wave>(line_waves[i][0]-np.max(line_window[i])))]))\n",
    "    plt.plot(wave, flux, alpha = 0.8, color=\"black\")\n",
    "    plt.ylabel(\"Flux (erg cm$^{-2}$ s$^{-1}$ \\AA$^{-1}$)\")\n",
    "    legend = plt.legend(loc=\"best\", fontsize=12)\n",
    "    legend.get_title().set_fontsize('14')\n",
    "    plt.savefig(\"Graphs/G75-55/%s_%s_fits.png\" % (star, line_names[i]))\n",
    "    plt.show()"
   ]
  },
  {
   "cell_type": "code",
   "execution_count": 160,
   "metadata": {
    "collapsed": false
   },
   "outputs": [
    {
     "name": "stdout",
     "output_type": "stream",
     "text": [
      "9.17082927165e-14\n"
     ]
    }
   ],
   "source": [
    "MgII_avg_flux = (9.17083025548e-14 + 9.17082828782e-14) / 2\n",
    "print(MgII_avg_flux)"
   ]
  },
  {
   "cell_type": "code",
   "execution_count": 161,
   "metadata": {
    "collapsed": false
   },
   "outputs": [
    {
     "name": "stdout",
     "output_type": "stream",
     "text": [
      "[  8.70819021e-15   1.64047915e+03   1.23120314e-01]\n"
     ]
    }
   ],
   "source": [
    "print(popt_g)"
   ]
  },
  {
   "cell_type": "code",
   "execution_count": null,
   "metadata": {
    "collapsed": true
   },
   "outputs": [],
   "source": []
  }
 ],
 "metadata": {
  "kernelspec": {
   "display_name": "Python 2",
   "language": "python",
   "name": "python2"
  },
  "language_info": {
   "codemirror_mode": {
    "name": "ipython",
    "version": 2
   },
   "file_extension": ".py",
   "mimetype": "text/x-python",
   "name": "python",
   "nbconvert_exporter": "python",
   "pygments_lexer": "ipython2",
   "version": "2.7.12"
  }
 },
 "nbformat": 4,
 "nbformat_minor": 0
}
