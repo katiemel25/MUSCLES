{
 "cells": [
  {
   "cell_type": "code",
   "execution_count": 39,
   "metadata": {
    "collapsed": false
   },
   "outputs": [],
   "source": [
    "import astropy.io.fits as pyfits\n",
    "import matplotlib.pyplot as plt\n",
    "import numpy as np\n",
    "import glob\n",
    "\n",
    "%matplotlib inline"
   ]
  },
  {
   "cell_type": "markdown",
   "metadata": {},
   "source": [
    "## Multiple Stars, arbitrary orders (Updated July 6th)"
   ]
  },
  {
   "cell_type": "code",
   "execution_count": 41,
   "metadata": {
    "collapsed": false
   },
   "outputs": [
    {
     "name": "stdout",
     "output_type": "stream",
     "text": [
      "GJ176\n",
      "GJ667C\n",
      "GJ581\n",
      "GJ1214\n",
      "GJ832\n"
     ]
    },
    {
     "ename": "IndexError",
     "evalue": "list index out of range",
     "output_type": "error",
     "traceback": [
      "\u001b[0;31m---------------------------------------------------------------------------\u001b[0m",
      "\u001b[0;31mIndexError\u001b[0m                                Traceback (most recent call last)",
      "\u001b[0;32m<ipython-input-41-0ef81b0793d1>\u001b[0m in \u001b[0;36m<module>\u001b[0;34m()\u001b[0m\n\u001b[1;32m     31\u001b[0m                 \u001b[0mall_orders_flux\u001b[0m\u001b[0;34m.\u001b[0m\u001b[0mappend\u001b[0m\u001b[0;34m(\u001b[0m\u001b[0mspec\u001b[0m\u001b[0;34m[\u001b[0m\u001b[0;34m\"flux\"\u001b[0m\u001b[0;34m]\u001b[0m\u001b[0;34m)\u001b[0m\u001b[0;34m\u001b[0m\u001b[0m\n\u001b[1;32m     32\u001b[0m \u001b[0;34m\u001b[0m\u001b[0m\n\u001b[0;32m---> 33\u001b[0;31m             \u001b[0mmin_wave\u001b[0m \u001b[0;34m=\u001b[0m \u001b[0mnp\u001b[0m\u001b[0;34m.\u001b[0m\u001b[0mmin\u001b[0m\u001b[0;34m(\u001b[0m\u001b[0mall_orders_wave\u001b[0m\u001b[0;34m[\u001b[0m\u001b[0;36m0\u001b[0m\u001b[0;34m]\u001b[0m\u001b[0;34m)\u001b[0m\u001b[0;34m\u001b[0m\u001b[0m\n\u001b[0m\u001b[1;32m     34\u001b[0m             \u001b[0;32mprint\u001b[0m\u001b[0;34m(\u001b[0m\u001b[0mmin_wave\u001b[0m\u001b[0;34m)\u001b[0m\u001b[0;34m\u001b[0m\u001b[0m\n\u001b[1;32m     35\u001b[0m             \u001b[0mmax_wave\u001b[0m \u001b[0;34m=\u001b[0m \u001b[0mnp\u001b[0m\u001b[0;34m.\u001b[0m\u001b[0mmax\u001b[0m\u001b[0;34m(\u001b[0m\u001b[0mall_orders_wave\u001b[0m\u001b[0;34m[\u001b[0m\u001b[0;34m-\u001b[0m\u001b[0;36m1\u001b[0m\u001b[0;34m]\u001b[0m\u001b[0;34m)\u001b[0m\u001b[0;34m\u001b[0m\u001b[0m\n",
      "\u001b[0;31mIndexError\u001b[0m: list index out of range"
     ]
    }
   ],
   "source": [
    "plt.ion()\n",
    "\n",
    "star_names = np.genfromtxt(\"short_star_names.txt\", dtype='str')\n",
    "#print(star_names)\n",
    "\n",
    "#star_names = [\"GJ832_copy\"]\n",
    "\n",
    "for j in range(len(star_names)):\n",
    "    print(star_names[j])\n",
    "    \n",
    "    spectra = sorted(glob.glob(\"Spectra/%s/*.fits\" % star_names[j]))\n",
    "    \n",
    "    for spectrum in spectra:\n",
    "    \n",
    "        if \"HI\" in spectrum:\n",
    "            #print(spectrum)\n",
    "\n",
    "            filenames = sorted(glob.glob(\"%s/*.fits\" % spectrum))\n",
    "            #print(filenames)\n",
    "\n",
    "            all_orders_wave = []\n",
    "            all_orders_flux = []\n",
    "\n",
    "            for name in filenames:\n",
    "\n",
    "                spec_hdu = pyfits.open(name)\n",
    "                spec = spec_hdu[1].data\n",
    "                spec_header = spec_hdu[1].header\n",
    "\n",
    "                all_orders_wave.append(spec[\"wave\"])\n",
    "                all_orders_flux.append(spec[\"flux\"])\n",
    "\n",
    "            min_wave = np.min(all_orders_wave[0])\n",
    "            max_wave = np.max(all_orders_wave[-1])\n",
    "\n",
    "            wave_array = np.arange(min_wave,max_wave,0.01) #what should I use for separation between wavelengths?\n",
    "\n",
    "            #plt.figure(figsize=(14,4))\n",
    "\n",
    "            all_orders_interp = []\n",
    "            for i in range(len(filenames)):\n",
    "                order_interp = np.interp(wave_array,all_orders_wave[i],all_orders_flux[i])\n",
    "                all_orders_interp.append(order_interp)\n",
    "                #plt.plot(wave_array,order_interp)\n",
    "\n",
    "            flux_array = np.zeros(len(wave_array))\n",
    "            error_array = np.zeros(len(wave_array))\n",
    "\n",
    "            all_orders_wave = np.array(all_orders_wave)\n",
    "            all_orders_flux = np.array(all_orders_flux)\n",
    "            all_orders_interp = np.array(all_orders_interp)\n",
    "\n",
    "            for i in range(len(filenames)-1):\n",
    "                overlap = (wave_array >= np.min(all_orders_wave[i+1])) & (wave_array <= np.max(all_orders_wave[i]))\n",
    "                flux_array[overlap] = (all_orders_interp[i][overlap] + all_orders_interp[i+1][overlap])/2.\n",
    "\n",
    "            for i in range(len(filenames)):\n",
    "                if i == 0:\n",
    "                    order_mask = wave_array <= np.min(all_orders_wave[i+1])\n",
    "                    flux_array[order_mask] = all_orders_interp[i][order_mask]\n",
    "                if i == (len(filenames)-1):\n",
    "                    order_mask = wave_array >= np.max(all_orders_wave[i-1])\n",
    "                    flux_array[order_mask] = all_orders_interp[i][order_mask]\n",
    "                else:\n",
    "                    order_mask = (wave_array >= np.max(all_orders_wave[i-1])) & (wave_array <= np.min(all_orders_wave[i+1]))\n",
    "                    flux_array[order_mask] = all_orders_interp[i][order_mask]\n",
    "\n",
    "            #print(flux_array)\n",
    "\n",
    "            #plt.figure(figsize=(14,4))\n",
    "            #plt.plot(wave_array,flux_array)\n",
    "\n",
    "            #print(filenames[0][:-14]+\"MERGED\")\n",
    "            np.savetxt('%s.txt' % (filenames[0][:-14]+\"MERGED\"),\n",
    "                       np.transpose(np.array([wave_array,flux_array])))"
   ]
  },
  {
   "cell_type": "markdown",
   "metadata": {},
   "source": [
    "# Without updates for combined spectrograph folders:"
   ]
  },
  {
   "cell_type": "code",
   "execution_count": 34,
   "metadata": {
    "collapsed": false
   },
   "outputs": [
    {
     "name": "stdout",
     "output_type": "stream",
     "text": [
      "GJ832_copy\n",
      "Spectra/GJ832_copy/HI.20091203.16313_1.fits\n",
      "Spectra/GJ832_copy/ADP.2014-09-16T11:04:47.007.fits\n",
      "[]\n"
     ]
    },
    {
     "ename": "IndexError",
     "evalue": "list index out of range",
     "output_type": "error",
     "traceback": [
      "\u001b[0;31m---------------------------------------------------------------------------\u001b[0m",
      "\u001b[0;31mIndexError\u001b[0m                                Traceback (most recent call last)",
      "\u001b[0;32m<ipython-input-34-3d971d958340>\u001b[0m in \u001b[0;36m<module>\u001b[0;34m()\u001b[0m\n\u001b[1;32m     34\u001b[0m                     \u001b[0mall_orders_flux\u001b[0m\u001b[0;34m.\u001b[0m\u001b[0mappend\u001b[0m\u001b[0;34m(\u001b[0m\u001b[0mspec\u001b[0m\u001b[0;34m[\u001b[0m\u001b[0;34m\"flux\"\u001b[0m\u001b[0;34m]\u001b[0m\u001b[0;34m)\u001b[0m\u001b[0;34m\u001b[0m\u001b[0m\n\u001b[1;32m     35\u001b[0m \u001b[0;34m\u001b[0m\u001b[0m\n\u001b[0;32m---> 36\u001b[0;31m                 \u001b[0mmin_wave\u001b[0m \u001b[0;34m=\u001b[0m \u001b[0mnp\u001b[0m\u001b[0;34m.\u001b[0m\u001b[0mmin\u001b[0m\u001b[0;34m(\u001b[0m\u001b[0mall_orders_wave\u001b[0m\u001b[0;34m[\u001b[0m\u001b[0;36m0\u001b[0m\u001b[0;34m]\u001b[0m\u001b[0;34m)\u001b[0m\u001b[0;34m\u001b[0m\u001b[0m\n\u001b[0m\u001b[1;32m     37\u001b[0m                 \u001b[0mmax_wave\u001b[0m \u001b[0;34m=\u001b[0m \u001b[0mnp\u001b[0m\u001b[0;34m.\u001b[0m\u001b[0mmax\u001b[0m\u001b[0;34m(\u001b[0m\u001b[0mall_orders_wave\u001b[0m\u001b[0;34m[\u001b[0m\u001b[0;34m-\u001b[0m\u001b[0;36m1\u001b[0m\u001b[0;34m]\u001b[0m\u001b[0;34m)\u001b[0m\u001b[0;34m\u001b[0m\u001b[0m\n\u001b[1;32m     38\u001b[0m \u001b[0;34m\u001b[0m\u001b[0m\n",
      "\u001b[0;31mIndexError\u001b[0m: list index out of range"
     ]
    }
   ],
   "source": [
    "plt.ion()\n",
    "\n",
    "star_names = np.genfromtxt(\"short_star_names.txt\", dtype='str')\n",
    "#print(star_names)\n",
    "\n",
    "#star_names = [\"2MASSJ04184702+1321585\"]\n",
    "\n",
    "for j in range(len(star_names)):\n",
    "    print(star_names[j])\n",
    "    \n",
    "    spectra = sorted(glob.glob(\"Spectra/%s/*.fits\" % star_names[j]))\n",
    "    \n",
    "    if \"HI\" in spectra[0]:\n",
    "        \n",
    "        for obs in spectra: \n",
    "            \n",
    "            filenames = sorted(glob.glob(\"%s/*.fits\" % obs))\n",
    "\n",
    "            all_orders_wave = []\n",
    "            all_orders_flux = []\n",
    "\n",
    "            for name in filenames:\n",
    "\n",
    "                spec_hdu = pyfits.open(name)\n",
    "                spec = spec_hdu[1].data\n",
    "                spec_header = spec_hdu[1].header\n",
    "\n",
    "                all_orders_wave.append(spec[\"wave\"])\n",
    "                all_orders_flux.append(spec[\"flux\"])\n",
    "\n",
    "            min_wave = np.min(all_orders_wave[0])\n",
    "            max_wave = np.max(all_orders_wave[-1])\n",
    "\n",
    "            wave_array = np.arange(min_wave,max_wave,0.01) #what should I use for separation between wavelengths?\n",
    "\n",
    "            #plt.figure(figsize=(14,4))\n",
    "\n",
    "            all_orders_interp = []\n",
    "            for i in range(len(filenames)):\n",
    "                order_interp = np.interp(wave_array,all_orders_wave[i],all_orders_flux[i])\n",
    "                all_orders_interp.append(order_interp)\n",
    "                #plt.plot(wave_array,order_interp)\n",
    "\n",
    "            flux_array = np.zeros(len(wave_array))\n",
    "            error_array = np.zeros(len(wave_array))\n",
    "\n",
    "            all_orders_wave = np.array(all_orders_wave)\n",
    "            all_orders_flux = np.array(all_orders_flux)\n",
    "            all_orders_interp = np.array(all_orders_interp)\n",
    "\n",
    "            for i in range(len(filenames)-1):\n",
    "                overlap = (wave_array >= np.min(all_orders_wave[i+1])) & (wave_array <= np.max(all_orders_wave[i]))\n",
    "                flux_array[overlap] = (all_orders_interp[i][overlap] + all_orders_interp[i+1][overlap])/2.\n",
    "\n",
    "            for i in range(len(filenames)):\n",
    "                if i == 0:\n",
    "                    order_mask = wave_array <= np.min(all_orders_wave[i+1])\n",
    "                    flux_array[order_mask] = all_orders_interp[i][order_mask]\n",
    "                if i == (len(filenames)-1):\n",
    "                    order_mask = wave_array >= np.max(all_orders_wave[i-1])\n",
    "                    flux_array[order_mask] = all_orders_interp[i][order_mask]\n",
    "                else:\n",
    "                    order_mask = (wave_array >= np.max(all_orders_wave[i-1])) & (wave_array <= np.min(all_orders_wave[i+1]))\n",
    "                    flux_array[order_mask] = all_orders_interp[i][order_mask]\n",
    "\n",
    "            #print(flux_array)\n",
    "\n",
    "            #plt.figure(figsize=(14,4))\n",
    "            #plt.plot(wave_array,flux_array)\n",
    "\n",
    "            #print(filenames[0][:-14]+\"MERGED\")\n",
    "            np.savetxt('%s.txt' % (filenames[0][:-14]+\"MERGED\"),\n",
    "                       np.transpose(np.array([wave_array,flux_array])))"
   ]
  },
  {
   "cell_type": "markdown",
   "metadata": {},
   "source": [
    "## Single Spectrum (4 orders)"
   ]
  },
  {
   "cell_type": "code",
   "execution_count": null,
   "metadata": {
    "collapsed": false
   },
   "outputs": [],
   "source": [
    "plt.ion()\n",
    "\n",
    "input_filename = 'HIP112312_FUVe.fits'\n",
    "\n",
    "spec_hdu = pyfits.open(input_filename)\n",
    "spec = spec_hdu[1].data\n",
    "spec_header = spec_hdu[1].header\n",
    "print(spec[\"WAVELENGTH\"])\n",
    "\n",
    "plt.figure(figsize=(12,6))\n",
    "\n",
    "min_wave = np.min(spec['WAVELENGTH'][36])\n",
    "max_wave = np.max(spec['WAVELENGTH'][33])\n",
    "\n",
    "wave_array = np.arange(min_wave,max_wave,0.013)\n",
    "\n",
    "order_33 = np.interp(wave_array,spec['WAVELENGTH'][33],spec['FLUX'][33])\n",
    "order_34 = np.interp(wave_array,spec['WAVELENGTH'][34],spec['FLUX'][34])\n",
    "order_35 = np.interp(wave_array,spec['WAVELENGTH'][35],spec['FLUX'][35])\n",
    "order_36 = np.interp(wave_array,spec['WAVELENGTH'][36],spec['FLUX'][36])\n",
    "\n",
    "error_33 = np.interp(wave_array,spec['WAVELENGTH'][33],spec['ERROR'][33])\n",
    "error_34 = np.interp(wave_array,spec['WAVELENGTH'][34],spec['ERROR'][34])\n",
    "error_35 = np.interp(wave_array,spec['WAVELENGTH'][35],spec['ERROR'][35])\n",
    "error_36 = np.interp(wave_array,spec['WAVELENGTH'][36],spec['ERROR'][36])\n",
    "\n",
    "plt.plot(wave_array,order_33)\n",
    "plt.plot(wave_array,order_34)\n",
    "plt.plot(wave_array,order_35)\n",
    "plt.plot(wave_array,order_36)"
   ]
  },
  {
   "cell_type": "code",
   "execution_count": null,
   "metadata": {
    "collapsed": true
   },
   "outputs": [],
   "source": [
    "plt.figure(figsize=(12,6))\n",
    "\n",
    "min_wave = np.min(spec['WAVELENGTH'][36])\n",
    "max_wave = np.max(spec['WAVELENGTH'][33])\n",
    "\n",
    "wave_array = np.arange(min_wave,max_wave,0.013)\n",
    "\n",
    "order_33 = np.interp(wave_array,spec['WAVELENGTH'][33],spec['FLUX'][33])\n",
    "order_34 = np.interp(wave_array,spec['WAVELENGTH'][34],spec['FLUX'][34])\n",
    "order_35 = np.interp(wave_array,spec['WAVELENGTH'][35],spec['FLUX'][35])\n",
    "order_36 = np.interp(wave_array,spec['WAVELENGTH'][36],spec['FLUX'][36])\n",
    "\n",
    "error_33 = np.interp(wave_array,spec['WAVELENGTH'][33],spec['ERROR'][33])\n",
    "error_34 = np.interp(wave_array,spec['WAVELENGTH'][34],spec['ERROR'][34])\n",
    "error_35 = np.interp(wave_array,spec['WAVELENGTH'][35],spec['ERROR'][35])\n",
    "error_36 = np.interp(wave_array,spec['WAVELENGTH'][36],spec['ERROR'][36])\n",
    "\n",
    "plt.plot(wave_array,order_33)\n",
    "plt.plot(wave_array,order_34)\n",
    "plt.plot(wave_array,order_35)\n",
    "plt.plot(wave_array,order_36)"
   ]
  },
  {
   "cell_type": "code",
   "execution_count": null,
   "metadata": {
    "collapsed": false
   },
   "outputs": [],
   "source": [
    "flux_array = np.zeros(len(wave_array))\n",
    "error_array = np.zeros(len(wave_array))\n",
    "\n",
    "overlap_33_34 = (wave_array >= np.min(spec['WAVELENGTH'][33])) & (wave_array <= np.max(spec['WAVELENGTH'][34]))\n",
    "flux_array[overlap_33_34] = (order_33[overlap_33_34] + order_34[overlap_33_34])/2.\n",
    "print(flux_array)\n",
    "\n",
    "overlap_34_35 = (wave_array >= np.min(spec['WAVELENGTH'][34])) & (wave_array <= np.max(spec['WAVELENGTH'][35]))\n",
    "flux_array[overlap_34_35] = (order_34[overlap_34_35] + order_35[overlap_34_35])/2.\n",
    "print(flux_array)\n",
    "\n",
    "overlap_35_36 = (wave_array >= np.min(spec['WAVELENGTH'][35])) & (wave_array <= np.max(spec['WAVELENGTH'][36]))\n",
    "flux_array[overlap_35_36] = (order_35[overlap_35_36] + order_36[overlap_35_36])/2.\n",
    "print(flux_array)\n",
    "\n",
    "order_33_mask = wave_array >= np.max(spec['WAVELENGTH'][34])\n",
    "flux_array[order_33_mask] = order_33[order_33_mask]\n",
    "print(flux_array)\n",
    "\n",
    "order_34_mask = (wave_array >= np.max(spec['WAVELENGTH'][35])) & (wave_array <= np.min(spec['WAVELENGTH'][33]))\n",
    "flux_array[order_34_mask] = order_34[order_34_mask]\n",
    "print(flux_array)\n",
    "\n",
    "order_35_mask = (wave_array >= np.max(spec['WAVELENGTH'][36])) & (wave_array <= np.min(spec['WAVELENGTH'][34]))\n",
    "flux_array[order_35_mask] = order_35[order_35_mask]\n",
    "print(flux_array)\n",
    "\n",
    "order_36_mask = wave_array <= np.min(spec['WAVELENGTH'][35])\n",
    "flux_array[order_36_mask] = order_36[order_36_mask]\n",
    "print(flux_array)\n",
    "\n",
    "plt.plot(wave_array,flux_array)\n",
    "\n",
    "error_array[order_36_mask] = error_36[order_36_mask]\n",
    "error_array[order_35_mask] = error_35[order_35_mask]\n",
    "error_array[order_34_mask] = error_34[order_34_mask]\n",
    "error_array[order_33_mask] = error_33[order_33_mask]\n",
    "\n",
    "error_array[overlap_33_34] = np.sqrt(error_33[overlap_33_34]**2 / 4. + error_34[overlap_33_34]**2 / 4.)\n",
    "error_array[overlap_34_35] = np.sqrt(error_34[overlap_34_35]**2 / 4. + error_35[overlap_34_35]**2 / 4.)\n",
    "error_array[overlap_35_36] = np.sqrt(error_35[overlap_35_36]**2 / 4. + error_35[overlap_35_36]**2 / 4.)\n",
    "\n",
    "np.savetxt('HIP112312_FUV_coadd.txt',np.transpose(np.array([wave_array,flux_array,error_array])))"
   ]
  },
  {
   "cell_type": "markdown",
   "metadata": {},
   "source": [
    "## Single Observation, arbitrary orders"
   ]
  },
  {
   "cell_type": "code",
   "execution_count": 23,
   "metadata": {
    "collapsed": false
   },
   "outputs": [
    {
     "data": {
      "image/png": "[encoded data removed]",
      "text/plain": [
       "<matplotlib.figure.Figure at 0x10f1ce590>"
      ]
     },
     "metadata": {},
     "output_type": "display_data"
    },
    {
     "name": "stdout",
     "output_type": "stream",
     "text": [
      "../../Downloads/KOA_15804/HIRES/extracted/binaryfits/ccd3/flux/HI.20091203.16313_MERGED\n"
     ]
    }
   ],
   "source": [
    "plt.ion()\n",
    "plt.figure(figsize=(14,4))\n",
    "\n",
    "for x in range(1,4):\n",
    "\n",
    "    filenames = sorted(glob.glob('../../Downloads/KOA_15804/HIRES/extracted/binaryfits/ccd%s/flux/*.fits' % x))\n",
    "    #print(filenames)\n",
    "\n",
    "    order_number = np.arange(0,len(filenames))\n",
    "    #print(order_number)\n",
    "\n",
    "    all_orders_wave = []\n",
    "    all_orders_flux = []\n",
    "\n",
    "    for name in filenames:\n",
    "\n",
    "        spec_hdu = pyfits.open(name)\n",
    "        spec = spec_hdu[1].data\n",
    "        spec_header = spec_hdu[1].header\n",
    "\n",
    "        all_orders_wave.append(spec[\"wave\"])\n",
    "        all_orders_flux.append(spec[\"flux\"])\n",
    "\n",
    "    min_wave = np.min(all_orders_wave[0])\n",
    "    max_wave = np.max(all_orders_wave[-1])\n",
    "\n",
    "    wave_array = np.arange(min_wave,max_wave,0.01) #what should I used for separation between wavelengths?\n",
    "\n",
    "    #plt.figure(figsize=(14,4))\n",
    "\n",
    "    all_orders_interp = []\n",
    "    for i in range(len(filenames)):\n",
    "        order_interp = np.interp(wave_array,all_orders_wave[i],all_orders_flux[i])\n",
    "        all_orders_interp.append(order_interp)\n",
    "        #plt.plot(wave_array,order_interp)\n",
    "\n",
    "    flux_array = np.zeros(len(wave_array))\n",
    "    error_array = np.zeros(len(wave_array))\n",
    "\n",
    "    all_orders_wave = np.array(all_orders_wave)\n",
    "    all_orders_flux = np.array(all_orders_flux)\n",
    "    all_orders_interp = np.array(all_orders_interp)\n",
    "\n",
    "    for i in range(len(filenames)-1):\n",
    "        overlap = (wave_array >= np.min(all_orders_wave[i+1])) & (wave_array <= np.max(all_orders_wave[i]))\n",
    "        flux_array[overlap] = (all_orders_interp[i][overlap] + all_orders_interp[i+1][overlap])/2.\n",
    "\n",
    "    for i in range(len(filenames)):\n",
    "        if i == 0:\n",
    "            order_mask = wave_array <= np.min(all_orders_wave[i+1])\n",
    "            flux_array[order_mask] = all_orders_interp[i][order_mask]\n",
    "        if i == (len(filenames)-1):\n",
    "            order_mask = wave_array >= np.max(all_orders_wave[i-1])\n",
    "            flux_array[order_mask] = all_orders_interp[i][order_mask]\n",
    "        else:\n",
    "            order_mask = (wave_array >= np.max(all_orders_wave[i-1])) & (wave_array <= np.min(all_orders_wave[i+1]))\n",
    "            flux_array[order_mask] = all_orders_interp[i][order_mask]\n",
    "\n",
    "    #print(flux_array)\n",
    "\n",
    "    plt.plot(wave_array,flux_array)\n",
    "\n",
    "plt.show()\n",
    "\n",
    "print(filenames[0][:-14]+\"MERGED\")\n",
    "np.savetxt('%s.txt' % (filenames[0][:-14]+\"MERGED\"),\n",
    "           np.transpose(np.array([wave_array,flux_array])))"
   ]
  },
  {
   "cell_type": "code",
   "execution_count": null,
   "metadata": {
    "collapsed": true
   },
   "outputs": [],
   "source": []
  }
 ],
 "metadata": {
  "kernelspec": {
   "display_name": "Python 2",
   "language": "python",
   "name": "python2"
  },
  "language_info": {
   "codemirror_mode": {
    "name": "ipython",
    "version": 2
   },
   "file_extension": ".py",
   "mimetype": "text/x-python",
   "name": "python",
   "nbconvert_exporter": "python",
   "pygments_lexer": "ipython2",
   "version": "2.7.12"
  }
 },
 "nbformat": 4,
 "nbformat_minor": 0
}
