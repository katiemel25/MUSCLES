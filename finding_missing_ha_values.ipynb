{
 "cells": [
  {
   "cell_type": "code",
   "execution_count": 30,
   "metadata": {
    "collapsed": true
   },
   "outputs": [],
   "source": [
    "from astroquery.simbad import Simbad\n",
    "import numpy as np\n",
    "from astropy.io import ascii\n",
    "from astropy.table import Table\n",
    "from astroquery.vizier import Vizier\n",
    "Vizier.ROW_LIMIT = -1"
   ]
  },
  {
   "cell_type": "code",
   "execution_count": 37,
   "metadata": {
    "collapsed": false
   },
   "outputs": [
    {
     "name": "stdout",
     "output_type": "stream",
     "text": [
      "['J04425581+1857285', 'J17185868-3459483', 'J15192689-0743200', 'J17151894+0457496', 'J21333397-4900323', 'J22531672-1415489', 'J11421096+2642251', 'J16301808-1239434', 'J23055131-3551130', 'J03355969-4430453', 'J18424666+5937499', 'J02365171-5203036', 'J02543316-5108313', 'J02001277-0840516', 'J02582009-0059330', 'J22025453-6440441', 'J00240899-6211042', 'J01521830-5950168', 'J03315564-4359135', 'J23261069-7323498', 'J23285763-6802338', 'J00393579-3816584', 'J04374188-1102198', 'J04271663+1714305', 'J04363893+1836567', 'J04225989+1318585', 'J02001277-0840516', 'J04223953+1816097', 'J04184702+1321585', 'J04260470+1502288', 'J02125819-5851182', 'J17155010+1900000', 'J22463471-7353504', 'J23254016+5308056', 'J01023895+6220422', 'J22445794-3315015', 'J03153783+3724143', 'J03472333-0158195', 'J05004714-5715255', 'J06091922-3549311', 'J11023832+2158017', 'J05020507+6827253', 'J05304035+6854079', 'J08200425+3834415', 'J05420897+1229252', 'J22555682+0545179', 'J21091740-1318080', 'J05114046-4501051', 'J04311147+5858375', 'J13300285-0842251', 'J19203346-0739435', 'J10193634+1952122', 'J20450949-3120266', 'J22464980+4420030', 'J14294291-6240465', 'J10145184-4709244', 'J07590587+1523294', 'J04130560+1514520', 'J19510930+4628598', 'J11211723-3446454', 'J11211745-3446497', 'J10423011-3340162', ' J0853361-032931', ' J1456383-280947', 'J07444018+0333089', 'J19165762+0509021', 'J16553529-0823401', 'J00445930-1516166', ' J2306292-050227', 'J17301119-5138132', 'J00182256+4401222', 'J16580884+2544392', 'J04091567-5322254', 'J22094029-0438267', 'J17283991-4653424', 'J17574849+0441405', 'J14211512-0107199', 'J20553706-1403545', 'J13101268+4745190', 'J18494929-2350101', 'J11292037-0127173', 'J15032457+0346574', 'J21111696+3331272', 'J07272450+0513329', 'nan', 'J05312734-0340356', 'J15321302-4116314', 'J09142298+5241125', 'J16552880-0820103', 'J11032023+3558117', 'J04483062+1623187', 'J04235911+1643178', 'J04251456+1858250', 'J04202761+1853499', 'J04172811+1454038', 'J02564122+3522346', 'J03553690+2118482', 'J03555715+1825564', 'J03581434+1237408', 'J04004493+1354227', 'J04062060+1901391', 'J04183382+1821529', 'J04262170+1800009', 'J04290015+1620467', 'J04214955+1929086', 'J04110642+1247481', 'J04254182+1900477']\n",
      "107\n"
     ]
    }
   ],
   "source": [
    "star_names = np.genfromtxt(\"star_names.txt\", dtype='str')\n",
    "customSimbad = Simbad()\n",
    "\n",
    "all_2mass = []\n",
    "all_hawley_names = []\n",
    "\n",
    "for star in star_names:\n",
    "    #print(star)\n",
    "    table = customSimbad.query_object(star)\n",
    "    \n",
    "    alt_names = Simbad.query_objectids(star)\n",
    "    if any(name[:5] == \"2MASS\" for name in np.array(alt_names[\"ID\"])):\n",
    "        for i in range(len(alt_names[\"ID\"])):\n",
    "            #print alt_names[\"ID\"][i][:5]\n",
    "            if alt_names[i][0][:5] == \"2MASS\":\n",
    "                _2mass = alt_names[\"ID\"][i][6:]\n",
    "                #print _2mass\n",
    "    else:\n",
    "        _2mass = \"nan\"\n",
    "    \n",
    "    all_2mass.append(_2mass)\n",
    "\n",
    "print(all_2mass)\n",
    "print(len(all_2mass))"
   ]
  },
  {
   "cell_type": "markdown",
   "metadata": {},
   "source": [
    "## Riaz 2006"
   ]
  },
  {
   "cell_type": "code",
   "execution_count": 108,
   "metadata": {
    "collapsed": false
   },
   "outputs": [],
   "source": [
    "riaz_catalog = Vizier.get_catalogs('J/AJ/132/866')\n",
    "#print(riaz_catalog)\n",
    "#print(np.array(riaz_catalog[0][\"_2MASS\"]))\n",
    "\n",
    "malo_catalog = Vizier.get_catalogs('J/ApJ/788/81')\n",
    "#print(malo_catalog)\n",
    "#print(np.array(malo_catalog[1][\"_2MASS\"]))\n",
    "#print(malo_catalog[1][\"Ha\"][malo_catalog[1][\"_2MASS\"]=='J18424666+5937499'])\n",
    "\n",
    "newton_catalog = Vizier.get_catalogs('J/ApJ/834/85')\n",
    "#print(newton_catalog)\n",
    "#print(np.array(newton_catalog[0][\"_2MASS\"][newton_catalog[0][\"_2MASS\"]=='00051079+4547116']))"
   ]
  },
  {
   "cell_type": "code",
   "execution_count": 109,
   "metadata": {
    "collapsed": false
   },
   "outputs": [
    {
     "name": "stdout",
     "output_type": "stream",
     "text": [
      "('_2MASS', 'CaH1', 'CaH2', 'CaH3', 'TiO5', 'Jmag', 'Hmag', 'Kmag', 'SpType', 'EWHa', 'log_LX_Lbol_', 'Dist', 'pDist', 'RX', '_RA', '_DE')\n",
      "('NYA', '_2MASS', 'Icmag', 'Jmag', 'pmRA', 'pmDE', 'SpT', 'logfX', 'Ha', 'l_Li', 'Li', 'Nv', 'l_vsini', 'vsini', 'RVm', 'RVp', 'dpi', 'ds', 'Pv', 'logLx', 'M13', 'Simbad', 'bPicP3', 'TWAP3', 'THAP3', 'ColP3', 'CarP3', 'ArgP3', 'ABDorP3', 'FldP3', '_RA', '_DE')\n",
      "('_2MASS', 'RAJ2000', 'DEJ2000', 'Mass', 'Rad', 'chi', 'Per', 'r_Per', 'EWHa', 'e_EWHa', 'logLHa', 'Act', 'Bin', 'LSPM', 'Simbad')\n"
     ]
    }
   ],
   "source": [
    "riaz_result = Vizier.query_object(\"J02543316-5108313\", catalog='J/AJ/132/866/table1')['J/AJ/132/866/table1']\n",
    "print(riaz_result.dtype.names)\n",
    "\n",
    "malo_result = Vizier.query_object(\"J02001277-0840516\", catalog='J/ApJ/788/81/members')['J/ApJ/788/81/members']\n",
    "print(malo_result.dtype.names)\n",
    "\n",
    "newton_result = Vizier.query_object(\"J00051079+4547116\", catalog='J/ApJ/834/85/table1')['J/ApJ/834/85/table1']\n",
    "print(newton_result.dtype.names)"
   ]
  },
  {
   "cell_type": "code",
   "execution_count": 129,
   "metadata": {
    "collapsed": false
   },
   "outputs": [
    {
     "name": "stdout",
     "output_type": "stream",
     "text": [
      "[0.26300001, 0.0, 0.0, masked, 0.0, 0.0, 0.23999999, 0.0, 0.0, 0.0, masked, 5.8000002, 3.0999999, 4.1999998, 0.0, 0.0, 0.0, 2.3, 1.9, 5.0999999, 6.0, 0.0, 0.0, 0.0, 0.0, 0.0, 4.1999998, 0.0, 0.0, 0.0, 0.0, 0.0, 0.0, -4.704, masked, 16.0, -4.882, 4.0, 0.0, 3.4000001, masked, 0.146, -0.030999999, 0.0, masked, masked, 0.0, 0.0, masked, masked, 0.0, -3.3110001, 2.2, -4.5440001, masked, masked, masked, 0.0, -4.8189998, 2.3, 1.5, 6.5, 0.0, 0.0, -9.3400002, masked, masked, masked, 0.0, 0.0, 0.183, masked, 0.0, 0.0, 0.40000001, 0.074000001, masked, masked, 4.5, 2.4000001, 0.0, masked, 0.0, 0.090999998, 0.0, 0.0, 0.0, masked, 1.4, 0.0, 0.0, 0.0, 0.0, 0.0, 0.0, 0.0, masked, 0.0, 0.0, 0.0, 0.0, 0.0, 0.0, 0.0, 0.0, 0.0, 0.0]\n",
      "[2017, 0.0, 0.0, 2017, 0.0, 0.0, 2017, 0.0, 0.0, 0.0, 2017, 2006, 2006, 2006, 0.0, 0.0, 0.0, 2014, 2006, 2006, 2006, 0.0, 0.0, 0.0, 0.0, 0.0, 2006, 0.0, 0.0, 0.0, 0.0, 0.0, 0.0, 2017, 2017, 2006, 2017, 2006, 0.0, 2006, 2017, 2017, 2017, 0.0, 2017, 2017, 0.0, 0.0, 2017, 2017, 0.0, 2017, 2006, 2017, 2017, 2017, 2017, 0.0, 2017, 2014, 2014, 2006, 0.0, 0.0, 2017, 2017, 2017, 2017, 0.0, 0.0, 2017, 2017, 0.0, 0.0, 2006, 2017, 2017, 2017, 2006, 2006, 0.0, 2017, 0.0, 2017, 0.0, 0.0, 0.0, 2017, 2006, 0.0, 0.0, 0.0, 0.0, 0.0, 0.0, 0.0, 2017, 0.0, 0.0, 0.0, 0.0, 0.0, 0.0, 0.0, 0.0, 0.0, 0.0]\n"
     ]
    }
   ],
   "source": [
    "all_EWHa = []\n",
    "all_EWHa_err = []\n",
    "all_EWHa_ref = []\n",
    "\n",
    "for name in all_2mass:\n",
    "    #print name\n",
    "    if name in np.array(riaz_catalog[0][\"_2MASS\"]):\n",
    "        EW = riaz_catalog[0][\"EWHa\"][riaz_catalog[0][\"_2MASS\"]==name][0]\n",
    "        EW_err = 0.0\n",
    "        ref = 2006\n",
    "    elif name in np.array(catalog[1][\"_2MASS\"]):\n",
    "        EW = catalog[1][\"Ha\"][catalog[1][\"_2MASS\"]==name][0]\n",
    "        EW_err = 0.0\n",
    "        ref = 2014\n",
    "    elif name[1:] in np.array(newton_catalog[0][\"_2MASS\"]):\n",
    "        EW = newton_catalog[0][\"EWHa\"][newton_catalog[0][\"_2MASS\"]==name[1:]][0]\n",
    "        EW_err = newton_catalog[0][\"e_EWHa\"][newton_catalog[0][\"_2MASS\"]==name[1:]][0]\n",
    "        ref = 2017\n",
    "    else: \n",
    "        EW = 0.0\n",
    "        EW_err = 0.0\n",
    "        ref = 0.0\n",
    "    \n",
    "    all_EWHa.append(EW)\n",
    "    all_EWHa_err.append(EW_err)\n",
    "    all_EWHa_ref.append(ref)\n",
    "    \n",
    "print(all_EWHa)\n",
    "#print(all_EWHa_err)\n",
    "print(all_EWHa_ref)"
   ]
  },
  {
   "cell_type": "code",
   "execution_count": 130,
   "metadata": {
    "collapsed": false
   },
   "outputs": [],
   "source": [
    "#stacks = np.column_stack((all_EWHa, all_EWHa_err, all_EWHa_ref))\n",
    "np.savetxt(\"lit_halpha_values.txt\", all_EWHa_err)"
   ]
  },
  {
   "cell_type": "code",
   "execution_count": null,
   "metadata": {
    "collapsed": true
   },
   "outputs": [],
   "source": []
  }
 ],
 "metadata": {
  "kernelspec": {
   "display_name": "Python 2",
   "language": "python",
   "name": "python2"
  },
  "language_info": {
   "codemirror_mode": {
    "name": "ipython",
    "version": 2
   },
   "file_extension": ".py",
   "mimetype": "text/x-python",
   "name": "python",
   "nbconvert_exporter": "python",
   "pygments_lexer": "ipython2",
   "version": "2.7.12"
  }
 },
 "nbformat": 4,
 "nbformat_minor": 0
}
