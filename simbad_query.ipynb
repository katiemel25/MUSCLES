{
 "cells": [
  {
   "cell_type": "code",
   "execution_count": 1,
   "metadata": {
    "collapsed": false
   },
   "outputs": [],
   "source": [
    "from astroquery.simbad import Simbad\n",
    "import numpy as np\n",
    "from astropy.io import ascii\n",
    "from astropy.table import Table"
   ]
  },
  {
   "cell_type": "markdown",
   "metadata": {},
   "source": [
    "# Simbad Query\n",
    "\n",
    "**For data values**"
   ]
  },
  {
   "cell_type": "code",
   "execution_count": 2,
   "metadata": {
    "collapsed": false
   },
   "outputs": [
    {
     "name": "stdout",
     "output_type": "stream",
     "text": [
      "['GJ176' 'GJ667C' 'GJ581' 'GJ1214' 'GJ832' 'GJ876' 'GJ436' 'GJ628' 'GJ887'\n",
      " 'GJ1061' 'HD173739' 'GSC8056-0482' '2MASSJ02543316-5108313'\n",
      " '2MASSJ02001277-0840516' 'G75-55' '2MASSJ22025453-6440441'\n",
      " '2MASSJ00240899-6211042' '2MASSJ01521830-5950168' '2MASSJ03315564-4359135'\n",
      " '2MASSJ23261069-7323498' '2MASSJ23285763-6802338' '2MASSJ00393579-3816584'\n",
      " 'GJ173' 'GJ3290' 'LP415-1619' 'LP5-282' '2MASSJ02001277-0840516'\n",
      " '2MASSJ04223953+1816097' '2MASSJ04184702+1321585' 'TYC1265-1118-1'\n",
      " '2MASSJ02125819-5851182' 'GJ3997' '2MASSJ22463471-7353504' 'GJ4334' 'GJ49'\n",
      " 'GJ871.1A' 'LP247-13' 'G80-21' 'CD-571054' 'CD-352722' 'GJ410' 'LP55-41'\n",
      " 'G249-11' 'G111-72' 'GJ213' 'GJ4304' 'GJ821' 'GJ191' 'LHS26' 'LHS353'\n",
      " 'GJ754.1B' 'GJ388' 'GJ803' 'GJ873' 'GJ551' 'GJ1132' 'GJ3470' 'K2-25'\n",
      " 'GJ1243' 'TWA13A' 'TWA13B' 'TWA7' 'LHS2065' 'LHS3003' 'GJ285' 'GJ752B'\n",
      " 'GJ644C' 'GJ3053' 'TRAPPIST-1' 'GJ676A' 'GJ15A' 'GJ649' 'GJ163' 'GJ849'\n",
      " 'GJ674' 'GJ699' 'L980-5' 'LP756-18' 'LHS2686' 'GJ729' 'K2-3' 'Ross1044'\n",
      " 'Ross825' 'GJ273' 'GJ860A' 'GJ205' 'GJ588' 'GJ338A' 'GJ644A' 'GJ411'\n",
      " '2MASSJ04483062+1623187' '2MASSJ04235911+1643178' '2MASSJ04251456+1858250'\n",
      " '2MASSJ04202761+1853499' '2MASSJ04172811+1454038' '2MASSJ02564122+3522346'\n",
      " '2MASSJ03553690+2118482' '2MASSJ03555715+1825564' '2MASSJ03581434+1237408'\n",
      " '2MASSJ04004493+1354227' '2MASSJ04062060+1901391' '2MASSJ04183382+1821529'\n",
      " '2MASSJ04262170+1800009' '2MASSJ04290015+1620467' '2MASSJ04214955+1929086'\n",
      " '2MASSJ04110642+1247481' '2MASSJ04254182+1900477']\n",
      "[  2.60000000e+01   6.10000000e+00  -9.80000000e+00   1.60000000e+01\n",
      "   1.28000000e+01  -2.10000000e+00   1.00000000e+01  -2.16000000e+01\n",
      "   9.50000000e+00   7.00000000e-01  -1.07000000e+00   1.20000000e+01\n",
      "   1.38000000e+01   4.50000000e+00   0.00000000e+00   2.20000000e+00\n",
      "   6.10000000e+00   1.03000000e+01   1.51000000e+01   9.20000000e+00\n",
      "   8.00000000e+00   3.30000000e+00  -6.63600000e+00   0.00000000e+00\n",
      "   5.51030000e+04   0.00000000e+00   4.50000000e+00   0.00000000e+00\n",
      "   0.00000000e+00   0.00000000e+00   9.10000000e+00   0.00000000e+00\n",
      "   9.10000000e+00  -4.00000000e+01  -6.56000000e+00   3.20000000e+00\n",
      "   2.75000000e+01   1.89000000e+01   1.80700000e+01   3.14000000e+01\n",
      "  -1.38530000e+01   0.00000000e+00   0.00000000e+00   0.00000000e+00\n",
      "   1.05830000e+02   0.00000000e+00  -5.82700000e+01   2.45190000e+02\n",
      "   2.90000000e+01   2.57620000e+01   3.85130000e+01   1.25000000e+01\n",
      "  -4.50000000e+00   4.00000000e-01  -2.24000000e+01  -4.00500000e+00\n",
      "   4.29180000e+01   0.00000000e+00  -1.13800000e+01   1.13000000e+01\n",
      "   1.16000000e+01   1.14000000e+01   7.00000000e+00   1.00000000e+00\n",
      "   2.65300000e+01   2.90000000e+01   1.53900000e+01   1.18000000e+00\n",
      "  -5.40000000e+01  -3.90800000e+01   1.16200000e+01   4.38000000e+00\n",
      "   5.81000000e+01  -1.52600000e+01  -2.73000000e+00  -1.10510000e+02\n",
      "   0.00000000e+00   9.12541000e+02  -1.00000000e+01  -1.05000000e+01\n",
      "   0.00000000e+00  -1.74000000e+02              nan   1.82200000e+01\n",
      "   0.00000000e+00   8.67000000e+00   1.55000000e+01   1.11400000e+01\n",
      "   1.48900000e+01  -8.46900000e+01   0.00000000e+00   0.00000000e+00\n",
      "   0.00000000e+00   0.00000000e+00   0.00000000e+00   0.00000000e+00\n",
      "   0.00000000e+00   0.00000000e+00   0.00000000e+00   0.00000000e+00\n",
      "   0.00000000e+00   0.00000000e+00   0.00000000e+00   0.00000000e+00\n",
      "   0.00000000e+00   0.00000000e+00   0.00000000e+00]\n"
     ]
    }
   ],
   "source": [
    "star_names = np.genfromtxt(\"star_names.txt\", dtype='str')#, missing_values = ('nan'), filling_values=(np.nan)), invalid_raise=False)\n",
    "print(star_names)\n",
    "\n",
    "#Simbad.list_votable_fields()\n",
    "#Simbad.get_field_description(\"flux_error(filtername)\")\n",
    "\n",
    "#alt_names = Simbad.query_objectids(\"GJ176\")\n",
    "#print(np.array(alt_names[\"ID\"]))\n",
    "\n",
    "all_stars = np.genfromtxt(\"RVs.txt\", dtype='str', usecols=0, skip_header=2)\n",
    "all_stars_rvs = np.genfromtxt(\"RVs.txt\", usecols=1, skip_header=2)\n",
    "\n",
    "mask = np.in1d(all_stars, star_names)\n",
    "short_rvs = all_stars_rvs[mask]\n",
    "#print all_stars\n",
    "#print all_stars_rvs\n",
    "print short_rvs\n",
    "\n",
    "customSimbad = Simbad()\n",
    "customSimbad.add_votable_fields(\"fluxdata(I)\", \"fluxdata(K)\", \"fluxdata(V)\", \"rv_value\", \"velocity\", \"distance\")\n",
    "#print customSimbad.get_votable_fields()"
   ]
  },
  {
   "cell_type": "code",
   "execution_count": 3,
   "metadata": {
    "collapsed": false
   },
   "outputs": [
    {
     "name": "stdout",
     "output_type": "stream",
     "text": [
      "['04425581+1857285', '17185868-3459483', '15192689-0743200', '17151894+0457496', '21333397-4900323', '22531672-1415489', '11421096+2642251', '16301808-1239434', '23055131-3551130', '03355969-4430453', '18424666+5937499', '02365171-5203036', '02543316-5108313', '02001277-0840516', '02582009-0059330', '22025453-6440441', '00240899-6211042', '01521830-5950168', '03315564-4359135', '23261069-7323498', '23285763-6802338', '00393579-3816584', '04374188-1102198', '04271663+1714305', '04363893+1836567', '04225989+1318585', '02001277-0840516', '04223953+1816097', '04184702+1321585', '04260470+1502288', '02125819-5851182', '17155010+1900000', '22463471-7353504', '23254016+5308056', '01023895+6220422', '22445794-3315015', '03153783+3724143', '03472333-0158195', '05004714-5715255', '06091922-3549311', '11023832+2158017', '05020507+6827253', '05304035+6854079', '08200425+3834415', '05420897+1229252', '22555682+0545179', '21091740-1318080', '05114046-4501051', '04311147+5858375', '13300285-0842251', '19203346-0739435', '10193634+1952122', '20450949-3120266', '22464980+4420030', '14294291-6240465', '10145184-4709244', '07590587+1523294', '04130560+1514520', '19510930+4628598', '11211723-3446454', '11211745-3446497', '10423011-3340162', 'J0853361-032931', 'J1456383-280947', '07444018+0333089', '19165762+0509021', '16553529-0823401', '00445930-1516166', 'J2306292-050227', '17301119-5138132', '00182256+4401222', '16580884+2544392', '04091567-5322254', '22094029-0438267', '17283991-4653424', '17574849+0441405', '14211512-0107199', '20553706-1403545', '13101268+4745190', '18494929-2350101', '11292037-0127173', '15032457+0346574', '21111696+3331272', '07272450+0513329', 'nan', '05312734-0340356', '15321302-4116314', '09142298+5241125', '16552880-0820103', '11032023+3558117', '04483062+1623187', '04235911+1643178', '04251456+1858250', '04202761+1853499', '04172811+1454038', '02564122+3522346', '03553690+2118482', '03555715+1825564', '03581434+1237408', '04004493+1354227', '04062060+1901391', '04183382+1821529', '04262170+1800009', '04290015+1620467', '04214955+1929086', '04110642+1247481', '04254182+1900477']\n"
     ]
    }
   ],
   "source": [
    "#all_i_flux = []\n",
    "#all_i_err = []\n",
    "all_k_flux = []\n",
    "all_k_err = []\n",
    "all_v_flux = []\n",
    "all_v_err = []\n",
    "#all_dists = []\n",
    "\n",
    "all_2mass = []\n",
    "\n",
    "for star in star_names:\n",
    "    #print(star)\n",
    "    table = customSimbad.query_object(star)\n",
    "    #print table.dtype.names\n",
    "    \n",
    "    #i_flux = table[\"FLUX_I\"][0]\n",
    "    #i_err = table[\"FLUX_ERROR_I\"][0]\n",
    "    v_flux = table[\"FLUX_V\"][0]\n",
    "    v_err = table[\"FLUX_ERROR_V\"][0]\n",
    "    k_flux = table[\"FLUX_K\"][0]\n",
    "    k_err = table[\"FLUX_ERROR_K\"][0]\n",
    "    #dist = table[\"Distance_distance\"][0]\n",
    "    #dist_unit = table[\"Distance_unit\"][0]\n",
    "    #print dist, dist_unit\n",
    "    \n",
    "    #if dist_unit != \"pc\":\n",
    "        #print(star, dist_unit)\n",
    "    \n",
    "    alt_names = Simbad.query_objectids(star)\n",
    "    if any(name[:5] == \"2MASS\" for name in np.array(alt_names[\"ID\"])):\n",
    "        for i in range(len(alt_names[\"ID\"])):\n",
    "            #print alt_names[\"ID\"][i][:5]\n",
    "            if alt_names[i][0][:5] == \"2MASS\":\n",
    "                _2mass = alt_names[\"ID\"][i][7:]\n",
    "                #print _2mass\n",
    "    else:\n",
    "        _2mass = \"nan\"\n",
    "    \n",
    "    #all_i_flux.append(i_flux)\n",
    "    #all_i_err.append(i_err)\n",
    "    all_v_flux.append(v_flux)\n",
    "    all_v_err.append(v_err)\n",
    "    all_k_flux.append(k_flux)\n",
    "    all_k_err.append(k_err)\n",
    "    \n",
    "    all_2mass.append(_2mass)\n",
    "\n",
    "print(all_2mass)"
   ]
  },
  {
   "cell_type": "code",
   "execution_count": 4,
   "metadata": {
    "collapsed": false
   },
   "outputs": [
    {
     "name": "stdout",
     "output_type": "stream",
     "text": [
      "('MAIN_ID', 'RA', 'DEC', 'RA_PREC', 'DEC_PREC', 'COO_ERR_MAJA', 'COO_ERR_MINA', 'COO_ERR_ANGLE', 'COO_QUAL', 'COO_WAVELENGTH', 'COO_BIBCODE', 'FILTER_NAME_I', 'FLUX_I', 'FLUX_ERROR_I', 'FLUX_SYSTEM_I', 'FLUX_BIBCODE_I', 'FLUX_VAR_I', 'FLUX_MULT_I', 'FLUX_QUAL_I', 'FLUX_UNIT_I', 'FILTER_NAME_K', 'FLUX_K', 'FLUX_ERROR_K', 'FLUX_SYSTEM_K', 'FLUX_BIBCODE_K', 'FLUX_VAR_K', 'FLUX_MULT_K', 'FLUX_QUAL_K', 'FLUX_UNIT_K', 'FILTER_NAME_V', 'FLUX_V', 'FLUX_ERROR_V', 'FLUX_SYSTEM_V', 'FLUX_BIBCODE_V', 'FLUX_VAR_V', 'FLUX_MULT_V', 'FLUX_QUAL_V', 'FLUX_UNIT_V', 'RV_VALUE', 'RVZ_TYPE', 'RVZ_RADVEL', 'RVZ_ERROR', 'RVZ_QUAL', 'RVZ_WAVELENGTH', 'RVZ_BIBCODE', 'Distance_distance', 'Distance_Q', 'Distance_unit', 'Distance_merr', 'Distance_perr', 'Distance_method', 'Distance_bibcode')\n"
     ]
    }
   ],
   "source": [
    "#Simbad.list_votable_fields()\n",
    "#Simbad.get_field_description(\"rvz_type\")\n",
    "\n",
    "table = customSimbad.query_object(\"GJ176\")\n",
    "#print(table[\"Distance_distance\"][0])\n",
    "print table.dtype.names"
   ]
  },
  {
   "cell_type": "code",
   "execution_count": 5,
   "metadata": {
    "collapsed": false
   },
   "outputs": [],
   "source": [
    "#all_k_err = np.nan_to_num(np.array(all_k_err).flatten())\n",
    "#all_v_err = np.nan_to_num(np.array(all_v_err).flatten())"
   ]
  },
  {
   "cell_type": "code",
   "execution_count": 6,
   "metadata": {
    "collapsed": false
   },
   "outputs": [
    {
     "name": "stderr",
     "output_type": "stream",
     "text": [
      "/Users/katiemel/anaconda/lib/python2.7/site-packages/numpy/ma/core.py:4185: UserWarning: Warning: converting a masked element to nan.\n",
      "  warnings.warn(\"Warning: converting a masked element to nan.\")\n"
     ]
    }
   ],
   "source": [
    "output = np.column_stack((np.nan_to_num(all_k_flux), np.nan_to_num(all_k_err), \n",
    "                          np.nan_to_num(all_v_flux), np.nan_to_num(all_v_err)))\n",
    "np.savetxt(\"photometry.txt\", output)\n",
    "#output_RVs_dists = np.column_stack((, np.nan_to_num(all_dists)))\n",
    "np.savetxt(\"RVs.txt\", short_rvs)"
   ]
  },
  {
   "cell_type": "code",
   "execution_count": 7,
   "metadata": {
    "collapsed": false
   },
   "outputs": [
    {
     "name": "stdout",
     "output_type": "stream",
     "text": [
      "Stars missing K band magnitudes: \n",
      "GJ860A\n",
      "Stars missing V band magnitudes: \n",
      "\n",
      " \n",
      "Stars missing RV values: \n",
      "G75-55\n",
      "GJ3290\n",
      "LP5-282\n",
      "2MASSJ04223953+1816097\n",
      "2MASSJ04184702+1321585\n",
      "TYC1265-1118-1\n",
      "GJ3997\n",
      "LP55-41\n",
      "G249-11\n",
      "G111-72\n",
      "GJ4304\n",
      "K2-25\n",
      "L980-5\n",
      "K2-3\n",
      "GJ860A\n",
      "2MASSJ04483062+1623187\n",
      "2MASSJ04235911+1643178\n",
      "2MASSJ04251456+1858250\n",
      "2MASSJ04202761+1853499\n",
      "2MASSJ04172811+1454038\n",
      "2MASSJ02564122+3522346\n",
      "2MASSJ03553690+2118482\n",
      "2MASSJ03555715+1825564\n",
      "2MASSJ03581434+1237408\n",
      "2MASSJ04004493+1354227\n",
      "2MASSJ04062060+1901391\n",
      "2MASSJ04183382+1821529\n",
      "2MASSJ04262170+1800009\n",
      "2MASSJ04290015+1620467\n",
      "2MASSJ04214955+1929086\n",
      "2MASSJ04110642+1247481\n",
      "2MASSJ04254182+1900477\n"
     ]
    },
    {
     "data": {
      "text/plain": [
       "'print(\"\\n \")\\n\\nprint(\"Stars missing distance values: \")\\nall_dists_nan = np.nan_to_num(all_dists)\\nfor i in range(len(star_names)):\\n    if all_dists_nan[i] == 0.0:\\n        print star_names[i]'"
      ]
     },
     "execution_count": 7,
     "metadata": {},
     "output_type": "execute_result"
    }
   ],
   "source": [
    "#all_i_flux = np.nan_to_num(all_i_flux)\n",
    "all_k_flux = np.nan_to_num(all_k_flux)\n",
    "#all_rv = np.nan_to_num(all_rv)\n",
    "\n",
    "\"\"\"print(\"Stars missing I band magnitudes: \")\n",
    "for i in range(len(star_names)):\n",
    "    if all_i_flux[i] == 0.0:\n",
    "        print star_names[i]\"\"\"\n",
    "\n",
    "print(\"Stars missing K band magnitudes: \")\n",
    "for i in range(len(star_names)):\n",
    "    if all_k_flux[i] == 0.0:\n",
    "        print star_names[i]\n",
    "\n",
    "print(\"Stars missing V band magnitudes: \")\n",
    "for i in range(len(star_names)):\n",
    "    if all_v_flux[i] == 0.0:\n",
    "        print star_names[i]\n",
    "        \n",
    "print(\"\\n \")\n",
    "\n",
    "print(\"Stars missing RV values: \")\n",
    "for i in range(len(star_names)):\n",
    "    if short_rvs[i] == 0.0:\n",
    "        print star_names[i]\n",
    "        \n",
    "\"\"\"print(\"\\n \")\n",
    "\n",
    "print(\"Stars missing distance values: \")\n",
    "all_dists_nan = np.nan_to_num(all_dists)\n",
    "for i in range(len(star_names)):\n",
    "    if all_dists_nan[i] == 0.0:\n",
    "        print star_names[i]\"\"\""
   ]
  },
  {
   "cell_type": "code",
   "execution_count": 8,
   "metadata": {
    "collapsed": false
   },
   "outputs": [
    {
     "name": "stdout",
     "output_type": "stream",
     "text": [
      "[  2.60000000e+01   6.10000000e+00  -9.80000000e+00   1.60000000e+01\n",
      "   1.28000000e+01  -2.10000000e+00   1.00000000e+01  -2.16000000e+01\n",
      "   9.50000000e+00   7.00000000e-01  -1.07000000e+00   1.20000000e+01\n",
      "   1.38000000e+01   4.50000000e+00   0.00000000e+00   2.20000000e+00\n",
      "   6.10000000e+00   1.03000000e+01   1.51000000e+01   9.20000000e+00\n",
      "   8.00000000e+00   3.30000000e+00  -6.63600000e+00   0.00000000e+00\n",
      "   5.51030000e+04   0.00000000e+00   4.50000000e+00   0.00000000e+00\n",
      "   0.00000000e+00   0.00000000e+00   9.10000000e+00   0.00000000e+00\n",
      "   9.10000000e+00  -4.00000000e+01  -6.56000000e+00   3.20000000e+00\n",
      "   2.75000000e+01   1.89000000e+01   1.80700000e+01   3.14000000e+01\n",
      "  -1.38530000e+01   0.00000000e+00   0.00000000e+00   0.00000000e+00\n",
      "   1.05830000e+02   0.00000000e+00  -5.82700000e+01   2.45190000e+02\n",
      "   2.90000000e+01   2.57620000e+01   3.85130000e+01   1.25000000e+01\n",
      "  -4.50000000e+00   4.00000000e-01  -2.24000000e+01  -4.00500000e+00\n",
      "   4.29180000e+01   0.00000000e+00  -1.13800000e+01   1.13000000e+01\n",
      "   1.16000000e+01   1.14000000e+01   7.00000000e+00   1.00000000e+00\n",
      "   2.65300000e+01   2.90000000e+01   1.53900000e+01   1.18000000e+00\n",
      "  -5.40000000e+01  -3.90800000e+01   1.16200000e+01   4.38000000e+00\n",
      "   5.81000000e+01  -1.52600000e+01  -2.73000000e+00  -1.10510000e+02\n",
      "   0.00000000e+00   9.12541000e+02  -1.00000000e+01  -1.05000000e+01\n",
      "   0.00000000e+00  -1.74000000e+02              nan   1.82200000e+01\n",
      "   0.00000000e+00   8.67000000e+00   1.55000000e+01   1.11400000e+01\n",
      "   1.48900000e+01  -8.46900000e+01   0.00000000e+00   0.00000000e+00\n",
      "   0.00000000e+00   0.00000000e+00   0.00000000e+00   0.00000000e+00\n",
      "   0.00000000e+00   0.00000000e+00   0.00000000e+00   0.00000000e+00\n",
      "   0.00000000e+00   0.00000000e+00   0.00000000e+00   0.00000000e+00\n",
      "   0.00000000e+00   0.00000000e+00   0.00000000e+00]\n",
      "['GJ176' 'GJ667C' 'GJ581' 'GJ1214' 'GJ832' 'GJ876' 'GJ436' 'GJ628' 'GJ887'\n",
      " 'GJ1061' 'HD173739' 'GSC8056-0482' '2MASSJ02543316-5108313'\n",
      " '2MASSJ02001277-0840516' 'G75-55' '2MASSJ22025453-6440441'\n",
      " '2MASSJ00240899-6211042' '2MASSJ01521830-5950168' '2MASSJ03315564-4359135'\n",
      " '2MASSJ23261069-7323498' '2MASSJ23285763-6802338' '2MASSJ00393579-3816584'\n",
      " 'GJ173' 'GJ3290' 'LP415-1619' 'LP5-282' '2MASSJ02001277-0840516'\n",
      " '2MASSJ04223953+1816097' '2MASSJ04184702+1321585' 'TYC1265-1118-1'\n",
      " '2MASSJ02125819-5851182' 'GJ3997' '2MASSJ22463471-7353504' 'GJ4334' 'GJ49'\n",
      " 'GJ871.1A' 'LP247-13' 'G80-21' 'CD-571054' 'CD-352722' 'GJ410' 'LP55-41'\n",
      " 'G249-11' 'G111-72' 'GJ213' 'GJ4304' 'GJ821' 'GJ191' 'LHS26' 'LHS353'\n",
      " 'GJ754.1B' 'GJ388' 'GJ803' 'GJ873' 'GJ551' 'GJ1132' 'GJ3470' 'K2-25'\n",
      " 'GJ1243' 'TWA13A' 'TWA13B' 'TWA7' 'LHS2065' 'LHS3003' 'GJ285' 'GJ752B'\n",
      " 'GJ644C' 'GJ3053' 'TRAPPIST-1' 'GJ676A' 'GJ15A' 'GJ649' 'GJ163' 'GJ849'\n",
      " 'GJ674' 'GJ699' 'L980-5' 'LP756-18' 'LHS2686' 'GJ729' 'K2-3' 'Ross1044'\n",
      " 'Ross825' 'GJ273' 'GJ860A' 'GJ205' 'GJ588' 'GJ338A' 'GJ644A' 'GJ411'\n",
      " '2MASSJ04483062+1623187' '2MASSJ04235911+1643178' '2MASSJ04251456+1858250'\n",
      " '2MASSJ04202761+1853499' '2MASSJ04172811+1454038' '2MASSJ02564122+3522346'\n",
      " '2MASSJ03553690+2118482' '2MASSJ03555715+1825564' '2MASSJ03581434+1237408'\n",
      " '2MASSJ04004493+1354227' '2MASSJ04062060+1901391' '2MASSJ04183382+1821529'\n",
      " '2MASSJ04262170+1800009' '2MASSJ04290015+1620467' '2MASSJ04214955+1929086'\n",
      " '2MASSJ04110642+1247481' '2MASSJ04254182+1900477']\n"
     ]
    }
   ],
   "source": [
    "print short_rvs\n",
    "print star_names"
   ]
  },
  {
   "cell_type": "markdown",
   "metadata": {},
   "source": [
    "# VizieR Query\n",
    "\n",
    "#### For comparison to Newton EW results"
   ]
  },
  {
   "cell_type": "code",
   "execution_count": 9,
   "metadata": {
    "collapsed": true
   },
   "outputs": [],
   "source": [
    "from astroquery.vizier import Vizier\n",
    "Vizier.ROW_LIMIT = -1"
   ]
  },
  {
   "cell_type": "code",
   "execution_count": 10,
   "metadata": {
    "collapsed": false
   },
   "outputs": [],
   "source": [
    "#catalog_list = Vizier.find_catalogs('Newton H alpha')\n",
    "#print({k:v.description for k,v in catalog_list.items()})\n",
    "\n",
    "#catalogs = Vizier.get_catalogs(catalog_list.keys())\n",
    "#print(catalogs)"
   ]
  },
  {
   "cell_type": "code",
   "execution_count": 11,
   "metadata": {
    "collapsed": false
   },
   "outputs": [
    {
     "name": "stdout",
     "output_type": "stream",
     "text": [
      "['00051079+4547116' '00054090+4548374' '00123349+2142488' ...,\n",
      " '23555512-1321238' '07200325-0846499' '22480446-2422075']\n"
     ]
    }
   ],
   "source": [
    "catalog = Vizier.get_catalogs('J/ApJ/834/85')\n",
    "print(np.array(catalog[0][\"_2MASS\"]))\n",
    "#print(catalog[0][\"EWHa\"][catalog[0][\"_2MASS\"]==\"00154919+1333218\"][0])\n",
    "#data['rhk_prime'][data['star']=='GJ176']"
   ]
  },
  {
   "cell_type": "code",
   "execution_count": 12,
   "metadata": {
    "collapsed": false
   },
   "outputs": [
    {
     "name": "stdout",
     "output_type": "stream",
     "text": [
      "('_2MASS', 'RAJ2000', 'DEJ2000', 'Mass', 'Rad', 'chi', 'Per', 'r_Per', 'EWHa', 'e_EWHa', 'logLHa', 'Act', 'Bin', 'LSPM', 'Simbad')\n"
     ]
    }
   ],
   "source": [
    "result = Vizier.query_object(\"GJ176\", catalog='J/ApJ/834/85')['J/ApJ/834/85/table1']\n",
    "print(result.dtype.names)"
   ]
  },
  {
   "cell_type": "code",
   "execution_count": 13,
   "metadata": {
    "collapsed": false
   },
   "outputs": [
    {
     "name": "stdout",
     "output_type": "stream",
     "text": [
      "0.263\n"
     ]
    }
   ],
   "source": [
    "print(result['EWHa'][0])"
   ]
  },
  {
   "cell_type": "code",
   "execution_count": 14,
   "metadata": {
    "collapsed": false
   },
   "outputs": [
    {
     "name": "stdout",
     "output_type": "stream",
     "text": [
      "04425581+1857285\n",
      "17185868-3459483\n",
      "15192689-0743200\n",
      "17151894+0457496\n",
      "21333397-4900323\n",
      "22531672-1415489\n",
      "11421096+2642251\n",
      "16301808-1239434\n",
      "23055131-3551130\n",
      "03355969-4430453\n",
      "18424666+5937499\n",
      "02365171-5203036\n",
      "02543316-5108313\n",
      "02001277-0840516\n",
      "02582009-0059330\n",
      "22025453-6440441\n",
      "00240899-6211042\n",
      "01521830-5950168\n",
      "03315564-4359135\n",
      "23261069-7323498\n",
      "23285763-6802338\n",
      "00393579-3816584\n",
      "04374188-1102198\n",
      "04271663+1714305\n",
      "04363893+1836567\n",
      "04225989+1318585\n",
      "02001277-0840516\n",
      "04223953+1816097\n",
      "04184702+1321585\n",
      "04260470+1502288\n",
      "02125819-5851182\n",
      "17155010+1900000\n",
      "22463471-7353504\n",
      "23254016+5308056\n",
      "01023895+6220422\n",
      "22445794-3315015\n",
      "03153783+3724143\n",
      "03472333-0158195\n",
      "05004714-5715255\n",
      "06091922-3549311\n",
      "11023832+2158017\n",
      "05020507+6827253\n",
      "05304035+6854079\n",
      "08200425+3834415\n",
      "05420897+1229252\n",
      "22555682+0545179\n",
      "21091740-1318080\n",
      "05114046-4501051\n",
      "04311147+5858375\n",
      "13300285-0842251\n",
      "19203346-0739435\n",
      "10193634+1952122\n",
      "20450949-3120266\n",
      "22464980+4420030\n",
      "14294291-6240465\n",
      "10145184-4709244\n",
      "07590587+1523294\n",
      "04130560+1514520\n",
      "19510930+4628598\n",
      "11211723-3446454\n",
      "11211745-3446497\n",
      "10423011-3340162\n",
      "J0853361-032931\n",
      "J1456383-280947\n",
      "07444018+0333089\n",
      "19165762+0509021\n",
      "16553529-0823401\n",
      "00445930-1516166\n",
      "J2306292-050227\n",
      "17301119-5138132\n",
      "00182256+4401222\n",
      "16580884+2544392\n",
      "04091567-5322254\n",
      "22094029-0438267\n",
      "17283991-4653424\n",
      "17574849+0441405\n",
      "14211512-0107199\n",
      "20553706-1403545\n",
      "13101268+4745190\n",
      "18494929-2350101\n",
      "11292037-0127173\n",
      "15032457+0346574\n",
      "21111696+3331272\n",
      "07272450+0513329\n",
      "nan\n",
      "05312734-0340356\n",
      "15321302-4116314\n",
      "09142298+5241125\n",
      "16552880-0820103\n",
      "11032023+3558117\n",
      "04483062+1623187\n",
      "04235911+1643178\n",
      "04251456+1858250\n",
      "04202761+1853499\n",
      "04172811+1454038\n",
      "02564122+3522346\n",
      "03553690+2118482\n",
      "03555715+1825564\n",
      "03581434+1237408\n",
      "04004493+1354227\n",
      "04062060+1901391\n",
      "04183382+1821529\n",
      "04262170+1800009\n",
      "04290015+1620467\n",
      "04214955+1929086\n",
      "04110642+1247481\n",
      "04254182+1900477\n",
      "[0.26300001, 0.0, 0.0, masked, 0.0, 0.0, 0.23999999, 0.0, 0.0, 0.0, masked, 0.0, 0.0, 0.0, 0.0, 0.0, 0.0, 0.0, 0.0, 0.0, 0.0, 0.0, 0.0, 0.0, 0.0, 0.0, 0.0, 0.0, 0.0, 0.0, 0.0, 0.0, 0.0, -4.704, masked, 0.0, -4.882, 0.0, 0.0, 0.0, masked, 0.146, -0.030999999, 0.0, masked, masked, 0.0, 0.0, masked, masked, 0.0, -3.3110001, 0.0, -4.5440001, masked, masked, masked, 0.0, -4.8189998, 0.0, 0.0, 0.0, 0.0, 0.0, -9.3400002, masked, masked, masked, 0.0, 0.0, 0.183, masked, 0.0, 0.0, 0.0, 0.074000001, masked, masked, -5.658, masked, 0.0, masked, 0.0, 0.090999998, 0.0, 0.0, 0.0, masked, 0.0, 0.0, 0.0, 0.0, 0.0, 0.0, 0.0, 0.0, masked, 0.0, 0.0, 0.0, 0.0, 0.0, 0.0, 0.0, 0.0, 0.0, 0.0]\n",
      "[0.018999999, 0.0, 0.0, masked, 0.0, 0.0, 0.021, 0.0, 0.0, 0.0, masked, 0.0, 0.0, 0.0, 0.0, 0.0, 0.0, 0.0, 0.0, 0.0, 0.0, 0.0, 0.0, 0.0, 0.0, 0.0, 0.0, 0.0, 0.0, 0.0, 0.0, 0.0, 0.0, 0.057, masked, 0.0, 0.041999999, 0.0, 0.0, 0.0, masked, 0.037999999, 0.041999999, 0.0, masked, masked, 0.0, 0.0, masked, masked, 0.0, 0.017000001, 0.0, 0.037999999, masked, masked, masked, 0.0, 0.043000001, 0.0, 0.0, 0.0, 0.0, 0.0, 0.025, masked, masked, masked, 0.0, 0.0, 0.024, masked, 0.0, 0.0, 0.0, 0.014, masked, masked, 0.056000002, masked, 0.0, masked, 0.0, 0.013, 0.0, 0.0, 0.0, masked, 0.0, 0.0, 0.0, 0.0, 0.0, 0.0, 0.0, 0.0, masked, 0.0, 0.0, 0.0, 0.0, 0.0, 0.0, 0.0, 0.0, 0.0, 0.0]\n"
     ]
    }
   ],
   "source": [
    "all_Newton_EW = []\n",
    "all_Newton_EW_err = []\n",
    "\n",
    "#subcat = np.nan_to_num(catalog[0])\n",
    "\n",
    "for name in all_2mass:\n",
    "    print name\n",
    "    if name in np.array(catalog[0][\"_2MASS\"]):\n",
    "        #result = Vizier.query_object(name, catalog='J/ApJ/834/85')['J/ApJ/834/85/table1']\n",
    "        Newton_EW = catalog[0][\"EWHa\"][catalog[0][\"_2MASS\"]==name][0] #result['EWHa'][0]\n",
    "        Newton_EW_err = catalog[0][\"e_EWHa\"][catalog[0][\"_2MASS\"]==name][0] #result['e_EWHa'][0]\n",
    "    else: \n",
    "        Newton_EW = 0.0\n",
    "        Newton_EW_err = 0.0\n",
    "    \n",
    "    all_Newton_EW.append(Newton_EW)\n",
    "    all_Newton_EW_err.append(Newton_EW_err)\n",
    "    \n",
    "print(all_Newton_EW)\n",
    "print(all_Newton_EW_err)"
   ]
  },
  {
   "cell_type": "code",
   "execution_count": 15,
   "metadata": {
    "collapsed": false
   },
   "outputs": [],
   "source": [
    "newt = np.column_stack((all_Newton_EW, all_Newton_EW_err))\n",
    "np.savetxt(\"Comparisons/Newton.txt\", newt)"
   ]
  },
  {
   "cell_type": "markdown",
   "metadata": {},
   "source": [
    "#### For comparison to Astudillo-Defru CaII HK results"
   ]
  },
  {
   "cell_type": "code",
   "execution_count": 16,
   "metadata": {
    "collapsed": false
   },
   "outputs": [
    {
     "name": "stdout",
     "output_type": "stream",
     "text": [
      "{u'J/A+A/600/A13': u'HARPS M dwarf sample magnetic activity (Astudillo-Defru+, 2017)'}\n",
      "TableList with 1 tables:\n",
      "\t'0:J/A+A/600/A13/tablea3' with 19 column(s) and 403 row(s) \n"
     ]
    }
   ],
   "source": [
    "catalog_list = Vizier.find_catalogs('astudillo-defru 2017 magnetic activity')\n",
    "print({k:v.description for k,v in catalog_list.items()})\n",
    "\n",
    "catalogs = Vizier.get_catalogs(catalog_list.keys())\n",
    "print(catalogs)"
   ]
  },
  {
   "cell_type": "code",
   "execution_count": 17,
   "metadata": {
    "collapsed": false
   },
   "outputs": [
    {
     "name": "stdout",
     "output_type": "stream",
     "text": [
      "['Gl551' 'Gl388' 'LHS3746' 'HIP74261' 'HD329868' 'HD329879' 'LHS1134'\n",
      " 'GJ163' 'HIP19394' 'BD-120662' 'BD-120525' 'BD-090956' 'BD-126174' 'Gl832'\n",
      " 'Gl887' 'LTT9759' 'GJ1001' 'Gl1' 'L225-57' 'Gl145' 'GJ1061' 'Gl191'\n",
      " 'HIP31293' 'HIP31292' 'Gl358' 'Gl367' 'GJ1123' 'Gl803' 'LHS3583' 'Gl908'\n",
      " 'Gl54.1' 'Gl105B' 'GJ1057' 'GJ1065' 'Gl176' 'LHS1723' 'Gl205' 'Gl213'\n",
      " 'Gl229' 'Gl250B' 'Gl273' 'Gl285' 'Gl299' 'Gl300' 'Gl357' 'Gl382' 'Gl393'\n",
      " 'Gl876' 'Gl12' 'Gl83.1' 'LHS1610' 'LHS1731' 'Gl203' 'G108-21' 'LHS1935'\n",
      " 'GJ2066' 'Gl87' 'LHS1481' 'GJ1125' 'GJ1129' 'Gl402' 'Gl880' 'LHS543'\n",
      " 'HIP38594' 'Gl433' 'Gl849' 'GJ1265' 'LHS3799' 'HIP6097' 'HIP12961'\n",
      " 'HIP31148' 'HIP34785' 'BD-082582' 'HIP48502' 'HD304043' 'HIP27323'\n",
      " 'BD-093070' 'Gl514' 'Gl555' 'LHS3056' 'Gl581' 'Gl588' 'Gl846' 'GJ1256'\n",
      " 'LP816-60' 'Gl479' 'LHS337' 'Gl480.1' 'Gl526' 'Gl536' 'Gl569A' 'Gl628'\n",
      " 'Gl618A' 'Gl643' 'Gl674' 'Gl682' 'Gl693' 'Gl701' 'GJ1224' 'G141-29'\n",
      " 'Gl729' 'GJ1232' 'Gl413.1' 'Gl465' 'Gl486' 'Gl680' 'Gl678.1A' 'Gl686'\n",
      " 'Gl752A' 'GJ1236' 'HIP95903' 'HIP10688' 'HIP100490' 'BD-035691'\n",
      " 'BD-226219' 'Gl438' 'HIP85126' 'HD162283' 'HIP73194' 'Gl447' 'Gl452.1'\n",
      " 'Gl436' 'HIP55119' 'HIP57459' 'BD-063950' 'BD-074156' 'HIP85647'\n",
      " 'HIP114427' 'Gl234' 'Gl494' 'Gl699' 'GJ7' 'GJ46' 'GJ1009' 'GJ1036'\n",
      " 'GJ27.1' 'GJ3082' 'GJ3110' 'GJ3098' 'GJ2003' 'GJ1293' 'GJ56.1' 'GJ3084'\n",
      " 'GJ3103' 'GJ70' 'GJ3138' 'GJ84.1A' 'GJ91' 'GJ1046' 'GJ1050' 'GJ130' 'GJ93'\n",
      " 'GJ114.1A' 'GJ118' 'GJ126' 'GJ3260' 'GJ173' 'GJ3218' 'GJ3256' 'GJ155.1'\n",
      " 'GJ3307' 'GJ3313' 'GJ3321' 'GJ3344' 'GJ180' 'GJ182' 'GJ3328' 'GJ3340'\n",
      " 'GJ206' 'GJ207.1' 'GJ3362' 'GJ3369' 'GJ3379' 'GJ218' 'GJ9206' 'GJ2049'\n",
      " 'GJ3367' 'GJ234A' 'GJ1097' 'GJ1135' 'GJ1100' 'GJ3440' 'GJ298' 'GJ3501A'\n",
      " 'GJ330' 'GJ3528' 'GJ3530' 'GJ3543' 'GJ3555' 'GJ361' 'GJ377' 'GJ386'\n",
      " 'GJ390' 'GJ399' 'GJ401A' 'GJ422' 'GJ2085' 'GJ443' 'GJ452A' 'GJ9381'\n",
      " 'GJ3695' 'GJ3671' 'GJ3708A' 'GJ476' 'GJ3778' 'GJ513' 'GJ508.3' 'GJ510'\n",
      " 'GJ3823' 'GJ618.4' 'GJ606' 'GJ618.1' 'GJ620' 'GJ724' 'GJ431' 'GJ477'\n",
      " 'GJ3759' 'GJ480' 'GJ494' 'GJ3799' 'GJ3804' 'GJ3813' 'GJ3822' 'GJ637'\n",
      " 'GJ634' 'GJ3707' 'GJ469' 'GJ3846' 'GJ3838' 'GJ552' 'GJ3871' 'GJ3874'\n",
      " 'GJ553.1' 'GJ570B' 'GJ676A' 'GJ4079' 'GJ3915' 'GJ3885' 'GJ3892' 'GJ3916'\n",
      " 'GJ611.3' 'GJ1203' 'GJ3962' 'GJ644A' 'GJ3973' 'GJ3998' 'GJ2128' 'GJ4001'\n",
      " 'GJ654' 'GJ3987' 'GJ4254' 'GJ855' 'GJ863' 'GJ800A' 'GJ821' 'GJ1264'\n",
      " 'GJ4206' 'GJ841A' 'GJ867A' 'GJ842' 'GJ735' 'GJ740' 'GJ4092' 'GJ672.1'\n",
      " 'GJ4004' 'GJ4082' 'GJ739' 'GJ747.4' 'GJ762' 'GJ781.1A' 'GJ1252' 'GJ808'\n",
      " 'GJ9724' 'GJ9732' 'GJ838.6' 'GJ4293' 'GJ874' 'GJ4273' 'GJ865' 'GJ4303'\n",
      " 'GJ4332' 'GJ3025' 'GJ1012' 'GJ1032' 'GJ1030' 'GJ78' 'GJ3135' 'GJ3148A'\n",
      " 'GJ3139' 'GJ1051' 'GJ103' 'GJ3141' 'GJ1054A' 'GJ3212' 'GJ3131' 'GJ3160'\n",
      " 'GJ43' 'GJ3263' 'GJ3205' 'GJ3221' 'GJ3029' 'GJ3032' 'GJ1022' 'GJ3090'\n",
      " 'GJ9201' 'GJ143.3' 'GJ155.3' 'GJ3279' 'GJ3455' 'GJ333' 'GJ3500' 'GJ3020'\n",
      " 'GJ3009' 'GJ3293' 'GJ3563' 'GJ3527' 'GJ372' 'GJ3005' 'GJ3006' 'GJ179'\n",
      " 'GJ204.2' 'GJ3356' 'GJ3341' 'GJ1088' 'GJ238' 'GJ3404A' 'GJ297.2B' 'GJ3470'\n",
      " 'GJ369' 'GJ3817' 'GJ660.1' 'GJ3598' 'GJ1212' 'GJ3634' 'GJ3918' 'GJ4005'\n",
      " 'GJ4056' 'GJ4088' 'GJ2121' 'GJ4016' 'GJ4065' 'GJ3643' 'GJ629.3' 'GJ4024'\n",
      " 'GJ2138' 'GJ4100' 'GJ1207' 'GJ9600' 'GJ723' 'GJ4077' 'GJ754.1B' 'GJ3700'\n",
      " 'GJ660A' 'GJ696' 'GJ4129' 'GJ4038' 'GJ730' 'GJ1248' 'GJ890' 'GJ891'\n",
      " 'GJ4331' 'GJ4310' 'GJ889.1' 'GJ4231' 'GJ4241' 'GJ4195' 'GJ4180' 'GJ4213'\n",
      " 'GJ9773' 'GJ843' 'GJ4249' 'GJ4253' 'GJ4262' 'GJ895.1' 'GJ4353' 'GJ817'\n",
      " 'GJ4197' 'GJ4383' 'GJ912' 'GJ4364' 'GJ828.2' 'GJ1099' 'GJ3508' 'GJ319C'\n",
      " 'GJ3492' 'GJ333.2A' 'GJ1077' 'GJ317' 'GJ816' 'GJ4149' 'GJ4155' 'GJ2033'\n",
      " 'GJ4362' 'GJ4159' 'GJ811.1' 'GJ864' 'GJ4265' 'GJ899' 'GJ4352' 'GJ4304A'\n",
      " 'GJ791' 'GJ810A' 'GJ812A']\n"
     ]
    }
   ],
   "source": [
    "catalog = Vizier.get_catalogs('J/A+A/600/A13')\n",
    "print(np.array(catalog[0][\"Name\"]))\n",
    "#print(np.array(catalog[0][\"Name\"]))\n",
    "#print(catalog[0][\"EWHa\"][catalog[0][\"_2MASS\"]==\"00154919+1333218\"][0])\n",
    "#data['rhk_prime'][data['star']=='GJ176']"
   ]
  },
  {
   "cell_type": "code",
   "execution_count": 18,
   "metadata": {
    "collapsed": false
   },
   "outputs": [
    {
     "name": "stdout",
     "output_type": "stream",
     "text": [
      "('Name', 'Vmag', 'r_Vmag', 'B-V', 'V-K', 'plx', 'e_plx', 'r_plx', 'Mass', 'Nsp', 'S', 'e_S', 'log_R_HK_', 'e_log_R_HK_', 'Prot', 'SNR', 'SimbadName', '_RA', '_DE')\n"
     ]
    }
   ],
   "source": [
    "result = Vizier.query_object(\"GJ176\", catalog='J/A+A/600/A13')['J/A+A/600/A13/tablea3']\n",
    "print(result.dtype.names)"
   ]
  },
  {
   "cell_type": "code",
   "execution_count": 19,
   "metadata": {
    "collapsed": false
   },
   "outputs": [
    {
     "name": "stdout",
     "output_type": "stream",
     "text": [
      "[-4.9109998, 0.0, -5.776, 0.0, -5.1820002, -5.4959998, -5.4569998, -5.5229998, -4.8429999, -5.7540002, 0.0, 0.0, 0.0, 0.0, 0.0, 0.0, 0.0, 0.0, 0.0, 0.0, 0.0, 0.0, -5.256, 0.0, 0.0, 0.0, 0.0, 0.0, 0.0, 0.0, 0.0, 0.0, 0.0, 0.0, 0.0, 0.0, 0.0, 0.0, 0.0, 0.0, 0.0, 0.0, 0.0, 0.0, -5.915, 0.0, -5.6129999, -5.9380002, 0.0, 0.0, -5.0440001, -4.191, -3.9949999, 0.0, -5.0029998, 0.0, -4.8569999, 0.0, 0.0, 0.0, 0.0, 0.0, 0.0, 0.0, -4.0780001, 0.0, 0.0, 0.0, 0.0, -4.7519999, 0.0, 0.0, -5.48, -5.296, -4.8850002, -5.691, 0.0, 0.0, 0.0, -4.428, 0.0, 0.0, 0.0, -5.5739999, 0.0, -4.599, -5.178, 0.0, -4.7379999, 0.0, 0.0, 0.0, 0.0, 0.0, 0.0, 0.0, 0.0, 0.0, 0.0, 0.0, 0.0, 0.0, 0.0, 0.0, 0.0, 0.0, 0.0]\n",
      "[1.5930001, 0.0, 0.505, 0.0, 0.76499999, 0.949, 0.66799998, 0.82099998, 1.155, 1.9630001, 0.0, 0.0, 0.0, 0.0, 0.0, 0.0, 0.0, 0.0, 0.0, 0.0, 0.0, 0.0, 0.78500003, 0.0, 0.0, 0.0, 0.0, 0.0, 0.0, 0.0, 0.0, 0.0, 0.0, 0.0, 0.0, 0.0, 0.0, 0.0, 0.0, 0.0, 0.0, 0.0, 0.0, 0.0, 0.57099998, 0.0, 0.38299999, 0.28600001, 0.0, 0.0, 0.37200001, 8.6899996, 8.6370001, 0.0, 11.265, 0.0, 1.569, 0.0, 0.0, 0.0, 0.0, 0.0, 0.0, 0.0, 22.068001, 0.0, 0.0, 0.0, 0.0, 1.539, 0.0, 0.0, 0.70300001, 0.96799999, 1.633, 0.68699998, 0.0, 0.0, 0.0, 7.2779999, 0.0, 0.0, 0.0, 0.76499999, 0.0, 2.05, 1.001, 0.0, 3.2019999, 0.0, 0.0, 0.0, 0.0, 0.0, 0.0, 0.0, 0.0, 0.0, 0.0, 0.0, 0.0, 0.0, 0.0, 0.0, 0.0, 0.0, 0.0]\n"
     ]
    }
   ],
   "source": [
    "all_AD_names = []\n",
    "for star in star_names:\n",
    "    alt_names = Simbad.query_objectids(star)\n",
    "    alt_names = np.array(alt_names[\"ID\"])\n",
    "    \n",
    "    alt_names_nospaces = [star, ]\n",
    "    for item in alt_names:\n",
    "        #print(item)\n",
    "        new = item.replace(\" \", \"\")\n",
    "        #print(new)\n",
    "        alt_names_nospaces.append(new)\n",
    "        if new[:2]==\"GJ\":\n",
    "            gl = new.replace(\"J\", \"l\")\n",
    "            alt_names_nospaces.append(gl)\n",
    "    #print alt_names_nospaces\n",
    "    #print np.array(catalog[0][\"Name\"])\n",
    "    \n",
    "    name = np.intersect1d(alt_names_nospaces, np.array(catalog[0][\"Name\"]))\n",
    "    if len(name) == 0:\n",
    "        name = [\"nan\"]\n",
    "        all_AD_names.append(name)\n",
    "    else:\n",
    "        all_AD_names.append(name)\n",
    "        \n",
    "all_AD_names = np.array(all_AD_names).flatten()\n",
    "#print(all_AD_names)\n",
    "\n",
    "all_AD_logRHK = []\n",
    "all_AD_logRHK_err = []\n",
    "all_AD_S = []\n",
    "all_AD_S_err = []\n",
    "\n",
    "for target in all_AD_names:\n",
    "    target = target[0]\n",
    "    #print(target)\n",
    "    if target in np.array(catalog[0][\"Name\"]):\n",
    "        #print(target)\n",
    "        AD_logRHK = catalog[0][\"log_R_HK_\"][catalog[0][\"Name\"]==target][0]\n",
    "        AD_logRHK_err = catalog[0][\"e_log_R_HK_\"][catalog[0][\"Name\"]==target][0]\n",
    "        AD_S = catalog[0][\"S\"][catalog[0][\"Name\"]==target][0]\n",
    "        AD_S_err = catalog[0][\"e_S\"][catalog[0][\"Name\"]==target][0] \n",
    "    else: \n",
    "        #print(\"Not available: \", target)\n",
    "        AD_logRHK = 0.0\n",
    "        AD_logRHK_err = 0.0\n",
    "        AD_S = 0.0\n",
    "        AD_S_err = 0.0\n",
    "        \n",
    "    all_AD_logRHK.append(AD_logRHK)\n",
    "    all_AD_logRHK_err.append(AD_logRHK_err)\n",
    "    all_AD_S.append(AD_S)\n",
    "    all_AD_S_err.append(AD_S_err)\n",
    "\n",
    "print(all_AD_logRHK)\n",
    "print(all_AD_S)"
   ]
  },
  {
   "cell_type": "code",
   "execution_count": 20,
   "metadata": {
    "collapsed": true
   },
   "outputs": [],
   "source": [
    "ad = np.column_stack((all_AD_logRHK, all_AD_logRHK_err, all_AD_S, all_AD_S_err))\n",
    "np.savetxt(\"Comparisons/AstudilloDefru.txt\", ad)"
   ]
  },
  {
   "cell_type": "code",
   "execution_count": null,
   "metadata": {
    "collapsed": true
   },
   "outputs": [],
   "source": []
  }
 ],
 "metadata": {
  "kernelspec": {
   "display_name": "Python 2",
   "language": "python",
   "name": "python2"
  },
  "language_info": {
   "codemirror_mode": {
    "name": "ipython",
    "version": 2
   },
   "file_extension": ".py",
   "mimetype": "text/x-python",
   "name": "python",
   "nbconvert_exporter": "python",
   "pygments_lexer": "ipython2",
   "version": "2.7.12"
  }
 },
 "nbformat": 4,
 "nbformat_minor": 0
}
