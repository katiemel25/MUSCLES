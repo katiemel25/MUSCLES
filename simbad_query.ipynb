{
 "cells": [
  {
   "cell_type": "code",
   "execution_count": 3,
   "metadata": {
    "collapsed": false
   },
   "outputs": [],
   "source": [
    "from astroquery.simbad import Simbad\n",
    "import numpy as np\n",
    "from astropy.io import ascii\n",
    "from astropy.table import Table"
   ]
  },
  {
   "cell_type": "markdown",
   "metadata": {},
   "source": [
    "# Simbad Query\n",
    "\n",
    "**For data values**"
   ]
  },
  {
   "cell_type": "code",
   "execution_count": 4,
   "metadata": {
    "collapsed": false
   },
   "outputs": [
    {
     "name": "stdout",
     "output_type": "stream",
     "text": [
      "['GJ176' 'GJ667C' 'GJ581' 'GJ1214' 'GJ832' 'GJ876' 'GJ436' 'GJ628' 'GJ887'\n",
      " 'GJ1061' 'HD173739' 'GSC8056-0482' '2MASSJ02543316-5108313'\n",
      " '2MASSJ02001277-0840516' 'G75-55' '2MASSJ22025453-6440441'\n",
      " '2MASSJ00240899-6211042' '2MASSJ01521830-5950168' '2MASSJ03315564-4359135'\n",
      " '2MASSJ23261069-7323498' '2MASSJ23285763-6802338' '2MASSJ00393579-3816584'\n",
      " 'GJ173' 'GJ3290' 'LP415-1619' 'LP5-282' '2MASSJ02001277-0840516'\n",
      " '2MASSJ04223953+1816097' '2MASSJ04184702+1321585' 'TYC1265-1118-1'\n",
      " '2MASSJ02125819-5851182' 'GJ3997' '2MASSJ22463471-7353504' 'GJ4334' 'GJ49'\n",
      " 'GJ871.1A' 'LP247-13' 'G80-21' 'CD-571054' 'CD-352722' 'GJ410' 'LP55-41'\n",
      " 'G249-11' 'G111-72' 'GJ213' 'GJ4304' 'GJ821' 'GJ191' 'LHS26' 'LHS353'\n",
      " 'GJ754.1B' 'GJ388' 'GJ803' 'GJ873' 'GJ551' 'GJ1132' 'GJ3470' 'K2-25'\n",
      " 'GJ1243' 'TWA13A' 'TWA13B' 'TWA7' 'LHS2065' 'LHS3003' 'GJ285' 'GJ752B'\n",
      " 'GJ644C' 'GJ3053' 'TRAPPIST-1' 'GJ676A' 'GJ15A' 'GJ649' 'GJ163' 'GJ849'\n",
      " 'GJ674' 'GJ699' 'L980-5' 'LP756-18' 'LHS2686' 'GJ729' 'K2-3' 'Ross1044'\n",
      " 'Ross825' 'GJ273' 'GJ860A' 'GJ205' 'GJ588' 'GJ338A' 'GJ644A' 'GJ411'\n",
      " '2MASSJ04483062+1623187' '2MASSJ04235911+1643178' '2MASSJ04251456+1858250'\n",
      " '2MASSJ04202761+1853499' '2MASSJ04172811+1454038' '2MASSJ02564122+3522346'\n",
      " '2MASSJ03553690+2118482' '2MASSJ03555715+1825564' '2MASSJ03581434+1237408'\n",
      " '2MASSJ04004493+1354227' '2MASSJ04062060+1901391' '2MASSJ04183382+1821529'\n",
      " '2MASSJ04262170+1800009' '2MASSJ04290015+1620467' '2MASSJ04214955+1929086'\n",
      " '2MASSJ04110642+1247481' '2MASSJ04254182+1900477']\n",
      "[  2.60000000e+01   6.10000000e+00  -9.80000000e+00   1.60000000e+01\n",
      "   1.28000000e+01  -2.10000000e+00   1.00000000e+01  -2.16000000e+01\n",
      "   9.50000000e+00   7.00000000e-01  -1.07000000e+00   1.20000000e+01\n",
      "   1.38000000e+01   4.50000000e+00   0.00000000e+00   2.20000000e+00\n",
      "   6.10000000e+00   1.03000000e+01   1.51000000e+01   9.20000000e+00\n",
      "   8.00000000e+00   3.30000000e+00  -6.63600000e+00   0.00000000e+00\n",
      "   5.51030000e+04   0.00000000e+00   4.50000000e+00   0.00000000e+00\n",
      "   0.00000000e+00   0.00000000e+00   9.10000000e+00   0.00000000e+00\n",
      "   9.10000000e+00  -4.00000000e+01  -6.56000000e+00   2.75000000e+01\n",
      "   3.14000000e+01  -1.38530000e+01   0.00000000e+00   0.00000000e+00\n",
      "   0.00000000e+00   1.05830000e+02   0.00000000e+00  -5.82700000e+01\n",
      "   2.45190000e+02   2.90000000e+01   2.57620000e+01   3.85130000e+01\n",
      "   1.25000000e+01  -4.50000000e+00  -2.24000000e+01  -4.00500000e+00\n",
      "   4.29180000e+01   3.86400000e+01  -1.13800000e+01   1.13000000e+01\n",
      "   1.16000000e+01   1.14000000e+01   7.00000000e+00   1.00000000e+00\n",
      "   2.65300000e+01   2.90000000e+01   1.53900000e+01   1.18000000e+00\n",
      "  -5.40000000e+01  -3.90800000e+01   1.16200000e+01   4.38000000e+00\n",
      "   5.81000000e+01  -1.52600000e+01  -2.73000000e+00  -1.10510000e+02\n",
      "   0.00000000e+00   9.12541000e+02  -1.00000000e+01  -1.05000000e+01\n",
      "   3.26000000e+01  -1.74000000e+02              nan   1.82200000e+01\n",
      "   0.00000000e+00   8.67000000e+00   1.55000000e+01   1.11400000e+01\n",
      "   1.48900000e+01              nan   0.00000000e+00   0.00000000e+00\n",
      "   0.00000000e+00   0.00000000e+00   0.00000000e+00   0.00000000e+00\n",
      "   0.00000000e+00   0.00000000e+00   0.00000000e+00   0.00000000e+00\n",
      "   0.00000000e+00   0.00000000e+00   0.00000000e+00   0.00000000e+00\n",
      "   0.00000000e+00   0.00000000e+00   0.00000000e+00]\n"
     ]
    }
   ],
   "source": [
    "star_names = np.genfromtxt(\"star_names.txt\", dtype='str')#, missing_values = ('nan'), filling_values=(np.nan)), invalid_raise=False)\n",
    "print(star_names)\n",
    "\n",
    "#Simbad.list_votable_fields()\n",
    "#Simbad.get_field_description(\"flux_error(filtername)\")\n",
    "\n",
    "#alt_names = Simbad.query_objectids(\"GJ176\")\n",
    "#print(np.array(alt_names[\"ID\"]))\n",
    "\n",
    "all_stars = np.genfromtxt(\"RVs.txt\", dtype='str', usecols=0, skip_header=2)\n",
    "all_stars_rvs = np.genfromtxt(\"RVs.txt\", usecols=1, skip_header=2)\n",
    "\n",
    "mask = np.in1d(all_stars, star_names)\n",
    "short_rvs = all_stars_rvs[mask]\n",
    "#print all_stars\n",
    "#print all_stars_rvs\n",
    "print short_rvs\n",
    "\n",
    "customSimbad = Simbad()\n",
    "customSimbad.add_votable_fields(\"fluxdata(I)\", \"fluxdata(K)\", \"fluxdata(V)\", \"rv_value\", \"velocity\", \"distance\")\n",
    "#print customSimbad.get_votable_fields()"
   ]
  },
  {
   "cell_type": "code",
   "execution_count": 5,
   "metadata": {
    "collapsed": false
   },
   "outputs": [
    {
     "name": "stdout",
     "output_type": "stream",
     "text": [
      "['04425581+1857285', '17185868-3459483', '15192689-0743200', '17151894+0457496', '21333397-4900323', '22531672-1415489', '11421096+2642251', '16301808-1239434', '23055131-3551130', '03355969-4430453', '18424666+5937499', '02365171-5203036', '02543316-5108313', '02001277-0840516', '02582009-0059330', '22025453-6440441', '00240899-6211042', '01521830-5950168', '03315564-4359135', '23261069-7323498', '23285763-6802338', '00393579-3816584', '04374188-1102198', '04271663+1714305', '04363893+1836567', '04225989+1318585', '02001277-0840516', '04223953+1816097', '04184702+1321585', '04260470+1502288', '02125819-5851182', '17155010+1900000', '22463471-7353504', '23254016+5308056', '01023895+6220422', '22445794-3315015', '03153783+3724143', '03472333-0158195', '05004714-5715255', '06091922-3549311', '11023832+2158017', '05020507+6827253', '05304035+6854079', '08200425+3834415', '05420897+1229252', '22555682+0545179', '21091740-1318080', '05114046-4501051', '04311147+5858375', '13300285-0842251', '19203346-0739435', '10193634+1952122', '20450949-3120266', '22464980+4420030', '14294291-6240465', '10145184-4709244', '07590587+1523294', '04130560+1514520', '19510930+4628598', '11211723-3446454', '11211745-3446497', '10423011-3340162', 'J0853361-032931', 'J1456383-280947', '07444018+0333089', '19165762+0509021', '16553529-0823401', '00445930-1516166', 'J2306292-050227', '17301119-5138132', '00182256+4401222', '16580884+2544392', '04091567-5322254', '22094029-0438267', '17283991-4653424', '17574849+0441405', '14211512-0107199', '20553706-1403545', '13101268+4745190', '18494929-2350101', '11292037-0127173', '15032457+0346574', '21111696+3331272', '07272450+0513329', 'nan', '05312734-0340356', '15321302-4116314', '09142298+5241125', '16552880-0820103', '11032023+3558117', '04483062+1623187', '04235911+1643178', '04251456+1858250', '04202761+1853499', '04172811+1454038', '02564122+3522346', '03553690+2118482', '03555715+1825564', '03581434+1237408', '04004493+1354227', '04062060+1901391', '04183382+1821529', '04262170+1800009', '04290015+1620467', '04214955+1929086', '04110642+1247481', '04254182+1900477']\n",
      "107\n"
     ]
    }
   ],
   "source": [
    "#all_i_flux = []\n",
    "#all_i_err = []\n",
    "all_k_flux = []\n",
    "all_k_err = []\n",
    "all_v_flux = []\n",
    "all_v_err = []\n",
    "#all_dists = []\n",
    "\n",
    "all_2mass = []\n",
    "\n",
    "for star in star_names:\n",
    "    #print(star)\n",
    "    table = customSimbad.query_object(star)\n",
    "    #print table.dtype.names\n",
    "    \n",
    "    #i_flux = table[\"FLUX_I\"][0]\n",
    "    #i_err = table[\"FLUX_ERROR_I\"][0]\n",
    "    v_flux = table[\"FLUX_V\"][0]\n",
    "    v_err = table[\"FLUX_ERROR_V\"][0]\n",
    "    k_flux = table[\"FLUX_K\"][0]\n",
    "    k_err = table[\"FLUX_ERROR_K\"][0]\n",
    "    #dist = table[\"Distance_distance\"][0]\n",
    "    #dist_unit = table[\"Distance_unit\"][0]\n",
    "    #print dist, dist_unit\n",
    "    \n",
    "    #if dist_unit != \"pc\":\n",
    "        #print(star, dist_unit)\n",
    "    \n",
    "    alt_names = Simbad.query_objectids(star)\n",
    "    if any(name[:5] == \"2MASS\" for name in np.array(alt_names[\"ID\"])):\n",
    "        for i in range(len(alt_names[\"ID\"])):\n",
    "            #print alt_names[\"ID\"][i][:5]\n",
    "            if alt_names[i][0][:5] == \"2MASS\":\n",
    "                _2mass = alt_names[\"ID\"][i][7:]\n",
    "                #print _2mass\n",
    "    else:\n",
    "        _2mass = \"nan\"\n",
    "    \n",
    "    #all_i_flux.append(i_flux)\n",
    "    #all_i_err.append(i_err)\n",
    "    all_v_flux.append(v_flux)\n",
    "    all_v_err.append(v_err)\n",
    "    all_k_flux.append(k_flux)\n",
    "    all_k_err.append(k_err)\n",
    "    \n",
    "    all_2mass.append(_2mass)\n",
    "\n",
    "print(all_2mass)\n",
    "print(len(all_2mass))"
   ]
  },
  {
   "cell_type": "code",
   "execution_count": 6,
   "metadata": {
    "collapsed": false
   },
   "outputs": [
    {
     "name": "stdout",
     "output_type": "stream",
     "text": [
      "('MAIN_ID', 'RA', 'DEC', 'RA_PREC', 'DEC_PREC', 'COO_ERR_MAJA', 'COO_ERR_MINA', 'COO_ERR_ANGLE', 'COO_QUAL', 'COO_WAVELENGTH', 'COO_BIBCODE', 'FILTER_NAME_I', 'FLUX_I', 'FLUX_ERROR_I', 'FLUX_SYSTEM_I', 'FLUX_BIBCODE_I', 'FLUX_VAR_I', 'FLUX_MULT_I', 'FLUX_QUAL_I', 'FLUX_UNIT_I', 'FILTER_NAME_K', 'FLUX_K', 'FLUX_ERROR_K', 'FLUX_SYSTEM_K', 'FLUX_BIBCODE_K', 'FLUX_VAR_K', 'FLUX_MULT_K', 'FLUX_QUAL_K', 'FLUX_UNIT_K', 'FILTER_NAME_V', 'FLUX_V', 'FLUX_ERROR_V', 'FLUX_SYSTEM_V', 'FLUX_BIBCODE_V', 'FLUX_VAR_V', 'FLUX_MULT_V', 'FLUX_QUAL_V', 'FLUX_UNIT_V', 'RV_VALUE', 'RVZ_TYPE', 'RVZ_RADVEL', 'RVZ_ERROR', 'RVZ_QUAL', 'RVZ_WAVELENGTH', 'RVZ_BIBCODE', 'Distance_distance', 'Distance_Q', 'Distance_unit', 'Distance_merr', 'Distance_perr', 'Distance_method', 'Distance_bibcode')\n"
     ]
    }
   ],
   "source": [
    "#Simbad.list_votable_fields()\n",
    "#Simbad.get_field_description(\"rvz_type\")\n",
    "\n",
    "table = customSimbad.query_object(\"GJ176\")\n",
    "#print(table[\"Distance_distance\"][0])\n",
    "print table.dtype.names"
   ]
  },
  {
   "cell_type": "code",
   "execution_count": 7,
   "metadata": {
    "collapsed": false
   },
   "outputs": [],
   "source": [
    "#all_k_err = np.nan_to_num(np.array(all_k_err).flatten())\n",
    "#all_v_err = np.nan_to_num(np.array(all_v_err).flatten())"
   ]
  },
  {
   "cell_type": "code",
   "execution_count": 8,
   "metadata": {
    "collapsed": false
   },
   "outputs": [
    {
     "name": "stderr",
     "output_type": "stream",
     "text": [
      "/Users/katiemel/anaconda/lib/python2.7/site-packages/numpy/ma/core.py:4185: UserWarning: Warning: converting a masked element to nan.\n",
      "  warnings.warn(\"Warning: converting a masked element to nan.\")\n"
     ]
    }
   ],
   "source": [
    "output = np.column_stack((np.nan_to_num(all_k_flux), np.nan_to_num(all_k_err), \n",
    "                          np.nan_to_num(all_v_flux), np.nan_to_num(all_v_err)))\n",
    "np.savetxt(\"photometry.txt\", output)\n",
    "#output_RVs_dists = np.column_stack((, np.nan_to_num(all_dists)))\n",
    "np.savetxt(\"RVs.txt\", short_rvs)"
   ]
  },
  {
   "cell_type": "code",
   "execution_count": 9,
   "metadata": {
    "collapsed": false
   },
   "outputs": [
    {
     "name": "stdout",
     "output_type": "stream",
     "text": [
      "Stars missing K band magnitudes: \n",
      "GJ860A\n",
      "Stars missing V band magnitudes: \n",
      "\n",
      " \n",
      "Stars missing RV values: \n",
      "G75-55\n",
      "GJ3290\n",
      "LP5-282\n",
      "2MASSJ04223953+1816097\n",
      "2MASSJ04184702+1321585\n",
      "TYC1265-1118-1\n",
      "GJ3997\n",
      "CD-571054\n",
      "CD-352722\n",
      "GJ410\n",
      "G249-11\n",
      "GJ163\n",
      "K2-3\n",
      "GJ588\n",
      "GJ338A\n",
      "GJ644A\n",
      "GJ411\n",
      "2MASSJ04483062+1623187\n",
      "2MASSJ04235911+1643178\n",
      "2MASSJ04251456+1858250\n",
      "2MASSJ04202761+1853499\n",
      "2MASSJ04172811+1454038\n",
      "2MASSJ02564122+3522346\n",
      "2MASSJ03553690+2118482\n",
      "2MASSJ03555715+1825564\n",
      "2MASSJ03581434+1237408\n",
      "2MASSJ04004493+1354227\n",
      "2MASSJ04062060+1901391\n",
      "2MASSJ04183382+1821529\n",
      "2MASSJ04262170+1800009\n"
     ]
    },
    {
     "ename": "IndexError",
     "evalue": "index 103 is out of bounds for axis 0 with size 103",
     "output_type": "error",
     "traceback": [
      "\u001b[0;31m---------------------------------------------------------------------------\u001b[0m",
      "\u001b[0;31mIndexError\u001b[0m                                Traceback (most recent call last)",
      "\u001b[0;32m<ipython-input-9-d93c09331acd>\u001b[0m in \u001b[0;36m<module>\u001b[0;34m()\u001b[0m\n\u001b[1;32m     22\u001b[0m \u001b[0;32mprint\u001b[0m\u001b[0;34m(\u001b[0m\u001b[0;34m\"Stars missing RV values: \"\u001b[0m\u001b[0;34m)\u001b[0m\u001b[0;34m\u001b[0m\u001b[0m\n\u001b[1;32m     23\u001b[0m \u001b[0;32mfor\u001b[0m \u001b[0mi\u001b[0m \u001b[0;32min\u001b[0m \u001b[0mrange\u001b[0m\u001b[0;34m(\u001b[0m\u001b[0mlen\u001b[0m\u001b[0;34m(\u001b[0m\u001b[0mstar_names\u001b[0m\u001b[0;34m)\u001b[0m\u001b[0;34m)\u001b[0m\u001b[0;34m:\u001b[0m\u001b[0;34m\u001b[0m\u001b[0m\n\u001b[0;32m---> 24\u001b[0;31m     \u001b[0;32mif\u001b[0m \u001b[0mshort_rvs\u001b[0m\u001b[0;34m[\u001b[0m\u001b[0mi\u001b[0m\u001b[0;34m]\u001b[0m \u001b[0;34m==\u001b[0m \u001b[0;36m0.0\u001b[0m\u001b[0;34m:\u001b[0m\u001b[0;34m\u001b[0m\u001b[0m\n\u001b[0m\u001b[1;32m     25\u001b[0m         \u001b[0;32mprint\u001b[0m \u001b[0mstar_names\u001b[0m\u001b[0;34m[\u001b[0m\u001b[0mi\u001b[0m\u001b[0;34m]\u001b[0m\u001b[0;34m\u001b[0m\u001b[0m\n\u001b[1;32m     26\u001b[0m \u001b[0;34m\u001b[0m\u001b[0m\n",
      "\u001b[0;31mIndexError\u001b[0m: index 103 is out of bounds for axis 0 with size 103"
     ]
    }
   ],
   "source": [
    "#all_i_flux = np.nan_to_num(all_i_flux)\n",
    "all_k_flux = np.nan_to_num(all_k_flux)\n",
    "#all_rv = np.nan_to_num(all_rv)\n",
    "\n",
    "\"\"\"print(\"Stars missing I band magnitudes: \")\n",
    "for i in range(len(star_names)):\n",
    "    if all_i_flux[i] == 0.0:\n",
    "        print star_names[i]\"\"\"\n",
    "\n",
    "print(\"Stars missing K band magnitudes: \")\n",
    "for i in range(len(star_names)):\n",
    "    if all_k_flux[i] == 0.0:\n",
    "        print star_names[i]\n",
    "\n",
    "print(\"Stars missing V band magnitudes: \")\n",
    "for i in range(len(star_names)):\n",
    "    if all_v_flux[i] == 0.0:\n",
    "        print star_names[i]\n",
    "        \n",
    "print(\"\\n \")\n",
    "\n",
    "print(\"Stars missing RV values: \")\n",
    "for i in range(len(star_names)):\n",
    "    if short_rvs[i] == 0.0:\n",
    "        print star_names[i]\n",
    "        \n",
    "\"\"\"print(\"\\n \")\n",
    "\n",
    "print(\"Stars missing distance values: \")\n",
    "all_dists_nan = np.nan_to_num(all_dists)\n",
    "for i in range(len(star_names)):\n",
    "    if all_dists_nan[i] == 0.0:\n",
    "        print star_names[i]\"\"\""
   ]
  },
  {
   "cell_type": "code",
   "execution_count": null,
   "metadata": {
    "collapsed": false
   },
   "outputs": [],
   "source": [
    "print short_rvs\n",
    "print star_names"
   ]
  },
  {
   "cell_type": "markdown",
   "metadata": {},
   "source": [
    "# VizieR Query\n",
    "\n",
    "#### For comparison to Newton EW results"
   ]
  },
  {
   "cell_type": "code",
   "execution_count": null,
   "metadata": {
    "collapsed": true
   },
   "outputs": [],
   "source": [
    "from astroquery.vizier import Vizier\n",
    "Vizier.ROW_LIMIT = -1"
   ]
  },
  {
   "cell_type": "code",
   "execution_count": null,
   "metadata": {
    "collapsed": false
   },
   "outputs": [],
   "source": [
    "#catalog_list = Vizier.find_catalogs('Newton H alpha')\n",
    "#print({k:v.description for k,v in catalog_list.items()})\n",
    "\n",
    "#catalogs = Vizier.get_catalogs(catalog_list.keys())\n",
    "#print(catalogs)"
   ]
  },
  {
   "cell_type": "code",
   "execution_count": null,
   "metadata": {
    "collapsed": false
   },
   "outputs": [],
   "source": [
    "catalog = Vizier.get_catalogs('J/ApJ/834/85')\n",
    "print(np.array(catalog[0][\"_2MASS\"]))\n",
    "#print(catalog[0][\"EWHa\"][catalog[0][\"_2MASS\"]==\"00154919+1333218\"][0])\n",
    "#data['rhk_prime'][data['star']=='GJ176']"
   ]
  },
  {
   "cell_type": "code",
   "execution_count": null,
   "metadata": {
    "collapsed": false
   },
   "outputs": [],
   "source": [
    "result = Vizier.query_object(\"GJ176\", catalog='J/ApJ/834/85')['J/ApJ/834/85/table1']\n",
    "print(result.dtype.names)"
   ]
  },
  {
   "cell_type": "code",
   "execution_count": null,
   "metadata": {
    "collapsed": false
   },
   "outputs": [],
   "source": [
    "print(result['EWHa'][0])"
   ]
  },
  {
   "cell_type": "code",
   "execution_count": null,
   "metadata": {
    "collapsed": false
   },
   "outputs": [],
   "source": [
    "all_Newton_EW = []\n",
    "all_Newton_EW_err = []\n",
    "\n",
    "#subcat = np.nan_to_num(catalog[0])\n",
    "\n",
    "for name in all_2mass:\n",
    "    print name\n",
    "    if name in np.array(catalog[0][\"_2MASS\"]):\n",
    "        #result = Vizier.query_object(name, catalog='J/ApJ/834/85')['J/ApJ/834/85/table1']\n",
    "        Newton_EW = catalog[0][\"EWHa\"][catalog[0][\"_2MASS\"]==name][0] #result['EWHa'][0]\n",
    "        Newton_EW_err = catalog[0][\"e_EWHa\"][catalog[0][\"_2MASS\"]==name][0] #result['e_EWHa'][0]\n",
    "    else: \n",
    "        Newton_EW = 0.0\n",
    "        Newton_EW_err = 0.0\n",
    "    \n",
    "    all_Newton_EW.append(Newton_EW)\n",
    "    all_Newton_EW_err.append(Newton_EW_err)\n",
    "    \n",
    "print(all_Newton_EW)\n",
    "print(all_Newton_EW_err)"
   ]
  },
  {
   "cell_type": "code",
   "execution_count": null,
   "metadata": {
    "collapsed": false
   },
   "outputs": [],
   "source": [
    "newt = np.column_stack((all_Newton_EW, all_Newton_EW_err))\n",
    "np.savetxt(\"Comparisons/Newton.txt\", newt)"
   ]
  },
  {
   "cell_type": "markdown",
   "metadata": {},
   "source": [
    "#### For comparison to Astudillo-Defru CaII HK results"
   ]
  },
  {
   "cell_type": "code",
   "execution_count": null,
   "metadata": {
    "collapsed": false
   },
   "outputs": [],
   "source": [
    "catalog_list = Vizier.find_catalogs('astudillo-defru 2017 magnetic activity')\n",
    "print({k:v.description for k,v in catalog_list.items()})\n",
    "\n",
    "catalogs = Vizier.get_catalogs(catalog_list.keys())\n",
    "print(catalogs)"
   ]
  },
  {
   "cell_type": "code",
   "execution_count": null,
   "metadata": {
    "collapsed": false
   },
   "outputs": [],
   "source": [
    "catalog = Vizier.get_catalogs('J/A+A/600/A13')\n",
    "print(np.array(catalog[0][\"Name\"]))\n",
    "#print(np.array(catalog[0][\"Name\"]))\n",
    "#print(catalog[0][\"EWHa\"][catalog[0][\"_2MASS\"]==\"00154919+1333218\"][0])\n",
    "#data['rhk_prime'][data['star']=='GJ176']"
   ]
  },
  {
   "cell_type": "code",
   "execution_count": null,
   "metadata": {
    "collapsed": false
   },
   "outputs": [],
   "source": [
    "result = Vizier.query_object(\"GJ176\", catalog='J/A+A/600/A13')['J/A+A/600/A13/tablea3']\n",
    "print(result.dtype.names)"
   ]
  },
  {
   "cell_type": "code",
   "execution_count": null,
   "metadata": {
    "collapsed": false
   },
   "outputs": [],
   "source": [
    "all_AD_names = []\n",
    "for star in star_names:\n",
    "    alt_names = Simbad.query_objectids(star)\n",
    "    alt_names = np.array(alt_names[\"ID\"])\n",
    "    \n",
    "    alt_names_nospaces = [star, ]\n",
    "    for item in alt_names:\n",
    "        #print(item)\n",
    "        new = item.replace(\" \", \"\")\n",
    "        #print(new)\n",
    "        alt_names_nospaces.append(new)\n",
    "        if new[:2]==\"GJ\":\n",
    "            gl = new.replace(\"J\", \"l\")\n",
    "            alt_names_nospaces.append(gl)\n",
    "    #print alt_names_nospaces\n",
    "    #print np.array(catalog[0][\"Name\"])\n",
    "    \n",
    "    name = np.intersect1d(alt_names_nospaces, np.array(catalog[0][\"Name\"]))\n",
    "    if len(name) == 0:\n",
    "        name = [\"nan\"]\n",
    "        all_AD_names.append(name)\n",
    "    else:\n",
    "        all_AD_names.append(name)\n",
    "        \n",
    "all_AD_names = np.array(all_AD_names).flatten()\n",
    "#print(all_AD_names)\n",
    "\n",
    "all_AD_logRHK = []\n",
    "all_AD_logRHK_err = []\n",
    "all_AD_S = []\n",
    "all_AD_S_err = []\n",
    "\n",
    "for target in all_AD_names:\n",
    "    target = target[0]\n",
    "    #print(target)\n",
    "    if target in np.array(catalog[0][\"Name\"]):\n",
    "        #print(target)\n",
    "        AD_logRHK = catalog[0][\"log_R_HK_\"][catalog[0][\"Name\"]==target][0]\n",
    "        AD_logRHK_err = catalog[0][\"e_log_R_HK_\"][catalog[0][\"Name\"]==target][0]\n",
    "        AD_S = catalog[0][\"S\"][catalog[0][\"Name\"]==target][0]\n",
    "        AD_S_err = catalog[0][\"e_S\"][catalog[0][\"Name\"]==target][0] \n",
    "    else: \n",
    "        #print(\"Not available: \", target)\n",
    "        AD_logRHK = 0.0\n",
    "        AD_logRHK_err = 0.0\n",
    "        AD_S = 0.0\n",
    "        AD_S_err = 0.0\n",
    "        \n",
    "    all_AD_logRHK.append(AD_logRHK)\n",
    "    all_AD_logRHK_err.append(AD_logRHK_err)\n",
    "    all_AD_S.append(AD_S)\n",
    "    all_AD_S_err.append(AD_S_err)\n",
    "\n",
    "print(all_AD_logRHK)\n",
    "print(all_AD_S)"
   ]
  },
  {
   "cell_type": "code",
   "execution_count": null,
   "metadata": {
    "collapsed": true
   },
   "outputs": [],
   "source": [
    "ad = np.column_stack((all_AD_logRHK, all_AD_logRHK_err, all_AD_S, all_AD_S_err))\n",
    "np.savetxt(\"Comparisons/AstudilloDefru.txt\", ad)"
   ]
  },
  {
   "cell_type": "code",
   "execution_count": null,
   "metadata": {
    "collapsed": false
   },
   "outputs": [],
   "source": [
    "print(alt_names)"
   ]
  },
  {
   "cell_type": "code",
   "execution_count": null,
   "metadata": {
    "collapsed": true
   },
   "outputs": [],
   "source": []
  }
 ],
 "metadata": {
  "kernelspec": {
   "display_name": "Python 2",
   "language": "python",
   "name": "python2"
  },
  "language_info": {
   "codemirror_mode": {
    "name": "ipython",
    "version": 2
   },
   "file_extension": ".py",
   "mimetype": "text/x-python",
   "name": "python",
   "nbconvert_exporter": "python",
   "pygments_lexer": "ipython2",
   "version": "2.7.12"
  }
 },
 "nbformat": 4,
 "nbformat_minor": 0
}
